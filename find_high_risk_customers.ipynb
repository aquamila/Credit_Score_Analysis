{
 "cells": [
  {
   "cell_type": "markdown",
   "metadata": {},
   "source": [
    "# Find High-Risk Customers\n",
    "\n",
    "- [Introduction](#intro)\n",
    "- [Assessing Data](#step1)\n",
    "- [Cleaning Data](#step2)\n",
    "    - [1. Rename dob_years column](#step21)\n",
    "    - [2. Fixing inconsistent use of capitalization in 'education' column](#step22)\n",
    "    - [3. Processing missing values ('days_employed' and 'total_income' columns)](#step23)\n",
    "    - [4. Change data type of 'total_income' from float to int](#step24)\n",
    "    - [5. Processing duplicates](#step25)\n",
    "    - [6. Fixing unrealistic values in 'children' column](#step26)\n",
    "    - [7. Categorizing Data](#step27)\n",
    "- [Analyzing Data](#step3)\n",
    "- [General conclusion](#step4)"
   ]
  },
  {
   "cell_type": "markdown",
   "metadata": {},
   "source": [
    "<a id='intro'></a>\n",
    "## __Introduction__"
   ]
  },
  {
   "cell_type": "markdown",
   "metadata": {},
   "source": [
    "The subject of this analysis is a Credit Scoring dataset that describes 21,525 customers who took a loan in a bank.\n",
    "\n",
    "The main goal of the analysis is to find a connection between specific customers' features and repaying their loans on time. So the following questions will be investigated:\n",
    "\n",
    "- Is there a connection between having kids and repaying a loan on time?\n",
    "- Is there a connection between marital status and repaying a loan on time?\n",
    "- Is there a connection between income level and repaying a loan on time?\n",
    "- How do different loan purposes affect on-time loan repayment?\n",
    "\n",
    "#### Description of the data\n",
    "\n",
    "`children`: the number of children in the family\\\n",
    "`days_employed`: how long the customer has been working\\\n",
    "`dob_years`: the customer’s age\\\n",
    "`education`: the customer’s education level\\\n",
    "`education_id`: an identifier for the customer’s education\\\n",
    "`family_status`: the customer’s marital status\\\n",
    "`family_status_id`: an identifier for the customer’s marital status\\\n",
    "`gender`: the customer’s gender\\\n",
    "`income_type`: the customer’s income type\\\n",
    "`debt`: whether the customer has ever defaulted on a loan\\\n",
    "`total_income`: the customer’s income\\\n",
    "`purpose`: a reason for taking out a loan"
   ]
  },
  {
   "cell_type": "markdown",
   "metadata": {},
   "source": [
    "<a id='step1'><a>\n",
    "## __Assessing Data__"
   ]
  },
  {
   "cell_type": "code",
   "execution_count": null,
   "metadata": {},
   "outputs": [],
   "source": [
    "# import python packages and libraries\n",
    "\n",
    "import pandas as pd\n",
    "import numpy as np\n",
    "import scipy\n",
    "import nltk \n",
    "#from scipy.stats import chi2_contingency\n",
    "from nltk.corpus import stopwords\n",
    "from nltk.tokenize import word_tokenize\n",
    "from nltk.stem import WordNetLemmatizer\n",
    "from nltk.stem import SnowballStemmer \n",
    "import matplotlib.pyplot as plt\n",
    "import seaborn as sb\n",
    "from IPython.display import display\n",
    "pd.options.mode.chained_assignment = None\n",
    "\n",
    "%matplotlib inline"
   ]
  },
  {
   "cell_type": "code",
   "execution_count": 2,
   "metadata": {},
   "outputs": [],
   "source": [
    "# read credit_scoring_eng.csv file into `df` dataframe\n",
    "\n",
    "df = pd.read_csv('../datasets/credit_scoring_eng.csv')"
   ]
  },
  {
   "cell_type": "code",
   "execution_count": 3,
   "metadata": {},
   "outputs": [
    {
     "data": {
      "text/html": [
       "<div>\n",
       "<style scoped>\n",
       "    .dataframe tbody tr th:only-of-type {\n",
       "        vertical-align: middle;\n",
       "    }\n",
       "\n",
       "    .dataframe tbody tr th {\n",
       "        vertical-align: top;\n",
       "    }\n",
       "\n",
       "    .dataframe thead th {\n",
       "        text-align: right;\n",
       "    }\n",
       "</style>\n",
       "<table border=\"1\" class=\"dataframe\">\n",
       "  <thead>\n",
       "    <tr style=\"text-align: right;\">\n",
       "      <th></th>\n",
       "      <th>children</th>\n",
       "      <th>days_employed</th>\n",
       "      <th>dob_years</th>\n",
       "      <th>education</th>\n",
       "      <th>education_id</th>\n",
       "      <th>family_status</th>\n",
       "      <th>family_status_id</th>\n",
       "      <th>gender</th>\n",
       "      <th>income_type</th>\n",
       "      <th>debt</th>\n",
       "      <th>total_income</th>\n",
       "      <th>purpose</th>\n",
       "    </tr>\n",
       "  </thead>\n",
       "  <tbody>\n",
       "    <tr>\n",
       "      <th>0</th>\n",
       "      <td>1</td>\n",
       "      <td>-8437.673028</td>\n",
       "      <td>42</td>\n",
       "      <td>bachelor's degree</td>\n",
       "      <td>0</td>\n",
       "      <td>married</td>\n",
       "      <td>0</td>\n",
       "      <td>F</td>\n",
       "      <td>employee</td>\n",
       "      <td>0</td>\n",
       "      <td>40620.102</td>\n",
       "      <td>purchase of the house</td>\n",
       "    </tr>\n",
       "    <tr>\n",
       "      <th>1</th>\n",
       "      <td>1</td>\n",
       "      <td>-4024.803754</td>\n",
       "      <td>36</td>\n",
       "      <td>secondary education</td>\n",
       "      <td>1</td>\n",
       "      <td>married</td>\n",
       "      <td>0</td>\n",
       "      <td>F</td>\n",
       "      <td>employee</td>\n",
       "      <td>0</td>\n",
       "      <td>17932.802</td>\n",
       "      <td>car purchase</td>\n",
       "    </tr>\n",
       "    <tr>\n",
       "      <th>2</th>\n",
       "      <td>0</td>\n",
       "      <td>-5623.422610</td>\n",
       "      <td>33</td>\n",
       "      <td>Secondary Education</td>\n",
       "      <td>1</td>\n",
       "      <td>married</td>\n",
       "      <td>0</td>\n",
       "      <td>M</td>\n",
       "      <td>employee</td>\n",
       "      <td>0</td>\n",
       "      <td>23341.752</td>\n",
       "      <td>purchase of the house</td>\n",
       "    </tr>\n",
       "    <tr>\n",
       "      <th>3</th>\n",
       "      <td>3</td>\n",
       "      <td>-4124.747207</td>\n",
       "      <td>32</td>\n",
       "      <td>secondary education</td>\n",
       "      <td>1</td>\n",
       "      <td>married</td>\n",
       "      <td>0</td>\n",
       "      <td>M</td>\n",
       "      <td>employee</td>\n",
       "      <td>0</td>\n",
       "      <td>42820.568</td>\n",
       "      <td>supplementary education</td>\n",
       "    </tr>\n",
       "    <tr>\n",
       "      <th>4</th>\n",
       "      <td>0</td>\n",
       "      <td>340266.072047</td>\n",
       "      <td>53</td>\n",
       "      <td>secondary education</td>\n",
       "      <td>1</td>\n",
       "      <td>civil partnership</td>\n",
       "      <td>1</td>\n",
       "      <td>F</td>\n",
       "      <td>retiree</td>\n",
       "      <td>0</td>\n",
       "      <td>25378.572</td>\n",
       "      <td>to have a wedding</td>\n",
       "    </tr>\n",
       "    <tr>\n",
       "      <th>5</th>\n",
       "      <td>0</td>\n",
       "      <td>-926.185831</td>\n",
       "      <td>27</td>\n",
       "      <td>bachelor's degree</td>\n",
       "      <td>0</td>\n",
       "      <td>civil partnership</td>\n",
       "      <td>1</td>\n",
       "      <td>M</td>\n",
       "      <td>business</td>\n",
       "      <td>0</td>\n",
       "      <td>40922.170</td>\n",
       "      <td>purchase of the house</td>\n",
       "    </tr>\n",
       "    <tr>\n",
       "      <th>6</th>\n",
       "      <td>0</td>\n",
       "      <td>-2879.202052</td>\n",
       "      <td>43</td>\n",
       "      <td>bachelor's degree</td>\n",
       "      <td>0</td>\n",
       "      <td>married</td>\n",
       "      <td>0</td>\n",
       "      <td>F</td>\n",
       "      <td>business</td>\n",
       "      <td>0</td>\n",
       "      <td>38484.156</td>\n",
       "      <td>housing transactions</td>\n",
       "    </tr>\n",
       "    <tr>\n",
       "      <th>7</th>\n",
       "      <td>0</td>\n",
       "      <td>-152.779569</td>\n",
       "      <td>50</td>\n",
       "      <td>SECONDARY EDUCATION</td>\n",
       "      <td>1</td>\n",
       "      <td>married</td>\n",
       "      <td>0</td>\n",
       "      <td>M</td>\n",
       "      <td>employee</td>\n",
       "      <td>0</td>\n",
       "      <td>21731.829</td>\n",
       "      <td>education</td>\n",
       "    </tr>\n",
       "    <tr>\n",
       "      <th>8</th>\n",
       "      <td>2</td>\n",
       "      <td>-6929.865299</td>\n",
       "      <td>35</td>\n",
       "      <td>BACHELOR'S DEGREE</td>\n",
       "      <td>0</td>\n",
       "      <td>civil partnership</td>\n",
       "      <td>1</td>\n",
       "      <td>F</td>\n",
       "      <td>employee</td>\n",
       "      <td>0</td>\n",
       "      <td>15337.093</td>\n",
       "      <td>having a wedding</td>\n",
       "    </tr>\n",
       "    <tr>\n",
       "      <th>9</th>\n",
       "      <td>0</td>\n",
       "      <td>-2188.756445</td>\n",
       "      <td>41</td>\n",
       "      <td>secondary education</td>\n",
       "      <td>1</td>\n",
       "      <td>married</td>\n",
       "      <td>0</td>\n",
       "      <td>M</td>\n",
       "      <td>employee</td>\n",
       "      <td>0</td>\n",
       "      <td>23108.150</td>\n",
       "      <td>purchase of the house for my family</td>\n",
       "    </tr>\n",
       "  </tbody>\n",
       "</table>\n",
       "</div>"
      ],
      "text/plain": [
       "   children  days_employed  dob_years            education  education_id  \\\n",
       "0         1   -8437.673028         42    bachelor's degree             0   \n",
       "1         1   -4024.803754         36  secondary education             1   \n",
       "2         0   -5623.422610         33  Secondary Education             1   \n",
       "3         3   -4124.747207         32  secondary education             1   \n",
       "4         0  340266.072047         53  secondary education             1   \n",
       "5         0    -926.185831         27    bachelor's degree             0   \n",
       "6         0   -2879.202052         43    bachelor's degree             0   \n",
       "7         0    -152.779569         50  SECONDARY EDUCATION             1   \n",
       "8         2   -6929.865299         35    BACHELOR'S DEGREE             0   \n",
       "9         0   -2188.756445         41  secondary education             1   \n",
       "\n",
       "       family_status  family_status_id gender income_type  debt  total_income  \\\n",
       "0            married                 0      F    employee     0     40620.102   \n",
       "1            married                 0      F    employee     0     17932.802   \n",
       "2            married                 0      M    employee     0     23341.752   \n",
       "3            married                 0      M    employee     0     42820.568   \n",
       "4  civil partnership                 1      F     retiree     0     25378.572   \n",
       "5  civil partnership                 1      M    business     0     40922.170   \n",
       "6            married                 0      F    business     0     38484.156   \n",
       "7            married                 0      M    employee     0     21731.829   \n",
       "8  civil partnership                 1      F    employee     0     15337.093   \n",
       "9            married                 0      M    employee     0     23108.150   \n",
       "\n",
       "                               purpose  \n",
       "0                purchase of the house  \n",
       "1                         car purchase  \n",
       "2                purchase of the house  \n",
       "3              supplementary education  \n",
       "4                    to have a wedding  \n",
       "5                purchase of the house  \n",
       "6                 housing transactions  \n",
       "7                            education  \n",
       "8                     having a wedding  \n",
       "9  purchase of the house for my family  "
      ]
     },
     "execution_count": 3,
     "metadata": {},
     "output_type": "execute_result"
    }
   ],
   "source": [
    "# get the first 10 rows of the dataset\n",
    "\n",
    "df.head(10)"
   ]
  },
  {
   "cell_type": "code",
   "execution_count": null,
   "metadata": {},
   "outputs": [],
   "source": []
  },
  {
   "cell_type": "code",
   "execution_count": 4,
   "metadata": {},
   "outputs": [
    {
     "data": {
      "text/html": [
       "<div>\n",
       "<style scoped>\n",
       "    .dataframe tbody tr th:only-of-type {\n",
       "        vertical-align: middle;\n",
       "    }\n",
       "\n",
       "    .dataframe tbody tr th {\n",
       "        vertical-align: top;\n",
       "    }\n",
       "\n",
       "    .dataframe thead th {\n",
       "        text-align: right;\n",
       "    }\n",
       "</style>\n",
       "<table border=\"1\" class=\"dataframe\">\n",
       "  <thead>\n",
       "    <tr style=\"text-align: right;\">\n",
       "      <th></th>\n",
       "      <th>children</th>\n",
       "      <th>days_employed</th>\n",
       "      <th>dob_years</th>\n",
       "      <th>education</th>\n",
       "      <th>education_id</th>\n",
       "      <th>family_status</th>\n",
       "      <th>family_status_id</th>\n",
       "      <th>gender</th>\n",
       "      <th>income_type</th>\n",
       "      <th>debt</th>\n",
       "      <th>total_income</th>\n",
       "      <th>purpose</th>\n",
       "    </tr>\n",
       "  </thead>\n",
       "  <tbody>\n",
       "    <tr>\n",
       "      <th>21515</th>\n",
       "      <td>1</td>\n",
       "      <td>-467.685130</td>\n",
       "      <td>28</td>\n",
       "      <td>secondary education</td>\n",
       "      <td>1</td>\n",
       "      <td>married</td>\n",
       "      <td>0</td>\n",
       "      <td>F</td>\n",
       "      <td>employee</td>\n",
       "      <td>1</td>\n",
       "      <td>17517.812</td>\n",
       "      <td>to become educated</td>\n",
       "    </tr>\n",
       "    <tr>\n",
       "      <th>21516</th>\n",
       "      <td>0</td>\n",
       "      <td>-914.391429</td>\n",
       "      <td>42</td>\n",
       "      <td>bachelor's degree</td>\n",
       "      <td>0</td>\n",
       "      <td>married</td>\n",
       "      <td>0</td>\n",
       "      <td>F</td>\n",
       "      <td>business</td>\n",
       "      <td>0</td>\n",
       "      <td>51649.244</td>\n",
       "      <td>purchase of my own house</td>\n",
       "    </tr>\n",
       "    <tr>\n",
       "      <th>21517</th>\n",
       "      <td>0</td>\n",
       "      <td>-404.679034</td>\n",
       "      <td>42</td>\n",
       "      <td>bachelor's degree</td>\n",
       "      <td>0</td>\n",
       "      <td>civil partnership</td>\n",
       "      <td>1</td>\n",
       "      <td>F</td>\n",
       "      <td>business</td>\n",
       "      <td>0</td>\n",
       "      <td>28489.529</td>\n",
       "      <td>buying my own car</td>\n",
       "    </tr>\n",
       "    <tr>\n",
       "      <th>21518</th>\n",
       "      <td>0</td>\n",
       "      <td>373995.710838</td>\n",
       "      <td>59</td>\n",
       "      <td>SECONDARY EDUCATION</td>\n",
       "      <td>1</td>\n",
       "      <td>married</td>\n",
       "      <td>0</td>\n",
       "      <td>F</td>\n",
       "      <td>retiree</td>\n",
       "      <td>0</td>\n",
       "      <td>24618.344</td>\n",
       "      <td>purchase of a car</td>\n",
       "    </tr>\n",
       "    <tr>\n",
       "      <th>21519</th>\n",
       "      <td>1</td>\n",
       "      <td>-2351.431934</td>\n",
       "      <td>37</td>\n",
       "      <td>graduate degree</td>\n",
       "      <td>4</td>\n",
       "      <td>divorced</td>\n",
       "      <td>3</td>\n",
       "      <td>M</td>\n",
       "      <td>employee</td>\n",
       "      <td>0</td>\n",
       "      <td>18551.846</td>\n",
       "      <td>buy commercial real estate</td>\n",
       "    </tr>\n",
       "    <tr>\n",
       "      <th>21520</th>\n",
       "      <td>1</td>\n",
       "      <td>-4529.316663</td>\n",
       "      <td>43</td>\n",
       "      <td>secondary education</td>\n",
       "      <td>1</td>\n",
       "      <td>civil partnership</td>\n",
       "      <td>1</td>\n",
       "      <td>F</td>\n",
       "      <td>business</td>\n",
       "      <td>0</td>\n",
       "      <td>35966.698</td>\n",
       "      <td>housing transactions</td>\n",
       "    </tr>\n",
       "    <tr>\n",
       "      <th>21521</th>\n",
       "      <td>0</td>\n",
       "      <td>343937.404131</td>\n",
       "      <td>67</td>\n",
       "      <td>secondary education</td>\n",
       "      <td>1</td>\n",
       "      <td>married</td>\n",
       "      <td>0</td>\n",
       "      <td>F</td>\n",
       "      <td>retiree</td>\n",
       "      <td>0</td>\n",
       "      <td>24959.969</td>\n",
       "      <td>purchase of a car</td>\n",
       "    </tr>\n",
       "    <tr>\n",
       "      <th>21522</th>\n",
       "      <td>1</td>\n",
       "      <td>-2113.346888</td>\n",
       "      <td>38</td>\n",
       "      <td>secondary education</td>\n",
       "      <td>1</td>\n",
       "      <td>civil partnership</td>\n",
       "      <td>1</td>\n",
       "      <td>M</td>\n",
       "      <td>employee</td>\n",
       "      <td>1</td>\n",
       "      <td>14347.610</td>\n",
       "      <td>property</td>\n",
       "    </tr>\n",
       "    <tr>\n",
       "      <th>21523</th>\n",
       "      <td>3</td>\n",
       "      <td>-3112.481705</td>\n",
       "      <td>38</td>\n",
       "      <td>secondary education</td>\n",
       "      <td>1</td>\n",
       "      <td>married</td>\n",
       "      <td>0</td>\n",
       "      <td>M</td>\n",
       "      <td>employee</td>\n",
       "      <td>1</td>\n",
       "      <td>39054.888</td>\n",
       "      <td>buying my own car</td>\n",
       "    </tr>\n",
       "    <tr>\n",
       "      <th>21524</th>\n",
       "      <td>2</td>\n",
       "      <td>-1984.507589</td>\n",
       "      <td>40</td>\n",
       "      <td>secondary education</td>\n",
       "      <td>1</td>\n",
       "      <td>married</td>\n",
       "      <td>0</td>\n",
       "      <td>F</td>\n",
       "      <td>employee</td>\n",
       "      <td>0</td>\n",
       "      <td>13127.587</td>\n",
       "      <td>to buy a car</td>\n",
       "    </tr>\n",
       "  </tbody>\n",
       "</table>\n",
       "</div>"
      ],
      "text/plain": [
       "       children  days_employed  dob_years            education  education_id  \\\n",
       "21515         1    -467.685130         28  secondary education             1   \n",
       "21516         0    -914.391429         42    bachelor's degree             0   \n",
       "21517         0    -404.679034         42    bachelor's degree             0   \n",
       "21518         0  373995.710838         59  SECONDARY EDUCATION             1   \n",
       "21519         1   -2351.431934         37      graduate degree             4   \n",
       "21520         1   -4529.316663         43  secondary education             1   \n",
       "21521         0  343937.404131         67  secondary education             1   \n",
       "21522         1   -2113.346888         38  secondary education             1   \n",
       "21523         3   -3112.481705         38  secondary education             1   \n",
       "21524         2   -1984.507589         40  secondary education             1   \n",
       "\n",
       "           family_status  family_status_id gender income_type  debt  \\\n",
       "21515            married                 0      F    employee     1   \n",
       "21516            married                 0      F    business     0   \n",
       "21517  civil partnership                 1      F    business     0   \n",
       "21518            married                 0      F     retiree     0   \n",
       "21519           divorced                 3      M    employee     0   \n",
       "21520  civil partnership                 1      F    business     0   \n",
       "21521            married                 0      F     retiree     0   \n",
       "21522  civil partnership                 1      M    employee     1   \n",
       "21523            married                 0      M    employee     1   \n",
       "21524            married                 0      F    employee     0   \n",
       "\n",
       "       total_income                     purpose  \n",
       "21515     17517.812          to become educated  \n",
       "21516     51649.244    purchase of my own house  \n",
       "21517     28489.529           buying my own car  \n",
       "21518     24618.344           purchase of a car  \n",
       "21519     18551.846  buy commercial real estate  \n",
       "21520     35966.698        housing transactions  \n",
       "21521     24959.969           purchase of a car  \n",
       "21522     14347.610                    property  \n",
       "21523     39054.888           buying my own car  \n",
       "21524     13127.587                to buy a car  "
      ]
     },
     "execution_count": 4,
     "metadata": {},
     "output_type": "execute_result"
    }
   ],
   "source": [
    "# get the last 10 rows of the dataset\n",
    "\n",
    "df.tail(10)"
   ]
  },
  {
   "cell_type": "code",
   "execution_count": 5,
   "metadata": {},
   "outputs": [
    {
     "data": {
      "text/html": [
       "<div>\n",
       "<style scoped>\n",
       "    .dataframe tbody tr th:only-of-type {\n",
       "        vertical-align: middle;\n",
       "    }\n",
       "\n",
       "    .dataframe tbody tr th {\n",
       "        vertical-align: top;\n",
       "    }\n",
       "\n",
       "    .dataframe thead th {\n",
       "        text-align: right;\n",
       "    }\n",
       "</style>\n",
       "<table border=\"1\" class=\"dataframe\">\n",
       "  <thead>\n",
       "    <tr style=\"text-align: right;\">\n",
       "      <th></th>\n",
       "      <th>children</th>\n",
       "      <th>days_employed</th>\n",
       "      <th>dob_years</th>\n",
       "      <th>education</th>\n",
       "      <th>education_id</th>\n",
       "      <th>family_status</th>\n",
       "      <th>family_status_id</th>\n",
       "      <th>gender</th>\n",
       "      <th>income_type</th>\n",
       "      <th>debt</th>\n",
       "      <th>total_income</th>\n",
       "      <th>purpose</th>\n",
       "    </tr>\n",
       "  </thead>\n",
       "  <tbody>\n",
       "    <tr>\n",
       "      <th>19012</th>\n",
       "      <td>0</td>\n",
       "      <td>-275.504604</td>\n",
       "      <td>38</td>\n",
       "      <td>secondary education</td>\n",
       "      <td>1</td>\n",
       "      <td>unmarried</td>\n",
       "      <td>4</td>\n",
       "      <td>M</td>\n",
       "      <td>employee</td>\n",
       "      <td>0</td>\n",
       "      <td>17545.638</td>\n",
       "      <td>transactions with commercial real estate</td>\n",
       "    </tr>\n",
       "    <tr>\n",
       "      <th>14028</th>\n",
       "      <td>0</td>\n",
       "      <td>338712.950062</td>\n",
       "      <td>69</td>\n",
       "      <td>secondary education</td>\n",
       "      <td>1</td>\n",
       "      <td>widow / widower</td>\n",
       "      <td>2</td>\n",
       "      <td>F</td>\n",
       "      <td>retiree</td>\n",
       "      <td>0</td>\n",
       "      <td>21527.878</td>\n",
       "      <td>education</td>\n",
       "    </tr>\n",
       "    <tr>\n",
       "      <th>5367</th>\n",
       "      <td>0</td>\n",
       "      <td>386413.322172</td>\n",
       "      <td>59</td>\n",
       "      <td>secondary education</td>\n",
       "      <td>1</td>\n",
       "      <td>married</td>\n",
       "      <td>0</td>\n",
       "      <td>M</td>\n",
       "      <td>retiree</td>\n",
       "      <td>0</td>\n",
       "      <td>24155.277</td>\n",
       "      <td>building a property</td>\n",
       "    </tr>\n",
       "    <tr>\n",
       "      <th>4868</th>\n",
       "      <td>0</td>\n",
       "      <td>-555.612120</td>\n",
       "      <td>29</td>\n",
       "      <td>Bachelor's Degree</td>\n",
       "      <td>0</td>\n",
       "      <td>married</td>\n",
       "      <td>0</td>\n",
       "      <td>F</td>\n",
       "      <td>employee</td>\n",
       "      <td>0</td>\n",
       "      <td>16026.440</td>\n",
       "      <td>going to university</td>\n",
       "    </tr>\n",
       "    <tr>\n",
       "      <th>16520</th>\n",
       "      <td>2</td>\n",
       "      <td>-5831.353423</td>\n",
       "      <td>41</td>\n",
       "      <td>bachelor's degree</td>\n",
       "      <td>0</td>\n",
       "      <td>civil partnership</td>\n",
       "      <td>1</td>\n",
       "      <td>F</td>\n",
       "      <td>employee</td>\n",
       "      <td>0</td>\n",
       "      <td>19708.546</td>\n",
       "      <td>to have a wedding</td>\n",
       "    </tr>\n",
       "    <tr>\n",
       "      <th>4174</th>\n",
       "      <td>2</td>\n",
       "      <td>-1603.078580</td>\n",
       "      <td>28</td>\n",
       "      <td>bachelor's degree</td>\n",
       "      <td>0</td>\n",
       "      <td>married</td>\n",
       "      <td>0</td>\n",
       "      <td>F</td>\n",
       "      <td>civil servant</td>\n",
       "      <td>0</td>\n",
       "      <td>18014.409</td>\n",
       "      <td>building a real estate</td>\n",
       "    </tr>\n",
       "    <tr>\n",
       "      <th>1346</th>\n",
       "      <td>0</td>\n",
       "      <td>-3055.655220</td>\n",
       "      <td>29</td>\n",
       "      <td>Bachelor's Degree</td>\n",
       "      <td>0</td>\n",
       "      <td>unmarried</td>\n",
       "      <td>4</td>\n",
       "      <td>M</td>\n",
       "      <td>employee</td>\n",
       "      <td>0</td>\n",
       "      <td>31386.316</td>\n",
       "      <td>purchase of the house</td>\n",
       "    </tr>\n",
       "    <tr>\n",
       "      <th>10160</th>\n",
       "      <td>0</td>\n",
       "      <td>388462.678487</td>\n",
       "      <td>55</td>\n",
       "      <td>bachelor's degree</td>\n",
       "      <td>0</td>\n",
       "      <td>married</td>\n",
       "      <td>0</td>\n",
       "      <td>F</td>\n",
       "      <td>retiree</td>\n",
       "      <td>0</td>\n",
       "      <td>20207.466</td>\n",
       "      <td>building a property</td>\n",
       "    </tr>\n",
       "    <tr>\n",
       "      <th>17577</th>\n",
       "      <td>1</td>\n",
       "      <td>-2856.106832</td>\n",
       "      <td>26</td>\n",
       "      <td>secondary education</td>\n",
       "      <td>1</td>\n",
       "      <td>divorced</td>\n",
       "      <td>3</td>\n",
       "      <td>M</td>\n",
       "      <td>employee</td>\n",
       "      <td>0</td>\n",
       "      <td>6764.879</td>\n",
       "      <td>buy commercial real estate</td>\n",
       "    </tr>\n",
       "    <tr>\n",
       "      <th>10463</th>\n",
       "      <td>2</td>\n",
       "      <td>-5747.782637</td>\n",
       "      <td>53</td>\n",
       "      <td>secondary education</td>\n",
       "      <td>1</td>\n",
       "      <td>married</td>\n",
       "      <td>0</td>\n",
       "      <td>F</td>\n",
       "      <td>employee</td>\n",
       "      <td>0</td>\n",
       "      <td>16757.623</td>\n",
       "      <td>purchase of my own house</td>\n",
       "    </tr>\n",
       "  </tbody>\n",
       "</table>\n",
       "</div>"
      ],
      "text/plain": [
       "       children  days_employed  dob_years            education  education_id  \\\n",
       "19012         0    -275.504604         38  secondary education             1   \n",
       "14028         0  338712.950062         69  secondary education             1   \n",
       "5367          0  386413.322172         59  secondary education             1   \n",
       "4868          0    -555.612120         29    Bachelor's Degree             0   \n",
       "16520         2   -5831.353423         41    bachelor's degree             0   \n",
       "4174          2   -1603.078580         28    bachelor's degree             0   \n",
       "1346          0   -3055.655220         29    Bachelor's Degree             0   \n",
       "10160         0  388462.678487         55    bachelor's degree             0   \n",
       "17577         1   -2856.106832         26  secondary education             1   \n",
       "10463         2   -5747.782637         53  secondary education             1   \n",
       "\n",
       "           family_status  family_status_id gender    income_type  debt  \\\n",
       "19012          unmarried                 4      M       employee     0   \n",
       "14028    widow / widower                 2      F        retiree     0   \n",
       "5367             married                 0      M        retiree     0   \n",
       "4868             married                 0      F       employee     0   \n",
       "16520  civil partnership                 1      F       employee     0   \n",
       "4174             married                 0      F  civil servant     0   \n",
       "1346           unmarried                 4      M       employee     0   \n",
       "10160            married                 0      F        retiree     0   \n",
       "17577           divorced                 3      M       employee     0   \n",
       "10463            married                 0      F       employee     0   \n",
       "\n",
       "       total_income                                   purpose  \n",
       "19012     17545.638  transactions with commercial real estate  \n",
       "14028     21527.878                                 education  \n",
       "5367      24155.277                       building a property  \n",
       "4868      16026.440                       going to university  \n",
       "16520     19708.546                         to have a wedding  \n",
       "4174      18014.409                    building a real estate  \n",
       "1346      31386.316                     purchase of the house  \n",
       "10160     20207.466                       building a property  \n",
       "17577      6764.879                buy commercial real estate  \n",
       "10463     16757.623                  purchase of my own house  "
      ]
     },
     "execution_count": 5,
     "metadata": {},
     "output_type": "execute_result"
    }
   ],
   "source": [
    "# get random 10 rows of the dataset\n",
    "\n",
    "df.sample(10)"
   ]
  },
  {
   "cell_type": "code",
   "execution_count": 6,
   "metadata": {},
   "outputs": [
    {
     "name": "stdout",
     "output_type": "stream",
     "text": [
      "<class 'pandas.core.frame.DataFrame'>\n",
      "RangeIndex: 21525 entries, 0 to 21524\n",
      "Data columns (total 12 columns):\n",
      " #   Column            Non-Null Count  Dtype  \n",
      "---  ------            --------------  -----  \n",
      " 0   children          21525 non-null  int64  \n",
      " 1   days_employed     19351 non-null  float64\n",
      " 2   dob_years         21525 non-null  int64  \n",
      " 3   education         21525 non-null  object \n",
      " 4   education_id      21525 non-null  int64  \n",
      " 5   family_status     21525 non-null  object \n",
      " 6   family_status_id  21525 non-null  int64  \n",
      " 7   gender            21525 non-null  object \n",
      " 8   income_type       21525 non-null  object \n",
      " 9   debt              21525 non-null  int64  \n",
      " 10  total_income      19351 non-null  float64\n",
      " 11  purpose           21525 non-null  object \n",
      "dtypes: float64(2), int64(5), object(5)\n",
      "memory usage: 2.0+ MB\n"
     ]
    }
   ],
   "source": [
    "# get basic info about the dataframe using `info` method\n",
    "\n",
    "df.info()"
   ]
  },
  {
   "cell_type": "code",
   "execution_count": 7,
   "metadata": {},
   "outputs": [
    {
     "data": {
      "text/plain": [
       "54"
      ]
     },
     "execution_count": 7,
     "metadata": {},
     "output_type": "execute_result"
    }
   ],
   "source": [
    "# check duplicates using `duplicated()` method\n",
    "\n",
    "df.duplicated().sum()"
   ]
  },
  {
   "cell_type": "markdown",
   "metadata": {},
   "source": [
    "   "
   ]
  },
  {
   "cell_type": "code",
   "execution_count": 8,
   "metadata": {},
   "outputs": [
    {
     "data": {
      "text/html": [
       "<div>\n",
       "<style scoped>\n",
       "    .dataframe tbody tr th:only-of-type {\n",
       "        vertical-align: middle;\n",
       "    }\n",
       "\n",
       "    .dataframe tbody tr th {\n",
       "        vertical-align: top;\n",
       "    }\n",
       "\n",
       "    .dataframe thead th {\n",
       "        text-align: right;\n",
       "    }\n",
       "</style>\n",
       "<table border=\"1\" class=\"dataframe\">\n",
       "  <thead>\n",
       "    <tr style=\"text-align: right;\">\n",
       "      <th></th>\n",
       "      <th>children</th>\n",
       "      <th>days_employed</th>\n",
       "      <th>dob_years</th>\n",
       "      <th>education</th>\n",
       "      <th>education_id</th>\n",
       "      <th>family_status</th>\n",
       "      <th>family_status_id</th>\n",
       "      <th>gender</th>\n",
       "      <th>income_type</th>\n",
       "      <th>debt</th>\n",
       "      <th>total_income</th>\n",
       "      <th>purpose</th>\n",
       "    </tr>\n",
       "  </thead>\n",
       "  <tbody>\n",
       "    <tr>\n",
       "      <th>count</th>\n",
       "      <td>21525.000000</td>\n",
       "      <td>19351.000000</td>\n",
       "      <td>21525.000000</td>\n",
       "      <td>21525</td>\n",
       "      <td>21525.000000</td>\n",
       "      <td>21525</td>\n",
       "      <td>21525.000000</td>\n",
       "      <td>21525</td>\n",
       "      <td>21525</td>\n",
       "      <td>21525.000000</td>\n",
       "      <td>19351.000000</td>\n",
       "      <td>21525</td>\n",
       "    </tr>\n",
       "    <tr>\n",
       "      <th>unique</th>\n",
       "      <td>NaN</td>\n",
       "      <td>NaN</td>\n",
       "      <td>NaN</td>\n",
       "      <td>15</td>\n",
       "      <td>NaN</td>\n",
       "      <td>5</td>\n",
       "      <td>NaN</td>\n",
       "      <td>3</td>\n",
       "      <td>8</td>\n",
       "      <td>NaN</td>\n",
       "      <td>NaN</td>\n",
       "      <td>38</td>\n",
       "    </tr>\n",
       "    <tr>\n",
       "      <th>top</th>\n",
       "      <td>NaN</td>\n",
       "      <td>NaN</td>\n",
       "      <td>NaN</td>\n",
       "      <td>secondary education</td>\n",
       "      <td>NaN</td>\n",
       "      <td>married</td>\n",
       "      <td>NaN</td>\n",
       "      <td>F</td>\n",
       "      <td>employee</td>\n",
       "      <td>NaN</td>\n",
       "      <td>NaN</td>\n",
       "      <td>wedding ceremony</td>\n",
       "    </tr>\n",
       "    <tr>\n",
       "      <th>freq</th>\n",
       "      <td>NaN</td>\n",
       "      <td>NaN</td>\n",
       "      <td>NaN</td>\n",
       "      <td>13750</td>\n",
       "      <td>NaN</td>\n",
       "      <td>12380</td>\n",
       "      <td>NaN</td>\n",
       "      <td>14236</td>\n",
       "      <td>11119</td>\n",
       "      <td>NaN</td>\n",
       "      <td>NaN</td>\n",
       "      <td>797</td>\n",
       "    </tr>\n",
       "    <tr>\n",
       "      <th>mean</th>\n",
       "      <td>0.538908</td>\n",
       "      <td>63046.497661</td>\n",
       "      <td>43.293380</td>\n",
       "      <td>NaN</td>\n",
       "      <td>0.817236</td>\n",
       "      <td>NaN</td>\n",
       "      <td>0.972544</td>\n",
       "      <td>NaN</td>\n",
       "      <td>NaN</td>\n",
       "      <td>0.080883</td>\n",
       "      <td>26787.568355</td>\n",
       "      <td>NaN</td>\n",
       "    </tr>\n",
       "    <tr>\n",
       "      <th>std</th>\n",
       "      <td>1.381587</td>\n",
       "      <td>140827.311974</td>\n",
       "      <td>12.574584</td>\n",
       "      <td>NaN</td>\n",
       "      <td>0.548138</td>\n",
       "      <td>NaN</td>\n",
       "      <td>1.420324</td>\n",
       "      <td>NaN</td>\n",
       "      <td>NaN</td>\n",
       "      <td>0.272661</td>\n",
       "      <td>16475.450632</td>\n",
       "      <td>NaN</td>\n",
       "    </tr>\n",
       "    <tr>\n",
       "      <th>min</th>\n",
       "      <td>-1.000000</td>\n",
       "      <td>-18388.949901</td>\n",
       "      <td>0.000000</td>\n",
       "      <td>NaN</td>\n",
       "      <td>0.000000</td>\n",
       "      <td>NaN</td>\n",
       "      <td>0.000000</td>\n",
       "      <td>NaN</td>\n",
       "      <td>NaN</td>\n",
       "      <td>0.000000</td>\n",
       "      <td>3306.762000</td>\n",
       "      <td>NaN</td>\n",
       "    </tr>\n",
       "    <tr>\n",
       "      <th>25%</th>\n",
       "      <td>0.000000</td>\n",
       "      <td>-2747.423625</td>\n",
       "      <td>33.000000</td>\n",
       "      <td>NaN</td>\n",
       "      <td>1.000000</td>\n",
       "      <td>NaN</td>\n",
       "      <td>0.000000</td>\n",
       "      <td>NaN</td>\n",
       "      <td>NaN</td>\n",
       "      <td>0.000000</td>\n",
       "      <td>16488.504500</td>\n",
       "      <td>NaN</td>\n",
       "    </tr>\n",
       "    <tr>\n",
       "      <th>50%</th>\n",
       "      <td>0.000000</td>\n",
       "      <td>-1203.369529</td>\n",
       "      <td>42.000000</td>\n",
       "      <td>NaN</td>\n",
       "      <td>1.000000</td>\n",
       "      <td>NaN</td>\n",
       "      <td>0.000000</td>\n",
       "      <td>NaN</td>\n",
       "      <td>NaN</td>\n",
       "      <td>0.000000</td>\n",
       "      <td>23202.870000</td>\n",
       "      <td>NaN</td>\n",
       "    </tr>\n",
       "    <tr>\n",
       "      <th>75%</th>\n",
       "      <td>1.000000</td>\n",
       "      <td>-291.095954</td>\n",
       "      <td>53.000000</td>\n",
       "      <td>NaN</td>\n",
       "      <td>1.000000</td>\n",
       "      <td>NaN</td>\n",
       "      <td>1.000000</td>\n",
       "      <td>NaN</td>\n",
       "      <td>NaN</td>\n",
       "      <td>0.000000</td>\n",
       "      <td>32549.611000</td>\n",
       "      <td>NaN</td>\n",
       "    </tr>\n",
       "    <tr>\n",
       "      <th>max</th>\n",
       "      <td>20.000000</td>\n",
       "      <td>401755.400475</td>\n",
       "      <td>75.000000</td>\n",
       "      <td>NaN</td>\n",
       "      <td>4.000000</td>\n",
       "      <td>NaN</td>\n",
       "      <td>4.000000</td>\n",
       "      <td>NaN</td>\n",
       "      <td>NaN</td>\n",
       "      <td>1.000000</td>\n",
       "      <td>362496.645000</td>\n",
       "      <td>NaN</td>\n",
       "    </tr>\n",
       "  </tbody>\n",
       "</table>\n",
       "</div>"
      ],
      "text/plain": [
       "            children  days_employed     dob_years            education  \\\n",
       "count   21525.000000   19351.000000  21525.000000                21525   \n",
       "unique           NaN            NaN           NaN                   15   \n",
       "top              NaN            NaN           NaN  secondary education   \n",
       "freq             NaN            NaN           NaN                13750   \n",
       "mean        0.538908   63046.497661     43.293380                  NaN   \n",
       "std         1.381587  140827.311974     12.574584                  NaN   \n",
       "min        -1.000000  -18388.949901      0.000000                  NaN   \n",
       "25%         0.000000   -2747.423625     33.000000                  NaN   \n",
       "50%         0.000000   -1203.369529     42.000000                  NaN   \n",
       "75%         1.000000    -291.095954     53.000000                  NaN   \n",
       "max        20.000000  401755.400475     75.000000                  NaN   \n",
       "\n",
       "        education_id family_status  family_status_id gender income_type  \\\n",
       "count   21525.000000         21525      21525.000000  21525       21525   \n",
       "unique           NaN             5               NaN      3           8   \n",
       "top              NaN       married               NaN      F    employee   \n",
       "freq             NaN         12380               NaN  14236       11119   \n",
       "mean        0.817236           NaN          0.972544    NaN         NaN   \n",
       "std         0.548138           NaN          1.420324    NaN         NaN   \n",
       "min         0.000000           NaN          0.000000    NaN         NaN   \n",
       "25%         1.000000           NaN          0.000000    NaN         NaN   \n",
       "50%         1.000000           NaN          0.000000    NaN         NaN   \n",
       "75%         1.000000           NaN          1.000000    NaN         NaN   \n",
       "max         4.000000           NaN          4.000000    NaN         NaN   \n",
       "\n",
       "                debt   total_income           purpose  \n",
       "count   21525.000000   19351.000000             21525  \n",
       "unique           NaN            NaN                38  \n",
       "top              NaN            NaN  wedding ceremony  \n",
       "freq             NaN            NaN               797  \n",
       "mean        0.080883   26787.568355               NaN  \n",
       "std         0.272661   16475.450632               NaN  \n",
       "min         0.000000    3306.762000               NaN  \n",
       "25%         0.000000   16488.504500               NaN  \n",
       "50%         0.000000   23202.870000               NaN  \n",
       "75%         0.000000   32549.611000               NaN  \n",
       "max         1.000000  362496.645000               NaN  "
      ]
     },
     "execution_count": 8,
     "metadata": {},
     "output_type": "execute_result"
    }
   ],
   "source": [
    "# get more info about values distributions of all the variables using `describe` method\n",
    "\n",
    "df.describe(include = 'all')"
   ]
  },
  {
   "cell_type": "markdown",
   "metadata": {},
   "source": [
    "   "
   ]
  },
  {
   "cell_type": "code",
   "execution_count": 9,
   "metadata": {},
   "outputs": [
    {
     "data": {
      "text/plain": [
       " 0     14149\n",
       " 1      4818\n",
       " 2      2055\n",
       " 3       330\n",
       " 20       76\n",
       "-1        47\n",
       " 4        41\n",
       " 5         9\n",
       "Name: children, dtype: int64"
      ]
     },
     "execution_count": 9,
     "metadata": {},
     "output_type": "execute_result"
    }
   ],
   "source": [
    "# unique values of the `children` variable\n",
    "\n",
    "df['children'].value_counts()"
   ]
  },
  {
   "cell_type": "markdown",
   "metadata": {},
   "source": [
    "   "
   ]
  },
  {
   "cell_type": "code",
   "execution_count": 10,
   "metadata": {},
   "outputs": [
    {
     "data": {
      "image/png": "[encoded data removed]",
      "text/plain": [
       "<Figure size 432x288 with 1 Axes>"
      ]
     },
     "metadata": {
      "needs_background": "light"
     },
     "output_type": "display_data"
    }
   ],
   "source": [
    "# value distribution of the `days_employed` variable\n",
    "\n",
    "df['days_employed'].hist(bins = 50).set(title = 'Value Distribution of `days_employed` variable', xlabel = 'Value', ylabel = 'Number or Values');"
   ]
  },
  {
   "cell_type": "markdown",
   "metadata": {},
   "source": [
    "The histogram shows that there are have two entirely different groups of the `days_employed` variable: one of them contains about 15,000 value less than 0; the second one consists of a much smaller number of values greater than 30,000. Let's check how many values we have in each group.\n"
   ]
  },
  {
   "cell_type": "code",
   "execution_count": 11,
   "metadata": {},
   "outputs": [
    {
     "name": "stdout",
     "output_type": "stream",
     "text": [
      "The `days_employed` column contains 15906 postitive and 3445 negative values.\n"
     ]
    }
   ],
   "source": [
    "# how many rows have positive values in the `days_employed` column and how many - negative\n",
    "\n",
    "negative = df[df['days_employed'] >= 0]['days_employed'].value_counts().sum()\n",
    "positive = df[df['days_employed'] < 0]['days_employed'].value_counts().sum()\n",
    "\n",
    "print('The `days_employed` column contains {} postitive and {} negative values.'.format(positive, negative))"
   ]
  },
  {
   "cell_type": "markdown",
   "metadata": {},
   "source": [
    "Let's check the distribution of the positive values in the `days_employed` column."
   ]
  },
  {
   "cell_type": "code",
   "execution_count": 12,
   "metadata": {},
   "outputs": [
    {
     "data": {
      "image/png": "[encoded data removed]",
      "text/plain": [
       "<Figure size 432x288 with 1 Axes>"
      ]
     },
     "metadata": {
      "needs_background": "light"
     },
     "output_type": "display_data"
    }
   ],
   "source": [
    "# positive value distribution of the `days_employed` variable\n",
    "\n",
    "df[df['days_employed'] >= 0]['days_employed'].hist(bins = 20).set(title = 'Distribution of Positive `days_employed` Values', \n",
    "                                                                  xlabel = 'Days', ylabel = 'Number of Customers');"
   ]
  },
  {
   "cell_type": "markdown",
   "metadata": {},
   "source": [
    "All positive values in the `days_employed` column are distributed relatively evenly in the range from about `33,000` to `40,000`."
   ]
  },
  {
   "cell_type": "code",
   "execution_count": 13,
   "metadata": {},
   "outputs": [
    {
     "data": {
      "text/plain": [
       "count      3445.000000\n",
       "mean     365004.309916\n",
       "std       21075.016396\n",
       "min      328728.720605\n",
       "25%      346639.413916\n",
       "50%      365213.306266\n",
       "75%      383246.444219\n",
       "max      401755.400475\n",
       "Name: days_employed, dtype: float64"
      ]
     },
     "execution_count": 13,
     "metadata": {},
     "output_type": "execute_result"
    }
   ],
   "source": [
    "# descriptive statistics for the positive values of the `days_employed` variable\n",
    "\n",
    "df[df['days_employed'] >= 0]['days_employed'].describe()"
   ]
  },
  {
   "cell_type": "markdown",
   "metadata": {},
   "source": [
    "To better understanding, transform these days into years, considering that one year is equal to 365 days."
   ]
  },
  {
   "cell_type": "code",
   "execution_count": 14,
   "metadata": {},
   "outputs": [
    {
     "data": {
      "text/plain": [
       "count    3445.000000\n",
       "mean     1000.011808\n",
       "std        57.739771\n",
       "min       900.626632\n",
       "25%       949.697024\n",
       "50%      1000.584401\n",
       "75%      1049.990258\n",
       "max      1100.699727\n",
       "Name: days_employed, dtype: float64"
      ]
     },
     "execution_count": 14,
     "metadata": {},
     "output_type": "execute_result"
    }
   ],
   "source": [
    "# transform days to years\n",
    "\n",
    "df[df['days_employed'] >= 0]['days_employed'].div(365).describe()"
   ]
  },
  {
   "cell_type": "markdown",
   "metadata": {},
   "source": [
    "Even positive these values seem unrealistic: 900 or 1100 years of employment are real only for Time Lords :)"
   ]
  },
  {
   "cell_type": "markdown",
   "metadata": {},
   "source": [
    "Now I'd like to check the distribution of the negative values in the `days_employed` column."
   ]
  },
  {
   "cell_type": "code",
   "execution_count": 15,
   "metadata": {},
   "outputs": [
    {
     "data": {
      "image/png": "[encoded data removed]",
      "text/plain": [
       "<Figure size 432x288 with 1 Axes>"
      ]
     },
     "metadata": {
      "needs_background": "light"
     },
     "output_type": "display_data"
    }
   ],
   "source": [
    "# distribution of the `days_employed` negative values\n",
    "\n",
    "df[df['days_employed'] < 0]['days_employed'].hist(bins = 10).set(title = 'Distribution of Negative `days_employed` Values', \n",
    "                                                                 xlabel = 'Days', ylabel = 'Number of Customers');"
   ]
  },
  {
   "cell_type": "markdown",
   "metadata": {},
   "source": [
    "The negative values are in the range from `0` to `-17500`. Let's check descriptive statistics for the `days_employed` variable's negative values, having previously converted them to positive and transformed days into years."
   ]
  },
  {
   "cell_type": "code",
   "execution_count": 16,
   "metadata": {},
   "outputs": [
    {
     "data": {
      "text/plain": [
       "count    15906.000000\n",
       "mean         6.446619\n",
       "std          6.312997\n",
       "min          0.066141\n",
       "25%          2.072252\n",
       "50%          4.465807\n",
       "75%          8.650630\n",
       "max         50.380685\n",
       "Name: days_employed, dtype: float64"
      ]
     },
     "execution_count": 16,
     "metadata": {},
     "output_type": "execute_result"
    }
   ],
   "source": [
    "abs(df[df['days_employed'] < 0]['days_employed']).div(365).describe()"
   ]
  },
  {
   "cell_type": "markdown",
   "metadata": {},
   "source": [
    "Well, the negative values seem more realistic in terms of work experience length."
   ]
  },
  {
   "cell_type": "markdown",
   "metadata": {},
   "source": [
    "   "
   ]
  },
  {
   "cell_type": "code",
   "execution_count": 17,
   "metadata": {},
   "outputs": [
    {
     "data": {
      "text/plain": [
       "101"
      ]
     },
     "execution_count": 17,
     "metadata": {},
     "output_type": "execute_result"
    }
   ],
   "source": [
    "# how many rows have zero in the `dob_years` column\n",
    "\n",
    "df[df['dob_years'] == 0]['dob_years'].shape[0]"
   ]
  },
  {
   "cell_type": "markdown",
   "metadata": {},
   "source": [
    "Since there are zero values in the `dob_years` column, let's find the smallest value greater than 0."
   ]
  },
  {
   "cell_type": "code",
   "execution_count": 18,
   "metadata": {},
   "outputs": [
    {
     "data": {
      "text/plain": [
       "19"
      ]
     },
     "execution_count": 18,
     "metadata": {},
     "output_type": "execute_result"
    }
   ],
   "source": [
    "# minimum positive value in the `dob_years` column\n",
    "\n",
    "df[df['dob_years'] != 0]['dob_years'].min()"
   ]
  },
  {
   "cell_type": "code",
   "execution_count": 19,
   "metadata": {},
   "outputs": [
    {
     "data": {
      "image/png": "[encoded data removed]",
      "text/plain": [
       "<Figure size 432x288 with 1 Axes>"
      ]
     },
     "metadata": {
      "needs_background": "light"
     },
     "output_type": "display_data"
    }
   ],
   "source": [
    "# value distribution of the `dob_years` variable without zero values\n",
    "\n",
    "df[df['dob_years'] != 0]['dob_years'].hist(bins = 55).set(title = \n",
    "                                                          'Distribution of `dob_years` Values', xlabel = 'Years', ylabel = 'Number of Customers');"
   ]
  },
  {
   "cell_type": "markdown",
   "metadata": {},
   "source": [
    "As can be inferred from the histogram, most customers are people aged about 25-60 years."
   ]
  },
  {
   "cell_type": "code",
   "execution_count": 20,
   "metadata": {},
   "outputs": [
    {
     "data": {
      "text/plain": [
       "count    21410.000000\n",
       "mean        43.513498\n",
       "std         12.234900\n",
       "min         20.000000\n",
       "25%         33.000000\n",
       "50%         43.000000\n",
       "75%         53.000000\n",
       "max         75.000000\n",
       "Name: dob_years, dtype: float64"
      ]
     },
     "execution_count": 20,
     "metadata": {},
     "output_type": "execute_result"
    }
   ],
   "source": [
    "# descriptive statistics for the positive values of the `days_employed` variable\n",
    "\n",
    "df[df['dob_years'] > 19]['dob_years'].describe()"
   ]
  },
  {
   "cell_type": "markdown",
   "metadata": {},
   "source": [
    "   "
   ]
  },
  {
   "cell_type": "code",
   "execution_count": 21,
   "metadata": {},
   "outputs": [
    {
     "data": {
      "text/plain": [
       "secondary education    13750\n",
       "bachelor's degree       4718\n",
       "SECONDARY EDUCATION      772\n",
       "Secondary Education      711\n",
       "some college             668\n",
       "BACHELOR'S DEGREE        274\n",
       "Bachelor's Degree        268\n",
       "primary education        250\n",
       "Some College              47\n",
       "SOME COLLEGE              29\n",
       "PRIMARY EDUCATION         17\n",
       "Primary Education         15\n",
       "graduate degree            4\n",
       "Graduate Degree            1\n",
       "GRADUATE DEGREE            1\n",
       "Name: education, dtype: int64"
      ]
     },
     "execution_count": 21,
     "metadata": {},
     "output_type": "execute_result"
    }
   ],
   "source": [
    "# unique values of the `education` variable\n",
    "\n",
    "df['education'].value_counts()"
   ]
  },
  {
   "cell_type": "code",
   "execution_count": 22,
   "metadata": {},
   "outputs": [
    {
     "data": {
      "text/plain": [
       "secondary education    15233\n",
       "bachelor's degree       5260\n",
       "some college             744\n",
       "primary education        282\n",
       "graduate degree            6\n",
       "Name: education, dtype: int64"
      ]
     },
     "execution_count": 22,
     "metadata": {},
     "output_type": "execute_result"
    }
   ],
   "source": [
    "# unique values of the `education` variable ignoring the case of letters\n",
    "\n",
    "df['education'].str.lower().value_counts()"
   ]
  },
  {
   "cell_type": "markdown",
   "metadata": {},
   "source": [
    "   "
   ]
  },
  {
   "cell_type": "code",
   "execution_count": 23,
   "metadata": {},
   "outputs": [
    {
     "data": {
      "text/plain": [
       "1    15233\n",
       "0     5260\n",
       "2      744\n",
       "3      282\n",
       "4        6\n",
       "Name: education_id, dtype: int64"
      ]
     },
     "execution_count": 23,
     "metadata": {},
     "output_type": "execute_result"
    }
   ],
   "source": [
    "# unique values of the `education_id` variable\n",
    "\n",
    "df['education_id'].value_counts()"
   ]
  },
  {
   "cell_type": "markdown",
   "metadata": {},
   "source": [
    "   "
   ]
  },
  {
   "cell_type": "code",
   "execution_count": 24,
   "metadata": {},
   "outputs": [
    {
     "data": {
      "text/plain": [
       "married              12380\n",
       "civil partnership     4177\n",
       "unmarried             2813\n",
       "divorced              1195\n",
       "widow / widower        960\n",
       "Name: family_status, dtype: int64"
      ]
     },
     "execution_count": 24,
     "metadata": {},
     "output_type": "execute_result"
    }
   ],
   "source": [
    "# unique values of the `family_status` variable\n",
    "\n",
    "df['family_status'].value_counts()"
   ]
  },
  {
   "cell_type": "markdown",
   "metadata": {},
   "source": [
    "   "
   ]
  },
  {
   "cell_type": "code",
   "execution_count": 25,
   "metadata": {},
   "outputs": [
    {
     "data": {
      "text/plain": [
       "0    12380\n",
       "1     4177\n",
       "4     2813\n",
       "3     1195\n",
       "2      960\n",
       "Name: family_status_id, dtype: int64"
      ]
     },
     "execution_count": 25,
     "metadata": {},
     "output_type": "execute_result"
    }
   ],
   "source": [
    "# unique values of the `family_status_id` variable\n",
    "\n",
    "df['family_status_id'].value_counts()"
   ]
  },
  {
   "cell_type": "markdown",
   "metadata": {},
   "source": [
    "   "
   ]
  },
  {
   "cell_type": "code",
   "execution_count": 26,
   "metadata": {},
   "outputs": [
    {
     "data": {
      "text/plain": [
       "F      14236\n",
       "M       7288\n",
       "XNA        1\n",
       "Name: gender, dtype: int64"
      ]
     },
     "execution_count": 26,
     "metadata": {},
     "output_type": "execute_result"
    }
   ],
   "source": [
    "# unique values of the `gender` variable\n",
    "\n",
    "df['gender'].value_counts()"
   ]
  },
  {
   "cell_type": "markdown",
   "metadata": {},
   "source": [
    "      "
   ]
  },
  {
   "cell_type": "code",
   "execution_count": 27,
   "metadata": {},
   "outputs": [
    {
     "data": {
      "text/plain": [
       "employee                       11119\n",
       "business                        5085\n",
       "retiree                         3856\n",
       "civil servant                   1459\n",
       "entrepreneur                       2\n",
       "unemployed                         2\n",
       "student                            1\n",
       "paternity / maternity leave        1\n",
       "Name: income_type, dtype: int64"
      ]
     },
     "execution_count": 27,
     "metadata": {},
     "output_type": "execute_result"
    }
   ],
   "source": [
    "# unique values of the `income_type` variable\n",
    "\n",
    "df['income_type'].value_counts()"
   ]
  },
  {
   "cell_type": "markdown",
   "metadata": {},
   "source": [
    "     "
   ]
  },
  {
   "cell_type": "code",
   "execution_count": 28,
   "metadata": {},
   "outputs": [
    {
     "data": {
      "text/plain": [
       "0    19784\n",
       "1     1741\n",
       "Name: debt, dtype: int64"
      ]
     },
     "execution_count": 28,
     "metadata": {},
     "output_type": "execute_result"
    }
   ],
   "source": [
    "# unique values of the `debt` variable\n",
    "\n",
    "df['debt'].value_counts()"
   ]
  },
  {
   "cell_type": "markdown",
   "metadata": {},
   "source": [
    "     "
   ]
  },
  {
   "cell_type": "code",
   "execution_count": 29,
   "metadata": {},
   "outputs": [
    {
     "data": {
      "image/png": "[encoded data removed]",
      "text/plain": [
       "<Figure size 432x288 with 1 Axes>"
      ]
     },
     "metadata": {
      "needs_background": "light"
     },
     "output_type": "display_data"
    }
   ],
   "source": [
    "# check the value distribution of the `total_income` variable\n",
    "\n",
    "df['total_income'].hist(bins = 60).set(title = 'Distribution of `total_income` Values', xlabel = 'Income', ylabel = 'Number of Customers');"
   ]
  },
  {
   "cell_type": "code",
   "execution_count": 30,
   "metadata": {},
   "outputs": [
    {
     "data": {
      "text/plain": [
       "count     19351.000000\n",
       "mean      26787.568355\n",
       "std       16475.450632\n",
       "min        3306.762000\n",
       "25%       16488.504500\n",
       "50%       23202.870000\n",
       "75%       32549.611000\n",
       "max      362496.645000\n",
       "Name: total_income, dtype: float64"
      ]
     },
     "execution_count": 30,
     "metadata": {},
     "output_type": "execute_result"
    }
   ],
   "source": [
    "# descriptive statistics for the positive values of the `total_income` variable\n",
    "\n",
    "df['total_income'].describe()"
   ]
  },
  {
   "cell_type": "code",
   "execution_count": 31,
   "metadata": {},
   "outputs": [
    {
     "data": {
      "text/plain": [
       "99"
      ]
     },
     "execution_count": 31,
     "metadata": {},
     "output_type": "execute_result"
    }
   ],
   "source": [
    "# number of rows where `total_income` values are more then 100,000\n",
    "\n",
    "df[df['total_income'] > 100000]['total_income'].shape[0]"
   ]
  },
  {
   "cell_type": "markdown",
   "metadata": {},
   "source": [
    "The histogram and descriptive statistics show us that most customers have income in the range from about 3,500 to 50,000 dollars, and only a few of them have an income of more than 100,000 dollars."
   ]
  },
  {
   "cell_type": "markdown",
   "metadata": {},
   "source": [
    "   "
   ]
  },
  {
   "cell_type": "code",
   "execution_count": 32,
   "metadata": {},
   "outputs": [
    {
     "data": {
      "text/plain": [
       "wedding ceremony                            797\n",
       "having a wedding                            777\n",
       "to have a wedding                           774\n",
       "real estate transactions                    676\n",
       "buy commercial real estate                  664\n",
       "buying property for renting out             653\n",
       "housing transactions                        653\n",
       "transactions with commercial real estate    651\n",
       "purchase of the house                       647\n",
       "housing                                     647\n",
       "purchase of the house for my family         641\n",
       "construction of own property                635\n",
       "property                                    634\n",
       "transactions with my real estate            630\n",
       "building a real estate                      626\n",
       "buy real estate                             624\n",
       "building a property                         620\n",
       "purchase of my own house                    620\n",
       "housing renovation                          612\n",
       "buy residential real estate                 607\n",
       "buying my own car                           505\n",
       "going to university                         496\n",
       "car                                         495\n",
       "second-hand car purchase                    489\n",
       "to own a car                                480\n",
       "buying a second-hand car                    479\n",
       "cars                                        478\n",
       "to buy a car                                472\n",
       "car purchase                                462\n",
       "supplementary education                     462\n",
       "purchase of a car                           455\n",
       "university education                        453\n",
       "education                                   447\n",
       "to get a supplementary education            447\n",
       "getting an education                        443\n",
       "profile education                           436\n",
       "getting higher education                    426\n",
       "to become educated                          412\n",
       "Name: purpose, dtype: int64"
      ]
     },
     "execution_count": 32,
     "metadata": {},
     "output_type": "execute_result"
    }
   ],
   "source": [
    "# unique values of the `purpose` variable\n",
    "\n",
    "df['purpose'].value_counts()"
   ]
  },
  {
   "cell_type": "code",
   "execution_count": 33,
   "metadata": {},
   "outputs": [
    {
     "data": {
      "text/plain": [
       "38"
      ]
     },
     "execution_count": 33,
     "metadata": {},
     "output_type": "execute_result"
    }
   ],
   "source": [
    "# number of unique values of the `purpose` variable\n",
    "\n",
    "df['purpose'].nunique()"
   ]
  },
  {
   "cell_type": "markdown",
   "metadata": {},
   "source": [
    "### Conclusion\n",
    "\n",
    "So, here we have a dataframe that contains 21525 rows and 12 columns.\n",
    "\n",
    "#### Identified issues:\n",
    "\n",
    "- there are 54 duplicate rows in the dataset;\n",
    "- `days_employed` and `total_income` variables have missing values;\n",
    "- `days_employed` and `total_income` variables should be represented by integers;\n",
    "- `children` variable has unrealistic values: `-1` in 47 rows and `20` in 76 rows;\n",
    "- `days_employed` variable has unrealistic values: negative in 15906 rows and incredibly large in 3445 rows; \n",
    "- `dob_years` variable has zero values in 101 rows;\n",
    "- `dob_years` variable's name is not easy to understand;\n",
    "- `education` variable has values with inconsistent use of capitalization;\n",
    "- `gender` variable has the value called XNA (according to some Kaggle discussions, XNA/XAP denote NA values);\n",
    "- `purpose` variable has 38 distinct values, but some of them describe the same purposes in different words."
   ]
  },
  {
   "cell_type": "markdown",
   "metadata": {},
   "source": [
    "___\n",
    "<a id='step2'><a>\n",
    "## __Cleaning Data__"
   ]
  },
  {
   "cell_type": "markdown",
   "metadata": {},
   "source": [
    "I decided not to fix the `XNA` value in the `gender` column and zero values in the `dob_years` column since these issues are minor and not crucial to further analysis. Otherwise, I would discard these rows - they are only 0.5% of the dataset as we can see below."
   ]
  },
  {
   "cell_type": "code",
   "execution_count": 34,
   "metadata": {},
   "outputs": [
    {
     "name": "stdout",
     "output_type": "stream",
     "text": [
      "0.5%\n"
     ]
    }
   ],
   "source": [
    "# percentage of rows with issues in `gender` and `dob_years` variables\n",
    "\n",
    "df['gender'].value_counts()\n",
    "\n",
    "print('{:.1%}'.format((len(df[df['dob_years'] == 0])+len(df[df['gender'] == 'XNA']))/df.shape[0]))"
   ]
  },
  {
   "cell_type": "markdown",
   "metadata": {},
   "source": [
    "   "
   ]
  },
  {
   "cell_type": "markdown",
   "metadata": {},
   "source": [
    "<a id='step21'><a>\n",
    "### __1. Rename `dob_years` column__"
   ]
  },
  {
   "cell_type": "code",
   "execution_count": 35,
   "metadata": {},
   "outputs": [
    {
     "data": {
      "text/html": [
       "<div>\n",
       "<style scoped>\n",
       "    .dataframe tbody tr th:only-of-type {\n",
       "        vertical-align: middle;\n",
       "    }\n",
       "\n",
       "    .dataframe tbody tr th {\n",
       "        vertical-align: top;\n",
       "    }\n",
       "\n",
       "    .dataframe thead th {\n",
       "        text-align: right;\n",
       "    }\n",
       "</style>\n",
       "<table border=\"1\" class=\"dataframe\">\n",
       "  <thead>\n",
       "    <tr style=\"text-align: right;\">\n",
       "      <th></th>\n",
       "      <th>children</th>\n",
       "      <th>days_employed</th>\n",
       "      <th>age</th>\n",
       "      <th>education</th>\n",
       "      <th>education_id</th>\n",
       "      <th>family_status</th>\n",
       "      <th>family_status_id</th>\n",
       "      <th>gender</th>\n",
       "      <th>income_type</th>\n",
       "      <th>debt</th>\n",
       "      <th>total_income</th>\n",
       "      <th>purpose</th>\n",
       "    </tr>\n",
       "  </thead>\n",
       "  <tbody>\n",
       "    <tr>\n",
       "      <th>0</th>\n",
       "      <td>1</td>\n",
       "      <td>-8437.673028</td>\n",
       "      <td>42</td>\n",
       "      <td>bachelor's degree</td>\n",
       "      <td>0</td>\n",
       "      <td>married</td>\n",
       "      <td>0</td>\n",
       "      <td>F</td>\n",
       "      <td>employee</td>\n",
       "      <td>0</td>\n",
       "      <td>40620.102</td>\n",
       "      <td>purchase of the house</td>\n",
       "    </tr>\n",
       "    <tr>\n",
       "      <th>1</th>\n",
       "      <td>1</td>\n",
       "      <td>-4024.803754</td>\n",
       "      <td>36</td>\n",
       "      <td>secondary education</td>\n",
       "      <td>1</td>\n",
       "      <td>married</td>\n",
       "      <td>0</td>\n",
       "      <td>F</td>\n",
       "      <td>employee</td>\n",
       "      <td>0</td>\n",
       "      <td>17932.802</td>\n",
       "      <td>car purchase</td>\n",
       "    </tr>\n",
       "    <tr>\n",
       "      <th>2</th>\n",
       "      <td>0</td>\n",
       "      <td>-5623.422610</td>\n",
       "      <td>33</td>\n",
       "      <td>Secondary Education</td>\n",
       "      <td>1</td>\n",
       "      <td>married</td>\n",
       "      <td>0</td>\n",
       "      <td>M</td>\n",
       "      <td>employee</td>\n",
       "      <td>0</td>\n",
       "      <td>23341.752</td>\n",
       "      <td>purchase of the house</td>\n",
       "    </tr>\n",
       "    <tr>\n",
       "      <th>3</th>\n",
       "      <td>3</td>\n",
       "      <td>-4124.747207</td>\n",
       "      <td>32</td>\n",
       "      <td>secondary education</td>\n",
       "      <td>1</td>\n",
       "      <td>married</td>\n",
       "      <td>0</td>\n",
       "      <td>M</td>\n",
       "      <td>employee</td>\n",
       "      <td>0</td>\n",
       "      <td>42820.568</td>\n",
       "      <td>supplementary education</td>\n",
       "    </tr>\n",
       "    <tr>\n",
       "      <th>4</th>\n",
       "      <td>0</td>\n",
       "      <td>340266.072047</td>\n",
       "      <td>53</td>\n",
       "      <td>secondary education</td>\n",
       "      <td>1</td>\n",
       "      <td>civil partnership</td>\n",
       "      <td>1</td>\n",
       "      <td>F</td>\n",
       "      <td>retiree</td>\n",
       "      <td>0</td>\n",
       "      <td>25378.572</td>\n",
       "      <td>to have a wedding</td>\n",
       "    </tr>\n",
       "  </tbody>\n",
       "</table>\n",
       "</div>"
      ],
      "text/plain": [
       "   children  days_employed  age            education  education_id  \\\n",
       "0         1   -8437.673028   42    bachelor's degree             0   \n",
       "1         1   -4024.803754   36  secondary education             1   \n",
       "2         0   -5623.422610   33  Secondary Education             1   \n",
       "3         3   -4124.747207   32  secondary education             1   \n",
       "4         0  340266.072047   53  secondary education             1   \n",
       "\n",
       "       family_status  family_status_id gender income_type  debt  total_income  \\\n",
       "0            married                 0      F    employee     0     40620.102   \n",
       "1            married                 0      F    employee     0     17932.802   \n",
       "2            married                 0      M    employee     0     23341.752   \n",
       "3            married                 0      M    employee     0     42820.568   \n",
       "4  civil partnership                 1      F     retiree     0     25378.572   \n",
       "\n",
       "                   purpose  \n",
       "0    purchase of the house  \n",
       "1             car purchase  \n",
       "2    purchase of the house  \n",
       "3  supplementary education  \n",
       "4        to have a wedding  "
      ]
     },
     "execution_count": 35,
     "metadata": {},
     "output_type": "execute_result"
    }
   ],
   "source": [
    "# rename the `dob_years` column using `rename()` method\n",
    "\n",
    "df.rename(columns = {'dob_years':'age'}, inplace = True)\n",
    "\n",
    "# check the result\n",
    "\n",
    "df.head()"
   ]
  },
  {
   "cell_type": "markdown",
   "metadata": {},
   "source": [
    "### Conclusion\n",
    "\n",
    "I changed the name of the `dob_years` column to `age` using `rename` method since the name was not easy to understand."
   ]
  },
  {
   "cell_type": "markdown",
   "metadata": {},
   "source": [
    "   "
   ]
  },
  {
   "cell_type": "markdown",
   "metadata": {},
   "source": [
    "<a id='step22'><a>\n",
    "### __2. Fixing inconsistent use of capitalization in `education` column__"
   ]
  },
  {
   "cell_type": "code",
   "execution_count": 36,
   "metadata": {},
   "outputs": [
    {
     "data": {
      "text/plain": [
       "secondary education    15233\n",
       "bachelor's degree       5260\n",
       "some college             744\n",
       "primary education        282\n",
       "graduate degree            6\n",
       "Name: education, dtype: int64"
      ]
     },
     "execution_count": 36,
     "metadata": {},
     "output_type": "execute_result"
    }
   ],
   "source": [
    "# convert the case of the values letters for the `education` variable\n",
    "\n",
    "df['education'] = df['education'].str.lower()\n",
    "\n",
    "# check the result \n",
    "\n",
    "df['education'].value_counts()"
   ]
  },
  {
   "cell_type": "markdown",
   "metadata": {},
   "source": [
    "### Conclusion\n",
    "\n",
    "As I have found out in the previous step, some values in `education` column were strings with lowercase characters, some - with uppercase characters, some - with capitalized characters (first letter of each word were uppercase). I used `str.lower()` method to convert strings to lowercase."
   ]
  },
  {
   "cell_type": "markdown",
   "metadata": {},
   "source": [
    "   "
   ]
  },
  {
   "cell_type": "markdown",
   "metadata": {},
   "source": [
    "<a id='step23'><a>\n",
    "### __3. Processing missing values (`days_employed` and `total_income` columns)__"
   ]
  },
  {
   "cell_type": "code",
   "execution_count": 37,
   "metadata": {},
   "outputs": [
    {
     "name": "stdout",
     "output_type": "stream",
     "text": [
      "Total missing values in `total_income`: 2174\n",
      "Percentage of missing values in `total_income`: 10.1%\n"
     ]
    }
   ],
   "source": [
    "# number of the `total_income` missing values\n",
    "\n",
    "print('Total missing values in `total_income`:', df['total_income'].isnull().sum())\n",
    "\n",
    "# percentage of the `total_income` missing values\n",
    "\n",
    "print('Percentage of missing values in `total_income`: {:.1%}'.format(df['total_income'].isnull().sum(axis = 0)/df.shape[0]))"
   ]
  },
  {
   "cell_type": "markdown",
   "metadata": {},
   "source": [
    "   "
   ]
  },
  {
   "cell_type": "code",
   "execution_count": 38,
   "metadata": {},
   "outputs": [
    {
     "name": "stdout",
     "output_type": "stream",
     "text": [
      "Total missing values in `days_employed`: 2174\n",
      "Percentage of missing values in `days_employed`: 10.1%\n"
     ]
    }
   ],
   "source": [
    "# the number of the `days_employed` missing values\n",
    "\n",
    "print('Total missing values in `days_employed`:', df['days_employed'].isnull().sum())\n",
    "\n",
    "# percentage of the `days_employed` missing values\n",
    "\n",
    "print('Percentage of missing values in `days_employed`: {:.1%}'.format(df['days_employed'].isnull().sum(axis = 0)/df.shape[0]))"
   ]
  },
  {
   "cell_type": "markdown",
   "metadata": {},
   "source": [
    "   "
   ]
  },
  {
   "cell_type": "markdown",
   "metadata": {},
   "source": [
    "Since the `days_employed` variable has missing values as well as the `total_income` variable, check if there are some connections between their `NaN` values."
   ]
  },
  {
   "cell_type": "code",
   "execution_count": 39,
   "metadata": {},
   "outputs": [
    {
     "name": "stdout",
     "output_type": "stream",
     "text": [
      "Missing values of the `days_employed` and `total_income` variables are in the same rows.\n"
     ]
    }
   ],
   "source": [
    "# create a list with indices of rows with `total_income` missing values\n",
    "\n",
    "idx_total_income = []\n",
    "for index, row in df[df['total_income'].isnull()].iterrows():\n",
    "    idx_total_income.append(index)\n",
    "\n",
    "# create a list with indices of rows with `days_employed` missing values\n",
    "\n",
    "idx_days_employed = []\n",
    "for index, row in df[df['days_employed'].isnull()].iterrows():\n",
    "    idx_days_employed.append(index)\n",
    "    \n",
    "    \n",
    "# check if the `total_income` missing values and the `days_employed` missing values are in the same rows\n",
    "\n",
    "if idx_total_income == idx_days_employed:\n",
    "    print('Missing values of the `days_employed` and `total_income` variables are in the same rows.')\n",
    "else:\n",
    "    print('Missing values of the `days_employed` and `total_income` variables are not in the same rows.')"
   ]
  },
  {
   "cell_type": "markdown",
   "metadata": {},
   "source": [
    "   "
   ]
  },
  {
   "cell_type": "markdown",
   "metadata": {},
   "source": [
    "Now I need to identify the type of missing data I'm dealing with: MCAR, MAR or MNAR. If there is no pattern in missing data, I can assume that the type of missing data is MCAR or MAR. In this case, since the missing values are quantitative, I can fill them with representative values like the median or mean.\n",
    "\n",
    "To determine if there is any pattern in the missing data, I will create a subset of the `df` dataframe with only rows with the missing values in the `total_income` and `days_employed` columns. Then I will compare the value distributions of both datasets."
   ]
  },
  {
   "cell_type": "code",
   "execution_count": 40,
   "metadata": {},
   "outputs": [
    {
     "data": {
      "text/html": [
       "<div>\n",
       "<style scoped>\n",
       "    .dataframe tbody tr th:only-of-type {\n",
       "        vertical-align: middle;\n",
       "    }\n",
       "\n",
       "    .dataframe tbody tr th {\n",
       "        vertical-align: top;\n",
       "    }\n",
       "\n",
       "    .dataframe thead th {\n",
       "        text-align: right;\n",
       "    }\n",
       "</style>\n",
       "<table border=\"1\" class=\"dataframe\">\n",
       "  <thead>\n",
       "    <tr style=\"text-align: right;\">\n",
       "      <th></th>\n",
       "      <th>children</th>\n",
       "      <th>days_employed</th>\n",
       "      <th>age</th>\n",
       "      <th>education</th>\n",
       "      <th>education_id</th>\n",
       "      <th>family_status</th>\n",
       "      <th>family_status_id</th>\n",
       "      <th>gender</th>\n",
       "      <th>income_type</th>\n",
       "      <th>debt</th>\n",
       "      <th>total_income</th>\n",
       "      <th>purpose</th>\n",
       "    </tr>\n",
       "  </thead>\n",
       "  <tbody>\n",
       "    <tr>\n",
       "      <th>12</th>\n",
       "      <td>0</td>\n",
       "      <td>NaN</td>\n",
       "      <td>65</td>\n",
       "      <td>secondary education</td>\n",
       "      <td>1</td>\n",
       "      <td>civil partnership</td>\n",
       "      <td>1</td>\n",
       "      <td>M</td>\n",
       "      <td>retiree</td>\n",
       "      <td>0</td>\n",
       "      <td>NaN</td>\n",
       "      <td>to have a wedding</td>\n",
       "    </tr>\n",
       "    <tr>\n",
       "      <th>26</th>\n",
       "      <td>0</td>\n",
       "      <td>NaN</td>\n",
       "      <td>41</td>\n",
       "      <td>secondary education</td>\n",
       "      <td>1</td>\n",
       "      <td>married</td>\n",
       "      <td>0</td>\n",
       "      <td>M</td>\n",
       "      <td>civil servant</td>\n",
       "      <td>0</td>\n",
       "      <td>NaN</td>\n",
       "      <td>education</td>\n",
       "    </tr>\n",
       "    <tr>\n",
       "      <th>29</th>\n",
       "      <td>0</td>\n",
       "      <td>NaN</td>\n",
       "      <td>63</td>\n",
       "      <td>secondary education</td>\n",
       "      <td>1</td>\n",
       "      <td>unmarried</td>\n",
       "      <td>4</td>\n",
       "      <td>F</td>\n",
       "      <td>retiree</td>\n",
       "      <td>0</td>\n",
       "      <td>NaN</td>\n",
       "      <td>building a real estate</td>\n",
       "    </tr>\n",
       "    <tr>\n",
       "      <th>41</th>\n",
       "      <td>0</td>\n",
       "      <td>NaN</td>\n",
       "      <td>50</td>\n",
       "      <td>secondary education</td>\n",
       "      <td>1</td>\n",
       "      <td>married</td>\n",
       "      <td>0</td>\n",
       "      <td>F</td>\n",
       "      <td>civil servant</td>\n",
       "      <td>0</td>\n",
       "      <td>NaN</td>\n",
       "      <td>second-hand car purchase</td>\n",
       "    </tr>\n",
       "    <tr>\n",
       "      <th>55</th>\n",
       "      <td>0</td>\n",
       "      <td>NaN</td>\n",
       "      <td>54</td>\n",
       "      <td>secondary education</td>\n",
       "      <td>1</td>\n",
       "      <td>civil partnership</td>\n",
       "      <td>1</td>\n",
       "      <td>F</td>\n",
       "      <td>retiree</td>\n",
       "      <td>1</td>\n",
       "      <td>NaN</td>\n",
       "      <td>to have a wedding</td>\n",
       "    </tr>\n",
       "    <tr>\n",
       "      <th>65</th>\n",
       "      <td>0</td>\n",
       "      <td>NaN</td>\n",
       "      <td>21</td>\n",
       "      <td>secondary education</td>\n",
       "      <td>1</td>\n",
       "      <td>unmarried</td>\n",
       "      <td>4</td>\n",
       "      <td>M</td>\n",
       "      <td>business</td>\n",
       "      <td>0</td>\n",
       "      <td>NaN</td>\n",
       "      <td>transactions with commercial real estate</td>\n",
       "    </tr>\n",
       "    <tr>\n",
       "      <th>67</th>\n",
       "      <td>0</td>\n",
       "      <td>NaN</td>\n",
       "      <td>52</td>\n",
       "      <td>bachelor's degree</td>\n",
       "      <td>0</td>\n",
       "      <td>married</td>\n",
       "      <td>0</td>\n",
       "      <td>F</td>\n",
       "      <td>retiree</td>\n",
       "      <td>0</td>\n",
       "      <td>NaN</td>\n",
       "      <td>purchase of the house for my family</td>\n",
       "    </tr>\n",
       "    <tr>\n",
       "      <th>72</th>\n",
       "      <td>1</td>\n",
       "      <td>NaN</td>\n",
       "      <td>32</td>\n",
       "      <td>bachelor's degree</td>\n",
       "      <td>0</td>\n",
       "      <td>married</td>\n",
       "      <td>0</td>\n",
       "      <td>M</td>\n",
       "      <td>civil servant</td>\n",
       "      <td>0</td>\n",
       "      <td>NaN</td>\n",
       "      <td>transactions with commercial real estate</td>\n",
       "    </tr>\n",
       "    <tr>\n",
       "      <th>82</th>\n",
       "      <td>2</td>\n",
       "      <td>NaN</td>\n",
       "      <td>50</td>\n",
       "      <td>bachelor's degree</td>\n",
       "      <td>0</td>\n",
       "      <td>married</td>\n",
       "      <td>0</td>\n",
       "      <td>F</td>\n",
       "      <td>employee</td>\n",
       "      <td>0</td>\n",
       "      <td>NaN</td>\n",
       "      <td>housing</td>\n",
       "    </tr>\n",
       "    <tr>\n",
       "      <th>83</th>\n",
       "      <td>0</td>\n",
       "      <td>NaN</td>\n",
       "      <td>52</td>\n",
       "      <td>secondary education</td>\n",
       "      <td>1</td>\n",
       "      <td>married</td>\n",
       "      <td>0</td>\n",
       "      <td>M</td>\n",
       "      <td>employee</td>\n",
       "      <td>0</td>\n",
       "      <td>NaN</td>\n",
       "      <td>housing</td>\n",
       "    </tr>\n",
       "  </tbody>\n",
       "</table>\n",
       "</div>"
      ],
      "text/plain": [
       "    children  days_employed  age            education  education_id  \\\n",
       "12         0            NaN   65  secondary education             1   \n",
       "26         0            NaN   41  secondary education             1   \n",
       "29         0            NaN   63  secondary education             1   \n",
       "41         0            NaN   50  secondary education             1   \n",
       "55         0            NaN   54  secondary education             1   \n",
       "65         0            NaN   21  secondary education             1   \n",
       "67         0            NaN   52    bachelor's degree             0   \n",
       "72         1            NaN   32    bachelor's degree             0   \n",
       "82         2            NaN   50    bachelor's degree             0   \n",
       "83         0            NaN   52  secondary education             1   \n",
       "\n",
       "        family_status  family_status_id gender    income_type  debt  \\\n",
       "12  civil partnership                 1      M        retiree     0   \n",
       "26            married                 0      M  civil servant     0   \n",
       "29          unmarried                 4      F        retiree     0   \n",
       "41            married                 0      F  civil servant     0   \n",
       "55  civil partnership                 1      F        retiree     1   \n",
       "65          unmarried                 4      M       business     0   \n",
       "67            married                 0      F        retiree     0   \n",
       "72            married                 0      M  civil servant     0   \n",
       "82            married                 0      F       employee     0   \n",
       "83            married                 0      M       employee     0   \n",
       "\n",
       "    total_income                                   purpose  \n",
       "12           NaN                         to have a wedding  \n",
       "26           NaN                                 education  \n",
       "29           NaN                    building a real estate  \n",
       "41           NaN                  second-hand car purchase  \n",
       "55           NaN                         to have a wedding  \n",
       "65           NaN  transactions with commercial real estate  \n",
       "67           NaN       purchase of the house for my family  \n",
       "72           NaN  transactions with commercial real estate  \n",
       "82           NaN                                   housing  \n",
       "83           NaN                                   housing  "
      ]
     },
     "execution_count": 40,
     "metadata": {},
     "output_type": "execute_result"
    }
   ],
   "source": [
    "# create a dataframe with only the missing data in the `total_income` and `days_employed` columns\n",
    "\n",
    "df_nan = df[(df['total_income'].isnull()) & (df['days_employed'].isnull())]\n",
    "\n",
    "# check the result\n",
    "\n",
    "df_nan.head(10)"
   ]
  },
  {
   "cell_type": "markdown",
   "metadata": {},
   "source": [
    "Compare value distributions of all the quantitative variables in both datasets."
   ]
  },
  {
   "cell_type": "code",
   "execution_count": 41,
   "metadata": {},
   "outputs": [
    {
     "data": {
      "text/html": [
       "<div>\n",
       "<style scoped>\n",
       "    .dataframe tbody tr th:only-of-type {\n",
       "        vertical-align: middle;\n",
       "    }\n",
       "\n",
       "    .dataframe tbody tr th {\n",
       "        vertical-align: top;\n",
       "    }\n",
       "\n",
       "    .dataframe thead th {\n",
       "        text-align: right;\n",
       "    }\n",
       "</style>\n",
       "<table border=\"1\" class=\"dataframe\">\n",
       "  <thead>\n",
       "    <tr style=\"text-align: right;\">\n",
       "      <th></th>\n",
       "      <th>children</th>\n",
       "      <th>days_employed</th>\n",
       "      <th>age</th>\n",
       "      <th>education_id</th>\n",
       "      <th>family_status_id</th>\n",
       "      <th>debt</th>\n",
       "      <th>total_income</th>\n",
       "    </tr>\n",
       "  </thead>\n",
       "  <tbody>\n",
       "    <tr>\n",
       "      <th>count</th>\n",
       "      <td>21525.000000</td>\n",
       "      <td>19351.000000</td>\n",
       "      <td>21525.000000</td>\n",
       "      <td>21525.000000</td>\n",
       "      <td>21525.000000</td>\n",
       "      <td>21525.000000</td>\n",
       "      <td>19351.000000</td>\n",
       "    </tr>\n",
       "    <tr>\n",
       "      <th>mean</th>\n",
       "      <td>0.538908</td>\n",
       "      <td>63046.497661</td>\n",
       "      <td>43.293380</td>\n",
       "      <td>0.817236</td>\n",
       "      <td>0.972544</td>\n",
       "      <td>0.080883</td>\n",
       "      <td>26787.568355</td>\n",
       "    </tr>\n",
       "    <tr>\n",
       "      <th>std</th>\n",
       "      <td>1.381587</td>\n",
       "      <td>140827.311974</td>\n",
       "      <td>12.574584</td>\n",
       "      <td>0.548138</td>\n",
       "      <td>1.420324</td>\n",
       "      <td>0.272661</td>\n",
       "      <td>16475.450632</td>\n",
       "    </tr>\n",
       "    <tr>\n",
       "      <th>min</th>\n",
       "      <td>-1.000000</td>\n",
       "      <td>-18388.949901</td>\n",
       "      <td>0.000000</td>\n",
       "      <td>0.000000</td>\n",
       "      <td>0.000000</td>\n",
       "      <td>0.000000</td>\n",
       "      <td>3306.762000</td>\n",
       "    </tr>\n",
       "    <tr>\n",
       "      <th>25%</th>\n",
       "      <td>0.000000</td>\n",
       "      <td>-2747.423625</td>\n",
       "      <td>33.000000</td>\n",
       "      <td>1.000000</td>\n",
       "      <td>0.000000</td>\n",
       "      <td>0.000000</td>\n",
       "      <td>16488.504500</td>\n",
       "    </tr>\n",
       "    <tr>\n",
       "      <th>50%</th>\n",
       "      <td>0.000000</td>\n",
       "      <td>-1203.369529</td>\n",
       "      <td>42.000000</td>\n",
       "      <td>1.000000</td>\n",
       "      <td>0.000000</td>\n",
       "      <td>0.000000</td>\n",
       "      <td>23202.870000</td>\n",
       "    </tr>\n",
       "    <tr>\n",
       "      <th>75%</th>\n",
       "      <td>1.000000</td>\n",
       "      <td>-291.095954</td>\n",
       "      <td>53.000000</td>\n",
       "      <td>1.000000</td>\n",
       "      <td>1.000000</td>\n",
       "      <td>0.000000</td>\n",
       "      <td>32549.611000</td>\n",
       "    </tr>\n",
       "    <tr>\n",
       "      <th>max</th>\n",
       "      <td>20.000000</td>\n",
       "      <td>401755.400475</td>\n",
       "      <td>75.000000</td>\n",
       "      <td>4.000000</td>\n",
       "      <td>4.000000</td>\n",
       "      <td>1.000000</td>\n",
       "      <td>362496.645000</td>\n",
       "    </tr>\n",
       "  </tbody>\n",
       "</table>\n",
       "</div>"
      ],
      "text/plain": [
       "           children  days_employed           age  education_id  \\\n",
       "count  21525.000000   19351.000000  21525.000000  21525.000000   \n",
       "mean       0.538908   63046.497661     43.293380      0.817236   \n",
       "std        1.381587  140827.311974     12.574584      0.548138   \n",
       "min       -1.000000  -18388.949901      0.000000      0.000000   \n",
       "25%        0.000000   -2747.423625     33.000000      1.000000   \n",
       "50%        0.000000   -1203.369529     42.000000      1.000000   \n",
       "75%        1.000000    -291.095954     53.000000      1.000000   \n",
       "max       20.000000  401755.400475     75.000000      4.000000   \n",
       "\n",
       "       family_status_id          debt   total_income  \n",
       "count      21525.000000  21525.000000   19351.000000  \n",
       "mean           0.972544      0.080883   26787.568355  \n",
       "std            1.420324      0.272661   16475.450632  \n",
       "min            0.000000      0.000000    3306.762000  \n",
       "25%            0.000000      0.000000   16488.504500  \n",
       "50%            0.000000      0.000000   23202.870000  \n",
       "75%            1.000000      0.000000   32549.611000  \n",
       "max            4.000000      1.000000  362496.645000  "
      ]
     },
     "execution_count": 41,
     "metadata": {},
     "output_type": "execute_result"
    }
   ],
   "source": [
    "# value distributions of the `df` variables\n",
    "\n",
    "df.describe()"
   ]
  },
  {
   "cell_type": "code",
   "execution_count": 42,
   "metadata": {},
   "outputs": [
    {
     "data": {
      "text/html": [
       "<div>\n",
       "<style scoped>\n",
       "    .dataframe tbody tr th:only-of-type {\n",
       "        vertical-align: middle;\n",
       "    }\n",
       "\n",
       "    .dataframe tbody tr th {\n",
       "        vertical-align: top;\n",
       "    }\n",
       "\n",
       "    .dataframe thead th {\n",
       "        text-align: right;\n",
       "    }\n",
       "</style>\n",
       "<table border=\"1\" class=\"dataframe\">\n",
       "  <thead>\n",
       "    <tr style=\"text-align: right;\">\n",
       "      <th></th>\n",
       "      <th>children</th>\n",
       "      <th>days_employed</th>\n",
       "      <th>age</th>\n",
       "      <th>education_id</th>\n",
       "      <th>family_status_id</th>\n",
       "      <th>debt</th>\n",
       "      <th>total_income</th>\n",
       "    </tr>\n",
       "  </thead>\n",
       "  <tbody>\n",
       "    <tr>\n",
       "      <th>count</th>\n",
       "      <td>2174.000000</td>\n",
       "      <td>0.0</td>\n",
       "      <td>2174.000000</td>\n",
       "      <td>2174.000000</td>\n",
       "      <td>2174.000000</td>\n",
       "      <td>2174.000000</td>\n",
       "      <td>0.0</td>\n",
       "    </tr>\n",
       "    <tr>\n",
       "      <th>mean</th>\n",
       "      <td>0.552438</td>\n",
       "      <td>NaN</td>\n",
       "      <td>43.632015</td>\n",
       "      <td>0.800828</td>\n",
       "      <td>0.975161</td>\n",
       "      <td>0.078197</td>\n",
       "      <td>NaN</td>\n",
       "    </tr>\n",
       "    <tr>\n",
       "      <th>std</th>\n",
       "      <td>1.469356</td>\n",
       "      <td>NaN</td>\n",
       "      <td>12.531481</td>\n",
       "      <td>0.530157</td>\n",
       "      <td>1.418220</td>\n",
       "      <td>0.268543</td>\n",
       "      <td>NaN</td>\n",
       "    </tr>\n",
       "    <tr>\n",
       "      <th>min</th>\n",
       "      <td>-1.000000</td>\n",
       "      <td>NaN</td>\n",
       "      <td>0.000000</td>\n",
       "      <td>0.000000</td>\n",
       "      <td>0.000000</td>\n",
       "      <td>0.000000</td>\n",
       "      <td>NaN</td>\n",
       "    </tr>\n",
       "    <tr>\n",
       "      <th>25%</th>\n",
       "      <td>0.000000</td>\n",
       "      <td>NaN</td>\n",
       "      <td>34.000000</td>\n",
       "      <td>0.250000</td>\n",
       "      <td>0.000000</td>\n",
       "      <td>0.000000</td>\n",
       "      <td>NaN</td>\n",
       "    </tr>\n",
       "    <tr>\n",
       "      <th>50%</th>\n",
       "      <td>0.000000</td>\n",
       "      <td>NaN</td>\n",
       "      <td>43.000000</td>\n",
       "      <td>1.000000</td>\n",
       "      <td>0.000000</td>\n",
       "      <td>0.000000</td>\n",
       "      <td>NaN</td>\n",
       "    </tr>\n",
       "    <tr>\n",
       "      <th>75%</th>\n",
       "      <td>1.000000</td>\n",
       "      <td>NaN</td>\n",
       "      <td>54.000000</td>\n",
       "      <td>1.000000</td>\n",
       "      <td>1.000000</td>\n",
       "      <td>0.000000</td>\n",
       "      <td>NaN</td>\n",
       "    </tr>\n",
       "    <tr>\n",
       "      <th>max</th>\n",
       "      <td>20.000000</td>\n",
       "      <td>NaN</td>\n",
       "      <td>73.000000</td>\n",
       "      <td>3.000000</td>\n",
       "      <td>4.000000</td>\n",
       "      <td>1.000000</td>\n",
       "      <td>NaN</td>\n",
       "    </tr>\n",
       "  </tbody>\n",
       "</table>\n",
       "</div>"
      ],
      "text/plain": [
       "          children  days_employed          age  education_id  \\\n",
       "count  2174.000000            0.0  2174.000000   2174.000000   \n",
       "mean      0.552438            NaN    43.632015      0.800828   \n",
       "std       1.469356            NaN    12.531481      0.530157   \n",
       "min      -1.000000            NaN     0.000000      0.000000   \n",
       "25%       0.000000            NaN    34.000000      0.250000   \n",
       "50%       0.000000            NaN    43.000000      1.000000   \n",
       "75%       1.000000            NaN    54.000000      1.000000   \n",
       "max      20.000000            NaN    73.000000      3.000000   \n",
       "\n",
       "       family_status_id         debt  total_income  \n",
       "count       2174.000000  2174.000000           0.0  \n",
       "mean           0.975161     0.078197           NaN  \n",
       "std            1.418220     0.268543           NaN  \n",
       "min            0.000000     0.000000           NaN  \n",
       "25%            0.000000     0.000000           NaN  \n",
       "50%            0.000000     0.000000           NaN  \n",
       "75%            1.000000     0.000000           NaN  \n",
       "max            4.000000     1.000000           NaN  "
      ]
     },
     "execution_count": 42,
     "metadata": {},
     "output_type": "execute_result"
    }
   ],
   "source": [
    "# value distributions of the `df_nan` variables\n",
    "\n",
    "df_nan.describe()"
   ]
  },
  {
   "cell_type": "markdown",
   "metadata": {},
   "source": [
    "It seems like there are not significant differences in the quantitative variables' value distributions.\n",
    "\n",
    "Compare value distributions of the categorial variables like `education`, `family_status`, `gender`, `income_type` and `purpose`."
   ]
  },
  {
   "cell_type": "code",
   "execution_count": 43,
   "metadata": {},
   "outputs": [
    {
     "data": {
      "image/png": "[encoded data removed]",
      "text/plain": [
       "<Figure size 720x360 with 1 Axes>"
      ]
     },
     "metadata": {
      "needs_background": "light"
     },
     "output_type": "display_data"
    }
   ],
   "source": [
    "# `education` value distribution of the `df_nan` dataframe\n",
    "\n",
    "plt.figure(figsize = [10, 5])\n",
    "y_ticks = [0, 2000, 4000, 6000, 8000, 10000, 12000, 14000, 16000, 18000]\n",
    "education_order = ['graduate degree', 'bachelor\\'s degree', 'some college', 'secondary education', 'primary education']\n",
    "sb.countplot(data = df, x = 'education', color = 'lightsteelblue', order = education_order)\n",
    "\n",
    "categories = df['education'].value_counts()\n",
    "locs, labels = plt.xticks()\n",
    "\n",
    "for loc, label in zip(locs, labels):\n",
    "    percentage = '{:0.1f}%'.format(100 * categories[label.get_text()] / len(df))\n",
    "    plt.text(loc, categories[label.get_text()] + 300, percentage, ha = 'center', va = 'baseline')\n",
    "\n",
    "\n",
    "plt.title('\\nDistribution of Education Levels\\n(df_nan dataset)\\n')\n",
    "plt.xlabel('\\nEducation Level')\n",
    "plt.ylabel('Number of Customers\\n')\n",
    "plt.yticks(y_ticks)\n",
    "plt.show();"
   ]
  },
  {
   "cell_type": "code",
   "execution_count": 44,
   "metadata": {},
   "outputs": [
    {
     "data": {
      "image/png": "[encoded data removed]",
      "text/plain": [
       "<Figure size 720x360 with 1 Axes>"
      ]
     },
     "metadata": {
      "needs_background": "light"
     },
     "output_type": "display_data"
    }
   ],
   "source": [
    "# `education` value distribution of the `df` dataframe\n",
    "\n",
    "plt.figure(figsize = [10, 5])\n",
    "y_ticks = [0, 300, 600, 900, 1200, 1500, 1800, 2100]\n",
    "education_order = ['bachelor\\'s degree', 'some college', 'secondary education', 'primary education']\n",
    "sb.countplot(data = df_nan, x = 'education', color = 'lightsteelblue', order = education_order)\n",
    "\n",
    "categories = df_nan['education'].value_counts()\n",
    "locs, labels = plt.xticks()\n",
    "\n",
    "for loc, label in zip(locs, labels):\n",
    "    percentage = '{:0.1f}%'.format(100 * categories[label.get_text()] / len(df_nan))\n",
    "    plt.text(loc, categories[label.get_text()] + 100, percentage, ha = 'center', va = 'baseline')\n",
    "\n",
    "\n",
    "plt.title('\\nDistribution of Education Levels\\n(df dataset)\\n')\n",
    "plt.xlabel('\\nEducation Level')\n",
    "plt.ylabel('Number of Customers\\n')\n",
    "plt.yticks(y_ticks)\n",
    "plt.show();"
   ]
  },
  {
   "cell_type": "code",
   "execution_count": 45,
   "metadata": {},
   "outputs": [
    {
     "data": {
      "image/png": "[encoded data removed]",
      "text/plain": [
       "<Figure size 720x360 with 1 Axes>"
      ]
     },
     "metadata": {
      "needs_background": "light"
     },
     "output_type": "display_data"
    }
   ],
   "source": [
    "# `family_status` value distribution of the `df` dataframe\n",
    "\n",
    "plt.figure(figsize = [10, 5])\n",
    "y_ticks = [0, 2000, 4000, 6000, 8000, 10000, 12000, 14000]\n",
    "family_status_order = ['married', 'civil partnership', 'unmarried', 'divorced', 'widow / widower']\n",
    "sb.countplot(data = df, x = 'family_status', color = 'lightsteelblue', order = family_status_order)\n",
    "\n",
    "categories = df['family_status'].value_counts()\n",
    "locs, labels = plt.xticks()\n",
    "\n",
    "for loc, label in zip(locs, labels):\n",
    "    percentage = '{:0.1f}%'.format(100 * categories[label.get_text()] / len(df))\n",
    "    plt.text(loc, categories[label.get_text()] + 300, percentage, ha = 'center', va = 'baseline')\n",
    "\n",
    "\n",
    "plt.title('\\nDistribution of Family Statuses\\n(df dataset)\\n')\n",
    "plt.xlabel('\\nFamily Status')\n",
    "plt.ylabel('Number of Customers\\n')\n",
    "plt.yticks(y_ticks)\n",
    "plt.show();"
   ]
  },
  {
   "cell_type": "code",
   "execution_count": 46,
   "metadata": {},
   "outputs": [
    {
     "data": {
      "image/png": "[encoded data removed]",
      "text/plain": [
       "<Figure size 720x360 with 1 Axes>"
      ]
     },
     "metadata": {
      "needs_background": "light"
     },
     "output_type": "display_data"
    }
   ],
   "source": [
    "# `family_status` value distribution of the `df_nan` dataframe\n",
    "\n",
    "plt.figure(figsize = [10, 5])\n",
    "y_ticks = [0, 300, 600, 900, 1200, 1500]\n",
    "family_status_order = ['married', 'civil partnership', 'unmarried', 'divorced', 'widow / widower']\n",
    "sb.countplot(data = df_nan, x = 'family_status', color = 'lightsteelblue', order = family_status_order)\n",
    "\n",
    "categories = df_nan['family_status'].value_counts()\n",
    "locs, labels = plt.xticks()\n",
    "\n",
    "for loc, label in zip(locs, labels):\n",
    "    percentage = '{:0.1f}%'.format(100 * categories[label.get_text()] / len(df_nan))\n",
    "    plt.text(loc, categories[label.get_text()] + 100, percentage, ha = 'center', va = 'baseline')\n",
    "\n",
    "\n",
    "plt.title('\\nDistribution of Family Statuses\\n(df_nan dataset)\\n')\n",
    "plt.xlabel('\\nFamily Status')\n",
    "plt.ylabel('Number of Customers\\n')\n",
    "plt.yticks(y_ticks)\n",
    "plt.show();"
   ]
  },
  {
   "cell_type": "code",
   "execution_count": 47,
   "metadata": {},
   "outputs": [
    {
     "data": {
      "image/png": "[encoded data removed]",
      "text/plain": [
       "<Figure size 504x360 with 1 Axes>"
      ]
     },
     "metadata": {
      "needs_background": "light"
     },
     "output_type": "display_data"
    }
   ],
   "source": [
    "# `gender` value distribution of the `df` dataframe\n",
    "\n",
    "plt.figure(figsize = [7, 5])\n",
    "y_ticks = [0, 2000, 4000, 6000, 8000, 10000, 12000, 14000, 16000]\n",
    "gender_order = ['F', 'M', 'XNA']\n",
    "sb.countplot(data = df, x = 'gender', color = 'lightsteelblue', order = gender_order)\n",
    "\n",
    "categories = df['gender'].value_counts()\n",
    "locs, labels = plt.xticks()\n",
    "\n",
    "for loc, label in zip(locs, labels):\n",
    "    percentage = '{:0.1f}%'.format(100 * categories[label.get_text()] / len(df))\n",
    "    plt.text(loc, categories[label.get_text()] + 300, percentage, ha = 'center', va = 'baseline')\n",
    "\n",
    "\n",
    "plt.title('\\nDistribution of Gender\\n(df dataset)\\n')\n",
    "plt.xlabel('\\nGender')\n",
    "plt.ylabel('Number of Customers\\n')\n",
    "plt.yticks(y_ticks)\n",
    "plt.show();"
   ]
  },
  {
   "cell_type": "code",
   "execution_count": 48,
   "metadata": {},
   "outputs": [
    {
     "data": {
      "image/png": "[encoded data removed]",
      "text/plain": [
       "<Figure size 360x360 with 1 Axes>"
      ]
     },
     "metadata": {
      "needs_background": "light"
     },
     "output_type": "display_data"
    }
   ],
   "source": [
    "# `gender` value distribution of the `df_nan` dataframe\n",
    "\n",
    "plt.figure(figsize = [5, 5])\n",
    "y_ticks = [0, 300, 600, 900, 1200, 1500, 1800]\n",
    "gender_order = ['F', 'M']\n",
    "sb.countplot(data = df_nan, x = 'gender', color = 'lightsteelblue', order = gender_order)\n",
    "\n",
    "categories = df_nan['gender'].value_counts()\n",
    "locs, labels = plt.xticks()\n",
    "\n",
    "for loc, label in zip(locs, labels):\n",
    "    percentage = '{:0.1f}%'.format(100 * categories[label.get_text()] / len(df_nan))\n",
    "    plt.text(loc, categories[label.get_text()] + 100, percentage, ha = 'center', va = 'baseline')\n",
    "\n",
    "\n",
    "plt.title('\\nDistribution of Gender\\n(df_nan dataset)\\n')\n",
    "plt.xlabel('\\nGender')\n",
    "plt.ylabel('Number of Customers\\n')\n",
    "plt.yticks(y_ticks)\n",
    "plt.show();"
   ]
  },
  {
   "cell_type": "code",
   "execution_count": 49,
   "metadata": {},
   "outputs": [
    {
     "data": {
      "image/png": "[encoded data removed]",
      "text/plain": [
       "<Figure size 1440x360 with 1 Axes>"
      ]
     },
     "metadata": {
      "needs_background": "light"
     },
     "output_type": "display_data"
    }
   ],
   "source": [
    "# `income_type` value distribution of the `df` dataframe\n",
    "\n",
    "plt.figure(figsize = [20, 5])\n",
    "y_ticks = [0, 2000, 4000, 6000, 8000, 10000, 12000, 14000, 16000]\n",
    "income_type_order = ['employee', 'business', 'retiree', 'civil servant', 'entrepreneur', 'unemployed', 'paternity / maternity leave', 'student']\n",
    "sb.countplot(data = df, x = 'income_type', color = 'lightsteelblue', order = income_type_order)\n",
    "\n",
    "categories = df['income_type'].value_counts()\n",
    "locs, labels = plt.xticks()\n",
    "\n",
    "for loc, label in zip(locs, labels):\n",
    "    percentage = '{:0.1f}%'.format(100 * categories[label.get_text()] / len(df))\n",
    "    plt.text(loc, categories[label.get_text()] + 300, percentage, ha = 'center', va = 'baseline')\n",
    "\n",
    "\n",
    "plt.title('\\nDistribution of Income Type\\n(df dataset)\\n')\n",
    "plt.xlabel('\\nIncome Type')\n",
    "plt.ylabel('Number of Customers\\n')\n",
    "plt.yticks(y_ticks)\n",
    "plt.show();"
   ]
  },
  {
   "cell_type": "code",
   "execution_count": 50,
   "metadata": {},
   "outputs": [
    {
     "data": {
      "image/png": "[encoded data removed]",
      "text/plain": [
       "<Figure size 936x360 with 1 Axes>"
      ]
     },
     "metadata": {
      "needs_background": "light"
     },
     "output_type": "display_data"
    }
   ],
   "source": [
    "# `income_type` value distribution of the `df_nan` dataframe\n",
    "\n",
    "plt.figure(figsize = [13, 5])\n",
    "y_ticks = [0, 300, 600, 900, 1200, 1500, 1800]\n",
    "income_type_order = ['employee', 'business', 'retiree',  'civil servant', 'entrepreneur']\n",
    "sb.countplot(data = df_nan, x = 'income_type', color = 'lightsteelblue', order = income_type_order)\n",
    "\n",
    "categories = df_nan['income_type'].value_counts()\n",
    "locs, labels = plt.xticks()\n",
    "\n",
    "for loc, label in zip(locs, labels):\n",
    "    percentage = '{:0.1f}%'.format(100 * categories[label.get_text()] / len(df_nan))\n",
    "    plt.text(loc, categories[label.get_text()] + 100, percentage, ha = 'center', va = 'baseline')\n",
    "\n",
    "\n",
    "plt.title('\\nDistribution of Income Type\\n(df_nan dataset)\\n')\n",
    "plt.xlabel('\\nIncome Type')\n",
    "plt.ylabel('Number of Customers\\n')\n",
    "plt.yticks(y_ticks)\n",
    "plt.show();"
   ]
  },
  {
   "cell_type": "markdown",
   "metadata": {},
   "source": [
    "There 38 unique values in `purpose` column, so the distributions would not be clear enough to see the differences between the `df` and `df_nan`. I need to reduce the number of the `purpose` unique values to make it easier to identify if there is a pattern in missing data related to the variable."
   ]
  },
  {
   "cell_type": "code",
   "execution_count": 51,
   "metadata": {},
   "outputs": [
    {
     "data": {
      "text/plain": [
       "array(['purchase of the house', 'car purchase', 'supplementary education',\n",
       "       'to have a wedding', 'housing transactions', 'education',\n",
       "       'having a wedding', 'purchase of the house for my family',\n",
       "       'buy real estate', 'buy commercial real estate',\n",
       "       'buy residential real estate', 'construction of own property',\n",
       "       'property', 'building a property', 'buying a second-hand car',\n",
       "       'buying my own car', 'transactions with commercial real estate',\n",
       "       'building a real estate', 'housing',\n",
       "       'transactions with my real estate', 'cars', 'to become educated',\n",
       "       'second-hand car purchase', 'getting an education', 'car',\n",
       "       'wedding ceremony', 'to get a supplementary education',\n",
       "       'purchase of my own house', 'real estate transactions',\n",
       "       'getting higher education', 'to own a car', 'purchase of a car',\n",
       "       'profile education', 'university education',\n",
       "       'buying property for renting out', 'to buy a car',\n",
       "       'housing renovation', 'going to university'], dtype=object)"
      ]
     },
     "execution_count": 51,
     "metadata": {},
     "output_type": "execute_result"
    }
   ],
   "source": [
    "# unique values of the `purpose` variable\n",
    "\n",
    "df['purpose'].unique()"
   ]
  },
  {
   "cell_type": "markdown",
   "metadata": {},
   "source": [
    "   "
   ]
  },
  {
   "cell_type": "markdown",
   "metadata": {},
   "source": [
    "As we can see, all these unique values describe a much smaller number of credit purposes in different words. For example, `to have a wedding`, `having a wedding`, and `wedding ceremony` reflect the same purpose - a wedding. So I can classify all the values of the `purpose` variable into a small number of categories.\n",
    "\n",
    "If I had a much bigger set of purposes, it would be reasonable to extract all nouns from the purpose phrases and then somehow to analyze which of the nouns correctly represents each of the purposes. However, I preferred to extract all possible purposes from this definitely not big set manually. \n",
    "\n",
    "I have identified the following categories of credit purposes: `real estate`, `car`, `education`, `wedding`.\n",
    "\n",
    "The next step is to create a dictionary `{purpose : purpose category}`."
   ]
  },
  {
   "cell_type": "code",
   "execution_count": 52,
   "metadata": {},
   "outputs": [
    {
     "data": {
      "text/plain": [
       "['house', 'car', 'education', 'wedding']"
      ]
     },
     "execution_count": 52,
     "metadata": {},
     "output_type": "execute_result"
    }
   ],
   "source": [
    "# create a list with all the purpose categories replacing `real estate` by `house` to ease further steps \n",
    "\n",
    "purpose_categories = ['house', 'car', 'education', 'wedding']\n",
    "\n",
    "# check the result\n",
    "\n",
    "purpose_categories"
   ]
  },
  {
   "cell_type": "code",
   "execution_count": 53,
   "metadata": {},
   "outputs": [
    {
     "data": {
      "text/plain": [
       "{'purchase of the house': 'house',\n",
       " 'car purchase': 'car',\n",
       " 'supplementary education': 'education',\n",
       " 'to have a wedding': 'wedding',\n",
       " 'housing transactions': 'house',\n",
       " 'education': 'education',\n",
       " 'having a wedding': 'wedding',\n",
       " 'purchase of the house for my family': 'house',\n",
       " 'buy real estate': 'house',\n",
       " 'buy commercial real estate': 'house',\n",
       " 'buy residential real estate': 'house',\n",
       " 'construction of own property': 'house',\n",
       " 'property': 'house',\n",
       " 'building a property': 'house',\n",
       " 'buying a second-hand car': 'car',\n",
       " 'buying my own car': 'car',\n",
       " 'transactions with commercial real estate': 'house',\n",
       " 'building a real estate': 'house',\n",
       " 'housing': 'house',\n",
       " 'transactions with my real estate': 'house',\n",
       " 'cars': 'car',\n",
       " 'to become educated': 'education',\n",
       " 'second-hand car purchase': 'car',\n",
       " 'getting an education': 'education',\n",
       " 'car': 'car',\n",
       " 'wedding ceremony': 'wedding',\n",
       " 'to get a supplementary education': 'education',\n",
       " 'purchase of my own house': 'house',\n",
       " 'real estate transactions': 'house',\n",
       " 'getting higher education': 'education',\n",
       " 'to own a car': 'car',\n",
       " 'purchase of a car': 'car',\n",
       " 'profile education': 'education',\n",
       " 'university education': 'education',\n",
       " 'buying property for renting out': 'house',\n",
       " 'to buy a car': 'car',\n",
       " 'housing renovation': 'house',\n",
       " 'going to university': 'education'}"
      ]
     },
     "execution_count": 53,
     "metadata": {},
     "output_type": "execute_result"
    }
   ],
   "source": [
    "# create empty dictionary\n",
    "\n",
    "purpose_category = {}\n",
    "\n",
    "# analyze the `purpose` values and add the `purpose` value as a key and a category from the `purpose_categories` list as a value \n",
    "\n",
    "for purpose in df['purpose'].unique().tolist():\n",
    "    words = [word for word in word_tokenize(purpose) if not word in stopwords.words('english')]\n",
    "    for word in words:\n",
    "        if WordNetLemmatizer().lemmatize(word, pos = 'n') in purpose_categories:\n",
    "            purpose_category[purpose] = WordNetLemmatizer().lemmatize(word, pos = 'n')\n",
    "        elif SnowballStemmer('english').stem(word) == 'hous' or word in ['real', 'estate', 'property']:\n",
    "            purpose_category[purpose] = 'house'\n",
    "        elif SnowballStemmer('english').stem(word) == 'educ' or word == 'university':\n",
    "            purpose_category[purpose] = 'education'\n",
    "\n",
    "# check the result\n",
    "\n",
    "purpose_category"
   ]
  },
  {
   "cell_type": "markdown",
   "metadata": {},
   "source": [
    "   "
   ]
  },
  {
   "cell_type": "markdown",
   "metadata": {},
   "source": [
    "And now I can create a new column called `purpose_category` with values from the list `['house', 'car', 'education', 'wedding']`."
   ]
  },
  {
   "cell_type": "code",
   "execution_count": 54,
   "metadata": {},
   "outputs": [
    {
     "data": {
      "text/html": [
       "<div>\n",
       "<style scoped>\n",
       "    .dataframe tbody tr th:only-of-type {\n",
       "        vertical-align: middle;\n",
       "    }\n",
       "\n",
       "    .dataframe tbody tr th {\n",
       "        vertical-align: top;\n",
       "    }\n",
       "\n",
       "    .dataframe thead th {\n",
       "        text-align: right;\n",
       "    }\n",
       "</style>\n",
       "<table border=\"1\" class=\"dataframe\">\n",
       "  <thead>\n",
       "    <tr style=\"text-align: right;\">\n",
       "      <th></th>\n",
       "      <th>children</th>\n",
       "      <th>days_employed</th>\n",
       "      <th>age</th>\n",
       "      <th>education</th>\n",
       "      <th>education_id</th>\n",
       "      <th>family_status</th>\n",
       "      <th>family_status_id</th>\n",
       "      <th>gender</th>\n",
       "      <th>income_type</th>\n",
       "      <th>debt</th>\n",
       "      <th>total_income</th>\n",
       "      <th>purpose</th>\n",
       "      <th>purpose_category</th>\n",
       "    </tr>\n",
       "  </thead>\n",
       "  <tbody>\n",
       "    <tr>\n",
       "      <th>0</th>\n",
       "      <td>1</td>\n",
       "      <td>-8437.673028</td>\n",
       "      <td>42</td>\n",
       "      <td>bachelor's degree</td>\n",
       "      <td>0</td>\n",
       "      <td>married</td>\n",
       "      <td>0</td>\n",
       "      <td>F</td>\n",
       "      <td>employee</td>\n",
       "      <td>0</td>\n",
       "      <td>40620.102</td>\n",
       "      <td>purchase of the house</td>\n",
       "      <td>house</td>\n",
       "    </tr>\n",
       "    <tr>\n",
       "      <th>1</th>\n",
       "      <td>1</td>\n",
       "      <td>-4024.803754</td>\n",
       "      <td>36</td>\n",
       "      <td>secondary education</td>\n",
       "      <td>1</td>\n",
       "      <td>married</td>\n",
       "      <td>0</td>\n",
       "      <td>F</td>\n",
       "      <td>employee</td>\n",
       "      <td>0</td>\n",
       "      <td>17932.802</td>\n",
       "      <td>car purchase</td>\n",
       "      <td>car</td>\n",
       "    </tr>\n",
       "    <tr>\n",
       "      <th>2</th>\n",
       "      <td>0</td>\n",
       "      <td>-5623.422610</td>\n",
       "      <td>33</td>\n",
       "      <td>secondary education</td>\n",
       "      <td>1</td>\n",
       "      <td>married</td>\n",
       "      <td>0</td>\n",
       "      <td>M</td>\n",
       "      <td>employee</td>\n",
       "      <td>0</td>\n",
       "      <td>23341.752</td>\n",
       "      <td>purchase of the house</td>\n",
       "      <td>house</td>\n",
       "    </tr>\n",
       "    <tr>\n",
       "      <th>3</th>\n",
       "      <td>3</td>\n",
       "      <td>-4124.747207</td>\n",
       "      <td>32</td>\n",
       "      <td>secondary education</td>\n",
       "      <td>1</td>\n",
       "      <td>married</td>\n",
       "      <td>0</td>\n",
       "      <td>M</td>\n",
       "      <td>employee</td>\n",
       "      <td>0</td>\n",
       "      <td>42820.568</td>\n",
       "      <td>supplementary education</td>\n",
       "      <td>education</td>\n",
       "    </tr>\n",
       "    <tr>\n",
       "      <th>4</th>\n",
       "      <td>0</td>\n",
       "      <td>340266.072047</td>\n",
       "      <td>53</td>\n",
       "      <td>secondary education</td>\n",
       "      <td>1</td>\n",
       "      <td>civil partnership</td>\n",
       "      <td>1</td>\n",
       "      <td>F</td>\n",
       "      <td>retiree</td>\n",
       "      <td>0</td>\n",
       "      <td>25378.572</td>\n",
       "      <td>to have a wedding</td>\n",
       "      <td>wedding</td>\n",
       "    </tr>\n",
       "  </tbody>\n",
       "</table>\n",
       "</div>"
      ],
      "text/plain": [
       "   children  days_employed  age            education  education_id  \\\n",
       "0         1   -8437.673028   42    bachelor's degree             0   \n",
       "1         1   -4024.803754   36  secondary education             1   \n",
       "2         0   -5623.422610   33  secondary education             1   \n",
       "3         3   -4124.747207   32  secondary education             1   \n",
       "4         0  340266.072047   53  secondary education             1   \n",
       "\n",
       "       family_status  family_status_id gender income_type  debt  total_income  \\\n",
       "0            married                 0      F    employee     0     40620.102   \n",
       "1            married                 0      F    employee     0     17932.802   \n",
       "2            married                 0      M    employee     0     23341.752   \n",
       "3            married                 0      M    employee     0     42820.568   \n",
       "4  civil partnership                 1      F     retiree     0     25378.572   \n",
       "\n",
       "                   purpose purpose_category  \n",
       "0    purchase of the house            house  \n",
       "1             car purchase              car  \n",
       "2    purchase of the house            house  \n",
       "3  supplementary education        education  \n",
       "4        to have a wedding          wedding  "
      ]
     },
     "metadata": {},
     "output_type": "display_data"
    },
    {
     "data": {
      "text/html": [
       "<div>\n",
       "<style scoped>\n",
       "    .dataframe tbody tr th:only-of-type {\n",
       "        vertical-align: middle;\n",
       "    }\n",
       "\n",
       "    .dataframe tbody tr th {\n",
       "        vertical-align: top;\n",
       "    }\n",
       "\n",
       "    .dataframe thead th {\n",
       "        text-align: right;\n",
       "    }\n",
       "</style>\n",
       "<table border=\"1\" class=\"dataframe\">\n",
       "  <thead>\n",
       "    <tr style=\"text-align: right;\">\n",
       "      <th></th>\n",
       "      <th>children</th>\n",
       "      <th>days_employed</th>\n",
       "      <th>age</th>\n",
       "      <th>education</th>\n",
       "      <th>education_id</th>\n",
       "      <th>family_status</th>\n",
       "      <th>family_status_id</th>\n",
       "      <th>gender</th>\n",
       "      <th>income_type</th>\n",
       "      <th>debt</th>\n",
       "      <th>total_income</th>\n",
       "      <th>purpose</th>\n",
       "      <th>purpose_category</th>\n",
       "    </tr>\n",
       "  </thead>\n",
       "  <tbody>\n",
       "    <tr>\n",
       "      <th>12</th>\n",
       "      <td>0</td>\n",
       "      <td>NaN</td>\n",
       "      <td>65</td>\n",
       "      <td>secondary education</td>\n",
       "      <td>1</td>\n",
       "      <td>civil partnership</td>\n",
       "      <td>1</td>\n",
       "      <td>M</td>\n",
       "      <td>retiree</td>\n",
       "      <td>0</td>\n",
       "      <td>NaN</td>\n",
       "      <td>to have a wedding</td>\n",
       "      <td>wedding</td>\n",
       "    </tr>\n",
       "    <tr>\n",
       "      <th>26</th>\n",
       "      <td>0</td>\n",
       "      <td>NaN</td>\n",
       "      <td>41</td>\n",
       "      <td>secondary education</td>\n",
       "      <td>1</td>\n",
       "      <td>married</td>\n",
       "      <td>0</td>\n",
       "      <td>M</td>\n",
       "      <td>civil servant</td>\n",
       "      <td>0</td>\n",
       "      <td>NaN</td>\n",
       "      <td>education</td>\n",
       "      <td>education</td>\n",
       "    </tr>\n",
       "    <tr>\n",
       "      <th>29</th>\n",
       "      <td>0</td>\n",
       "      <td>NaN</td>\n",
       "      <td>63</td>\n",
       "      <td>secondary education</td>\n",
       "      <td>1</td>\n",
       "      <td>unmarried</td>\n",
       "      <td>4</td>\n",
       "      <td>F</td>\n",
       "      <td>retiree</td>\n",
       "      <td>0</td>\n",
       "      <td>NaN</td>\n",
       "      <td>building a real estate</td>\n",
       "      <td>house</td>\n",
       "    </tr>\n",
       "    <tr>\n",
       "      <th>41</th>\n",
       "      <td>0</td>\n",
       "      <td>NaN</td>\n",
       "      <td>50</td>\n",
       "      <td>secondary education</td>\n",
       "      <td>1</td>\n",
       "      <td>married</td>\n",
       "      <td>0</td>\n",
       "      <td>F</td>\n",
       "      <td>civil servant</td>\n",
       "      <td>0</td>\n",
       "      <td>NaN</td>\n",
       "      <td>second-hand car purchase</td>\n",
       "      <td>car</td>\n",
       "    </tr>\n",
       "    <tr>\n",
       "      <th>55</th>\n",
       "      <td>0</td>\n",
       "      <td>NaN</td>\n",
       "      <td>54</td>\n",
       "      <td>secondary education</td>\n",
       "      <td>1</td>\n",
       "      <td>civil partnership</td>\n",
       "      <td>1</td>\n",
       "      <td>F</td>\n",
       "      <td>retiree</td>\n",
       "      <td>1</td>\n",
       "      <td>NaN</td>\n",
       "      <td>to have a wedding</td>\n",
       "      <td>wedding</td>\n",
       "    </tr>\n",
       "  </tbody>\n",
       "</table>\n",
       "</div>"
      ],
      "text/plain": [
       "    children  days_employed  age            education  education_id  \\\n",
       "12         0            NaN   65  secondary education             1   \n",
       "26         0            NaN   41  secondary education             1   \n",
       "29         0            NaN   63  secondary education             1   \n",
       "41         0            NaN   50  secondary education             1   \n",
       "55         0            NaN   54  secondary education             1   \n",
       "\n",
       "        family_status  family_status_id gender    income_type  debt  \\\n",
       "12  civil partnership                 1      M        retiree     0   \n",
       "26            married                 0      M  civil servant     0   \n",
       "29          unmarried                 4      F        retiree     0   \n",
       "41            married                 0      F  civil servant     0   \n",
       "55  civil partnership                 1      F        retiree     1   \n",
       "\n",
       "    total_income                   purpose purpose_category  \n",
       "12           NaN         to have a wedding          wedding  \n",
       "26           NaN                 education        education  \n",
       "29           NaN    building a real estate            house  \n",
       "41           NaN  second-hand car purchase              car  \n",
       "55           NaN         to have a wedding          wedding  "
      ]
     },
     "metadata": {},
     "output_type": "display_data"
    }
   ],
   "source": [
    "# add a new column named `purpose_category` to the `df` dataframe\n",
    "\n",
    "df['purpose_category'] = df['purpose'].replace(purpose_category)\n",
    "\n",
    "# add a new column named `purpose_category` to the `df_nan` dataframe\n",
    "\n",
    "df_nan['purpose_category'] = df_nan['purpose'].replace(purpose_category)\n",
    "\n",
    "# check the result\n",
    "\n",
    "display(df.head(5))\n",
    "display(df_nan.head(5))"
   ]
  },
  {
   "cell_type": "code",
   "execution_count": 55,
   "metadata": {},
   "outputs": [
    {
     "data": {
      "text/html": [
       "<div>\n",
       "<style scoped>\n",
       "    .dataframe tbody tr th:only-of-type {\n",
       "        vertical-align: middle;\n",
       "    }\n",
       "\n",
       "    .dataframe tbody tr th {\n",
       "        vertical-align: top;\n",
       "    }\n",
       "\n",
       "    .dataframe thead th {\n",
       "        text-align: right;\n",
       "    }\n",
       "</style>\n",
       "<table border=\"1\" class=\"dataframe\">\n",
       "  <thead>\n",
       "    <tr style=\"text-align: right;\">\n",
       "      <th></th>\n",
       "      <th>children</th>\n",
       "      <th>days_employed</th>\n",
       "      <th>age</th>\n",
       "      <th>education</th>\n",
       "      <th>education_id</th>\n",
       "      <th>family_status</th>\n",
       "      <th>family_status_id</th>\n",
       "      <th>gender</th>\n",
       "      <th>income_type</th>\n",
       "      <th>debt</th>\n",
       "      <th>total_income</th>\n",
       "      <th>purpose</th>\n",
       "      <th>purpose_category</th>\n",
       "    </tr>\n",
       "  </thead>\n",
       "  <tbody>\n",
       "    <tr>\n",
       "      <th>0</th>\n",
       "      <td>1</td>\n",
       "      <td>-8437.673028</td>\n",
       "      <td>42</td>\n",
       "      <td>bachelor's degree</td>\n",
       "      <td>0</td>\n",
       "      <td>married</td>\n",
       "      <td>0</td>\n",
       "      <td>F</td>\n",
       "      <td>employee</td>\n",
       "      <td>0</td>\n",
       "      <td>40620.102</td>\n",
       "      <td>purchase of the house</td>\n",
       "      <td>real estate</td>\n",
       "    </tr>\n",
       "    <tr>\n",
       "      <th>1</th>\n",
       "      <td>1</td>\n",
       "      <td>-4024.803754</td>\n",
       "      <td>36</td>\n",
       "      <td>secondary education</td>\n",
       "      <td>1</td>\n",
       "      <td>married</td>\n",
       "      <td>0</td>\n",
       "      <td>F</td>\n",
       "      <td>employee</td>\n",
       "      <td>0</td>\n",
       "      <td>17932.802</td>\n",
       "      <td>car purchase</td>\n",
       "      <td>car</td>\n",
       "    </tr>\n",
       "    <tr>\n",
       "      <th>2</th>\n",
       "      <td>0</td>\n",
       "      <td>-5623.422610</td>\n",
       "      <td>33</td>\n",
       "      <td>secondary education</td>\n",
       "      <td>1</td>\n",
       "      <td>married</td>\n",
       "      <td>0</td>\n",
       "      <td>M</td>\n",
       "      <td>employee</td>\n",
       "      <td>0</td>\n",
       "      <td>23341.752</td>\n",
       "      <td>purchase of the house</td>\n",
       "      <td>real estate</td>\n",
       "    </tr>\n",
       "    <tr>\n",
       "      <th>3</th>\n",
       "      <td>3</td>\n",
       "      <td>-4124.747207</td>\n",
       "      <td>32</td>\n",
       "      <td>secondary education</td>\n",
       "      <td>1</td>\n",
       "      <td>married</td>\n",
       "      <td>0</td>\n",
       "      <td>M</td>\n",
       "      <td>employee</td>\n",
       "      <td>0</td>\n",
       "      <td>42820.568</td>\n",
       "      <td>supplementary education</td>\n",
       "      <td>education</td>\n",
       "    </tr>\n",
       "    <tr>\n",
       "      <th>4</th>\n",
       "      <td>0</td>\n",
       "      <td>340266.072047</td>\n",
       "      <td>53</td>\n",
       "      <td>secondary education</td>\n",
       "      <td>1</td>\n",
       "      <td>civil partnership</td>\n",
       "      <td>1</td>\n",
       "      <td>F</td>\n",
       "      <td>retiree</td>\n",
       "      <td>0</td>\n",
       "      <td>25378.572</td>\n",
       "      <td>to have a wedding</td>\n",
       "      <td>wedding</td>\n",
       "    </tr>\n",
       "  </tbody>\n",
       "</table>\n",
       "</div>"
      ],
      "text/plain": [
       "   children  days_employed  age            education  education_id  \\\n",
       "0         1   -8437.673028   42    bachelor's degree             0   \n",
       "1         1   -4024.803754   36  secondary education             1   \n",
       "2         0   -5623.422610   33  secondary education             1   \n",
       "3         3   -4124.747207   32  secondary education             1   \n",
       "4         0  340266.072047   53  secondary education             1   \n",
       "\n",
       "       family_status  family_status_id gender income_type  debt  total_income  \\\n",
       "0            married                 0      F    employee     0     40620.102   \n",
       "1            married                 0      F    employee     0     17932.802   \n",
       "2            married                 0      M    employee     0     23341.752   \n",
       "3            married                 0      M    employee     0     42820.568   \n",
       "4  civil partnership                 1      F     retiree     0     25378.572   \n",
       "\n",
       "                   purpose purpose_category  \n",
       "0    purchase of the house      real estate  \n",
       "1             car purchase              car  \n",
       "2    purchase of the house      real estate  \n",
       "3  supplementary education        education  \n",
       "4        to have a wedding          wedding  "
      ]
     },
     "metadata": {},
     "output_type": "display_data"
    },
    {
     "data": {
      "text/html": [
       "<div>\n",
       "<style scoped>\n",
       "    .dataframe tbody tr th:only-of-type {\n",
       "        vertical-align: middle;\n",
       "    }\n",
       "\n",
       "    .dataframe tbody tr th {\n",
       "        vertical-align: top;\n",
       "    }\n",
       "\n",
       "    .dataframe thead th {\n",
       "        text-align: right;\n",
       "    }\n",
       "</style>\n",
       "<table border=\"1\" class=\"dataframe\">\n",
       "  <thead>\n",
       "    <tr style=\"text-align: right;\">\n",
       "      <th></th>\n",
       "      <th>children</th>\n",
       "      <th>days_employed</th>\n",
       "      <th>age</th>\n",
       "      <th>education</th>\n",
       "      <th>education_id</th>\n",
       "      <th>family_status</th>\n",
       "      <th>family_status_id</th>\n",
       "      <th>gender</th>\n",
       "      <th>income_type</th>\n",
       "      <th>debt</th>\n",
       "      <th>total_income</th>\n",
       "      <th>purpose</th>\n",
       "      <th>purpose_category</th>\n",
       "    </tr>\n",
       "  </thead>\n",
       "  <tbody>\n",
       "    <tr>\n",
       "      <th>12</th>\n",
       "      <td>0</td>\n",
       "      <td>NaN</td>\n",
       "      <td>65</td>\n",
       "      <td>secondary education</td>\n",
       "      <td>1</td>\n",
       "      <td>civil partnership</td>\n",
       "      <td>1</td>\n",
       "      <td>M</td>\n",
       "      <td>retiree</td>\n",
       "      <td>0</td>\n",
       "      <td>NaN</td>\n",
       "      <td>to have a wedding</td>\n",
       "      <td>wedding</td>\n",
       "    </tr>\n",
       "    <tr>\n",
       "      <th>26</th>\n",
       "      <td>0</td>\n",
       "      <td>NaN</td>\n",
       "      <td>41</td>\n",
       "      <td>secondary education</td>\n",
       "      <td>1</td>\n",
       "      <td>married</td>\n",
       "      <td>0</td>\n",
       "      <td>M</td>\n",
       "      <td>civil servant</td>\n",
       "      <td>0</td>\n",
       "      <td>NaN</td>\n",
       "      <td>education</td>\n",
       "      <td>education</td>\n",
       "    </tr>\n",
       "    <tr>\n",
       "      <th>29</th>\n",
       "      <td>0</td>\n",
       "      <td>NaN</td>\n",
       "      <td>63</td>\n",
       "      <td>secondary education</td>\n",
       "      <td>1</td>\n",
       "      <td>unmarried</td>\n",
       "      <td>4</td>\n",
       "      <td>F</td>\n",
       "      <td>retiree</td>\n",
       "      <td>0</td>\n",
       "      <td>NaN</td>\n",
       "      <td>building a real estate</td>\n",
       "      <td>real estate</td>\n",
       "    </tr>\n",
       "    <tr>\n",
       "      <th>41</th>\n",
       "      <td>0</td>\n",
       "      <td>NaN</td>\n",
       "      <td>50</td>\n",
       "      <td>secondary education</td>\n",
       "      <td>1</td>\n",
       "      <td>married</td>\n",
       "      <td>0</td>\n",
       "      <td>F</td>\n",
       "      <td>civil servant</td>\n",
       "      <td>0</td>\n",
       "      <td>NaN</td>\n",
       "      <td>second-hand car purchase</td>\n",
       "      <td>car</td>\n",
       "    </tr>\n",
       "    <tr>\n",
       "      <th>55</th>\n",
       "      <td>0</td>\n",
       "      <td>NaN</td>\n",
       "      <td>54</td>\n",
       "      <td>secondary education</td>\n",
       "      <td>1</td>\n",
       "      <td>civil partnership</td>\n",
       "      <td>1</td>\n",
       "      <td>F</td>\n",
       "      <td>retiree</td>\n",
       "      <td>1</td>\n",
       "      <td>NaN</td>\n",
       "      <td>to have a wedding</td>\n",
       "      <td>wedding</td>\n",
       "    </tr>\n",
       "  </tbody>\n",
       "</table>\n",
       "</div>"
      ],
      "text/plain": [
       "    children  days_employed  age            education  education_id  \\\n",
       "12         0            NaN   65  secondary education             1   \n",
       "26         0            NaN   41  secondary education             1   \n",
       "29         0            NaN   63  secondary education             1   \n",
       "41         0            NaN   50  secondary education             1   \n",
       "55         0            NaN   54  secondary education             1   \n",
       "\n",
       "        family_status  family_status_id gender    income_type  debt  \\\n",
       "12  civil partnership                 1      M        retiree     0   \n",
       "26            married                 0      M  civil servant     0   \n",
       "29          unmarried                 4      F        retiree     0   \n",
       "41            married                 0      F  civil servant     0   \n",
       "55  civil partnership                 1      F        retiree     1   \n",
       "\n",
       "    total_income                   purpose purpose_category  \n",
       "12           NaN         to have a wedding          wedding  \n",
       "26           NaN                 education        education  \n",
       "29           NaN    building a real estate      real estate  \n",
       "41           NaN  second-hand car purchase              car  \n",
       "55           NaN         to have a wedding          wedding  "
      ]
     },
     "metadata": {},
     "output_type": "display_data"
    }
   ],
   "source": [
    "# rename the 'house' value in the `purpose_category` variable to `real estate` in the 'df' dataframe\n",
    "\n",
    "df['purpose_category'].replace({'house': 'real estate'}, inplace = True)\n",
    "\n",
    "# rename the 'house' value in the `purpose_category` variable to `real estate` in the 'df_nan' dataframe\n",
    "\n",
    "df_nan['purpose_category'].replace({'house': 'real estate'}, inplace = True)\n",
    "\n",
    "# check the result\n",
    "\n",
    "display(df.head(5))\n",
    "display(df_nan.head(5))"
   ]
  },
  {
   "cell_type": "markdown",
   "metadata": {},
   "source": [
    "Now, instead of comparing `purpose` value distributions, I will compare value distributions of the `purpose_category` variable."
   ]
  },
  {
   "cell_type": "code",
   "execution_count": 56,
   "metadata": {},
   "outputs": [
    {
     "data": {
      "image/png": "[encoded data removed]",
      "text/plain": [
       "<Figure size 720x360 with 1 Axes>"
      ]
     },
     "metadata": {
      "needs_background": "light"
     },
     "output_type": "display_data"
    }
   ],
   "source": [
    "# `purpose_category` value distribution of the `df_nan` dataframe\n",
    "\n",
    "plt.figure(figsize = [10, 5])\n",
    "y_ticks = [0, 2000, 4000, 6000, 8000, 10000, 12000]\n",
    "income_type_order = ['real estate', 'wedding', 'education', 'car']\n",
    "sb.countplot(data = df, x = 'purpose_category', color = 'lightsteelblue', order = income_type_order)\n",
    "\n",
    "categories = df['purpose_category'].value_counts()\n",
    "locs, labels = plt.xticks()\n",
    "\n",
    "for loc, label in zip(locs, labels):\n",
    "    percentage = '{:0.1f}%'.format(100 * categories[label.get_text()] / len(df))\n",
    "    plt.text(loc, categories[label.get_text()] + 300, percentage, ha = 'center', va = 'baseline')\n",
    "\n",
    "\n",
    "plt.title('\\nDistribution of Purpose Categories\\n(df dataset)\\n')\n",
    "plt.xlabel('\\nPurpose Category')\n",
    "plt.ylabel('Number of Customers\\n')\n",
    "plt.yticks(y_ticks)\n",
    "plt.show();"
   ]
  },
  {
   "cell_type": "code",
   "execution_count": 57,
   "metadata": {},
   "outputs": [
    {
     "data": {
      "image/png": "[encoded data removed]",
      "text/plain": [
       "<Figure size 720x360 with 1 Axes>"
      ]
     },
     "metadata": {
      "needs_background": "light"
     },
     "output_type": "display_data"
    }
   ],
   "source": [
    "# `purpose_category` value distribution of the `df_nan` dataframe\n",
    "\n",
    "plt.figure(figsize = [10, 5])\n",
    "y_ticks = [0, 300, 600, 900, 1200, 1500]\n",
    "income_type_order = ['real estate', 'wedding', 'education', 'car']\n",
    "sb.countplot(data = df_nan, x = 'purpose_category', color = 'lightsteelblue', order = income_type_order)\n",
    "\n",
    "categories = df_nan['purpose_category'].value_counts()\n",
    "locs, labels = plt.xticks()\n",
    "\n",
    "for loc, label in zip(locs, labels):\n",
    "    percentage = '{:0.1f}%'.format(100 * categories[label.get_text()] / len(df_nan))\n",
    "    plt.text(loc, categories[label.get_text()] + 100, percentage, ha = 'center', va = 'baseline')\n",
    "\n",
    "\n",
    "plt.title('\\nDistribution of Purpose Categories\\n(df_nan dataset)\\n')\n",
    "plt.xlabel('\\nPurpose Category')\n",
    "plt.ylabel('Number of Customers\\n')\n",
    "plt.yticks(y_ticks)\n",
    "plt.show();"
   ]
  },
  {
   "cell_type": "markdown",
   "metadata": {},
   "source": [
    "   "
   ]
  },
  {
   "cell_type": "markdown",
   "metadata": {},
   "source": [
    "As we can see, there are no significant differences in the categorical variables' distributions neither, so I can assume that the missing data is MCAR or MAR and replace the missing values with the mean or median. \n",
    "\n",
    "Since there are no other issues with the `total_income` variable, I will first fill its missing values. As the data provides us with an income type for every customer, it makes sense to fill missing values of every income type with the mean or median strictly for this income type. "
   ]
  },
  {
   "cell_type": "code",
   "execution_count": 58,
   "metadata": {},
   "outputs": [
    {
     "data": {
      "text/html": [
       "<div>\n",
       "<style scoped>\n",
       "    .dataframe tbody tr th:only-of-type {\n",
       "        vertical-align: middle;\n",
       "    }\n",
       "\n",
       "    .dataframe tbody tr th {\n",
       "        vertical-align: top;\n",
       "    }\n",
       "\n",
       "    .dataframe thead th {\n",
       "        text-align: right;\n",
       "    }\n",
       "</style>\n",
       "<table border=\"1\" class=\"dataframe\">\n",
       "  <thead>\n",
       "    <tr style=\"text-align: right;\">\n",
       "      <th></th>\n",
       "      <th>count</th>\n",
       "      <th>mean</th>\n",
       "      <th>std</th>\n",
       "      <th>min</th>\n",
       "      <th>25%</th>\n",
       "      <th>50%</th>\n",
       "      <th>75%</th>\n",
       "      <th>max</th>\n",
       "    </tr>\n",
       "    <tr>\n",
       "      <th>income_type</th>\n",
       "      <th></th>\n",
       "      <th></th>\n",
       "      <th></th>\n",
       "      <th></th>\n",
       "      <th></th>\n",
       "      <th></th>\n",
       "      <th></th>\n",
       "      <th></th>\n",
       "    </tr>\n",
       "  </thead>\n",
       "  <tbody>\n",
       "    <tr>\n",
       "      <th>business</th>\n",
       "      <td>4577.0</td>\n",
       "      <td>32386.793835</td>\n",
       "      <td>20876.975327</td>\n",
       "      <td>4592.450</td>\n",
       "      <td>20142.03900</td>\n",
       "      <td>27577.2720</td>\n",
       "      <td>39025.25400</td>\n",
       "      <td>362496.645</td>\n",
       "    </tr>\n",
       "    <tr>\n",
       "      <th>civil servant</th>\n",
       "      <td>1312.0</td>\n",
       "      <td>27343.729582</td>\n",
       "      <td>15500.602149</td>\n",
       "      <td>4672.012</td>\n",
       "      <td>16847.14650</td>\n",
       "      <td>24071.6695</td>\n",
       "      <td>33467.68800</td>\n",
       "      <td>145672.235</td>\n",
       "    </tr>\n",
       "    <tr>\n",
       "      <th>employee</th>\n",
       "      <td>10014.0</td>\n",
       "      <td>25820.841683</td>\n",
       "      <td>14611.602368</td>\n",
       "      <td>3418.824</td>\n",
       "      <td>16447.30150</td>\n",
       "      <td>22815.1035</td>\n",
       "      <td>31492.49300</td>\n",
       "      <td>276204.162</td>\n",
       "    </tr>\n",
       "    <tr>\n",
       "      <th>entrepreneur</th>\n",
       "      <td>1.0</td>\n",
       "      <td>79866.103000</td>\n",
       "      <td>NaN</td>\n",
       "      <td>79866.103</td>\n",
       "      <td>79866.10300</td>\n",
       "      <td>79866.1030</td>\n",
       "      <td>79866.10300</td>\n",
       "      <td>79866.103</td>\n",
       "    </tr>\n",
       "    <tr>\n",
       "      <th>paternity / maternity leave</th>\n",
       "      <td>1.0</td>\n",
       "      <td>8612.661000</td>\n",
       "      <td>NaN</td>\n",
       "      <td>8612.661</td>\n",
       "      <td>8612.66100</td>\n",
       "      <td>8612.6610</td>\n",
       "      <td>8612.66100</td>\n",
       "      <td>8612.661</td>\n",
       "    </tr>\n",
       "    <tr>\n",
       "      <th>retiree</th>\n",
       "      <td>3443.0</td>\n",
       "      <td>21940.394503</td>\n",
       "      <td>12839.512522</td>\n",
       "      <td>3306.762</td>\n",
       "      <td>13261.03100</td>\n",
       "      <td>18962.3180</td>\n",
       "      <td>27152.06900</td>\n",
       "      <td>117616.523</td>\n",
       "    </tr>\n",
       "    <tr>\n",
       "      <th>student</th>\n",
       "      <td>1.0</td>\n",
       "      <td>15712.260000</td>\n",
       "      <td>NaN</td>\n",
       "      <td>15712.260</td>\n",
       "      <td>15712.26000</td>\n",
       "      <td>15712.2600</td>\n",
       "      <td>15712.26000</td>\n",
       "      <td>15712.260</td>\n",
       "    </tr>\n",
       "    <tr>\n",
       "      <th>unemployed</th>\n",
       "      <td>2.0</td>\n",
       "      <td>21014.360500</td>\n",
       "      <td>16152.074628</td>\n",
       "      <td>9593.119</td>\n",
       "      <td>15303.73975</td>\n",
       "      <td>21014.3605</td>\n",
       "      <td>26724.98125</td>\n",
       "      <td>32435.602</td>\n",
       "    </tr>\n",
       "  </tbody>\n",
       "</table>\n",
       "</div>"
      ],
      "text/plain": [
       "                               count          mean           std        min  \\\n",
       "income_type                                                                   \n",
       "business                      4577.0  32386.793835  20876.975327   4592.450   \n",
       "civil servant                 1312.0  27343.729582  15500.602149   4672.012   \n",
       "employee                     10014.0  25820.841683  14611.602368   3418.824   \n",
       "entrepreneur                     1.0  79866.103000           NaN  79866.103   \n",
       "paternity / maternity leave      1.0   8612.661000           NaN   8612.661   \n",
       "retiree                       3443.0  21940.394503  12839.512522   3306.762   \n",
       "student                          1.0  15712.260000           NaN  15712.260   \n",
       "unemployed                       2.0  21014.360500  16152.074628   9593.119   \n",
       "\n",
       "                                     25%         50%          75%         max  \n",
       "income_type                                                                    \n",
       "business                     20142.03900  27577.2720  39025.25400  362496.645  \n",
       "civil servant                16847.14650  24071.6695  33467.68800  145672.235  \n",
       "employee                     16447.30150  22815.1035  31492.49300  276204.162  \n",
       "entrepreneur                 79866.10300  79866.1030  79866.10300   79866.103  \n",
       "paternity / maternity leave   8612.66100   8612.6610   8612.66100    8612.661  \n",
       "retiree                      13261.03100  18962.3180  27152.06900  117616.523  \n",
       "student                      15712.26000  15712.2600  15712.26000   15712.260  \n",
       "unemployed                   15303.73975  21014.3605  26724.98125   32435.602  "
      ]
     },
     "execution_count": 58,
     "metadata": {},
     "output_type": "execute_result"
    }
   ],
   "source": [
    "# group the data by the `income_type` values to explore the `total_income` variable for each income type\n",
    "\n",
    "df.groupby('income_type')['total_income'].describe()"
   ]
  },
  {
   "cell_type": "markdown",
   "metadata": {},
   "source": [
    "As we can see, there are enough customers in the `business`, `civil servant`, `employee` and `retiree` categories of income type. And the median and mean do not differ much, so it is safe to use any of them to fill missing values. \n",
    "\n",
    "The only category of the rest of the income types with missing values is the `entrepreneur`. And there are only two rows with `entrepreneur` income type, and one of them with the missing `total_income` value. I prefer to drop this row as there are not enough data to find the proper mean or median for this income type category."
   ]
  },
  {
   "cell_type": "code",
   "execution_count": 59,
   "metadata": {},
   "outputs": [
    {
     "data": {
      "text/html": [
       "<div>\n",
       "<style scoped>\n",
       "    .dataframe tbody tr th:only-of-type {\n",
       "        vertical-align: middle;\n",
       "    }\n",
       "\n",
       "    .dataframe tbody tr th {\n",
       "        vertical-align: top;\n",
       "    }\n",
       "\n",
       "    .dataframe thead th {\n",
       "        text-align: right;\n",
       "    }\n",
       "</style>\n",
       "<table border=\"1\" class=\"dataframe\">\n",
       "  <thead>\n",
       "    <tr style=\"text-align: right;\">\n",
       "      <th></th>\n",
       "      <th>children</th>\n",
       "      <th>days_employed</th>\n",
       "      <th>age</th>\n",
       "      <th>education</th>\n",
       "      <th>education_id</th>\n",
       "      <th>family_status</th>\n",
       "      <th>family_status_id</th>\n",
       "      <th>gender</th>\n",
       "      <th>income_type</th>\n",
       "      <th>debt</th>\n",
       "      <th>total_income</th>\n",
       "      <th>purpose</th>\n",
       "      <th>purpose_category</th>\n",
       "    </tr>\n",
       "  </thead>\n",
       "  <tbody>\n",
       "    <tr>\n",
       "      <th>18697</th>\n",
       "      <td>0</td>\n",
       "      <td>-520.848083</td>\n",
       "      <td>27</td>\n",
       "      <td>bachelor's degree</td>\n",
       "      <td>0</td>\n",
       "      <td>civil partnership</td>\n",
       "      <td>1</td>\n",
       "      <td>F</td>\n",
       "      <td>entrepreneur</td>\n",
       "      <td>0</td>\n",
       "      <td>79866.103</td>\n",
       "      <td>having a wedding</td>\n",
       "      <td>wedding</td>\n",
       "    </tr>\n",
       "  </tbody>\n",
       "</table>\n",
       "</div>"
      ],
      "text/plain": [
       "       children  days_employed  age          education  education_id  \\\n",
       "18697         0    -520.848083   27  bachelor's degree             0   \n",
       "\n",
       "           family_status  family_status_id gender   income_type  debt  \\\n",
       "18697  civil partnership                 1      F  entrepreneur     0   \n",
       "\n",
       "       total_income           purpose purpose_category  \n",
       "18697     79866.103  having a wedding          wedding  "
      ]
     },
     "execution_count": 59,
     "metadata": {},
     "output_type": "execute_result"
    }
   ],
   "source": [
    "# drop the row with the `total_income` NaN value and the `income_type` variable equal `entrepreneur`\n",
    "\n",
    "df = df[~((df['income_type'] == 'entrepreneur') & (df['total_income'].isnull()))]\n",
    "\n",
    "# check the result\n",
    "\n",
    "df[df['income_type'] == 'entrepreneur']"
   ]
  },
  {
   "cell_type": "code",
   "execution_count": 60,
   "metadata": {},
   "outputs": [
    {
     "data": {
      "text/html": [
       "<div>\n",
       "<style scoped>\n",
       "    .dataframe tbody tr th:only-of-type {\n",
       "        vertical-align: middle;\n",
       "    }\n",
       "\n",
       "    .dataframe tbody tr th {\n",
       "        vertical-align: top;\n",
       "    }\n",
       "\n",
       "    .dataframe thead th {\n",
       "        text-align: right;\n",
       "    }\n",
       "</style>\n",
       "<table border=\"1\" class=\"dataframe\">\n",
       "  <thead>\n",
       "    <tr style=\"text-align: right;\">\n",
       "      <th></th>\n",
       "      <th>income_type</th>\n",
       "      <th>total_income</th>\n",
       "    </tr>\n",
       "  </thead>\n",
       "  <tbody>\n",
       "    <tr>\n",
       "      <th>0</th>\n",
       "      <td>business</td>\n",
       "      <td>27577.2720</td>\n",
       "    </tr>\n",
       "    <tr>\n",
       "      <th>1</th>\n",
       "      <td>civil servant</td>\n",
       "      <td>24071.6695</td>\n",
       "    </tr>\n",
       "    <tr>\n",
       "      <th>2</th>\n",
       "      <td>employee</td>\n",
       "      <td>22815.1035</td>\n",
       "    </tr>\n",
       "    <tr>\n",
       "      <th>3</th>\n",
       "      <td>entrepreneur</td>\n",
       "      <td>79866.1030</td>\n",
       "    </tr>\n",
       "    <tr>\n",
       "      <th>4</th>\n",
       "      <td>paternity / maternity leave</td>\n",
       "      <td>8612.6610</td>\n",
       "    </tr>\n",
       "    <tr>\n",
       "      <th>5</th>\n",
       "      <td>retiree</td>\n",
       "      <td>18962.3180</td>\n",
       "    </tr>\n",
       "    <tr>\n",
       "      <th>6</th>\n",
       "      <td>student</td>\n",
       "      <td>15712.2600</td>\n",
       "    </tr>\n",
       "    <tr>\n",
       "      <th>7</th>\n",
       "      <td>unemployed</td>\n",
       "      <td>21014.3605</td>\n",
       "    </tr>\n",
       "  </tbody>\n",
       "</table>\n",
       "</div>"
      ],
      "text/plain": [
       "                   income_type  total_income\n",
       "0                     business    27577.2720\n",
       "1                civil servant    24071.6695\n",
       "2                     employee    22815.1035\n",
       "3                 entrepreneur    79866.1030\n",
       "4  paternity / maternity leave     8612.6610\n",
       "5                      retiree    18962.3180\n",
       "6                      student    15712.2600\n",
       "7                   unemployed    21014.3605"
      ]
     },
     "execution_count": 60,
     "metadata": {},
     "output_type": "execute_result"
    }
   ],
   "source": [
    "# create a dataframe with the median `total_income` value for the every income type category\n",
    "\n",
    "median_total_income = df.groupby('income_type').agg({'total_income': 'median'}).reset_index()\n",
    "\n",
    "# chech the result\n",
    "\n",
    "median_total_income"
   ]
  },
  {
   "cell_type": "code",
   "execution_count": 61,
   "metadata": {},
   "outputs": [
    {
     "data": {
      "text/html": [
       "<div>\n",
       "<style scoped>\n",
       "    .dataframe tbody tr th:only-of-type {\n",
       "        vertical-align: middle;\n",
       "    }\n",
       "\n",
       "    .dataframe tbody tr th {\n",
       "        vertical-align: top;\n",
       "    }\n",
       "\n",
       "    .dataframe thead th {\n",
       "        text-align: right;\n",
       "    }\n",
       "</style>\n",
       "<table border=\"1\" class=\"dataframe\">\n",
       "  <thead>\n",
       "    <tr style=\"text-align: right;\">\n",
       "      <th></th>\n",
       "      <th>income_type</th>\n",
       "      <th>total_income</th>\n",
       "    </tr>\n",
       "  </thead>\n",
       "  <tbody>\n",
       "    <tr>\n",
       "      <th>0</th>\n",
       "      <td>business</td>\n",
       "      <td>27577.2720</td>\n",
       "    </tr>\n",
       "    <tr>\n",
       "      <th>1</th>\n",
       "      <td>civil servant</td>\n",
       "      <td>24071.6695</td>\n",
       "    </tr>\n",
       "    <tr>\n",
       "      <th>2</th>\n",
       "      <td>employee</td>\n",
       "      <td>22815.1035</td>\n",
       "    </tr>\n",
       "    <tr>\n",
       "      <th>5</th>\n",
       "      <td>retiree</td>\n",
       "      <td>18962.3180</td>\n",
       "    </tr>\n",
       "  </tbody>\n",
       "</table>\n",
       "</div>"
      ],
      "text/plain": [
       "     income_type  total_income\n",
       "0       business    27577.2720\n",
       "1  civil servant    24071.6695\n",
       "2       employee    22815.1035\n",
       "5        retiree    18962.3180"
      ]
     },
     "execution_count": 61,
     "metadata": {},
     "output_type": "execute_result"
    }
   ],
   "source": [
    "# keep only rows we need for filling missing values\n",
    "\n",
    "median_total_income = median_total_income.drop([3, 4, 6, 7])\n",
    "\n",
    "# check the result\n",
    "\n",
    "median_total_income"
   ]
  },
  {
   "cell_type": "code",
   "execution_count": 62,
   "metadata": {},
   "outputs": [
    {
     "data": {
      "text/plain": [
       "{'business': 27577.272,\n",
       " 'civil servant': 24071.6695,\n",
       " 'employee': 22815.103499999997,\n",
       " 'retiree': 18962.318}"
      ]
     },
     "execution_count": 62,
     "metadata": {},
     "output_type": "execute_result"
    }
   ],
   "source": [
    "# create dictionary from the `median_total_income` dataframe\n",
    "\n",
    "median_total_income_dict = dict(zip(median_total_income.income_type, median_total_income.total_income))\n",
    "\n",
    "# check the result\n",
    "\n",
    "median_total_income_dict"
   ]
  },
  {
   "cell_type": "code",
   "execution_count": 63,
   "metadata": {},
   "outputs": [
    {
     "data": {
      "text/plain": [
       "0"
      ]
     },
     "execution_count": 63,
     "metadata": {},
     "output_type": "execute_result"
    }
   ],
   "source": [
    "# fill NaN values in the `total_income` column with the median total income for each income type category\n",
    "\n",
    "df.loc[df['total_income'].isnull(), 'total_income'] = df['income_type'].map(median_total_income_dict)\n",
    "\n",
    "# check the result\n",
    "\n",
    "len(df[df['total_income'].isnull()])"
   ]
  },
  {
   "cell_type": "code",
   "execution_count": 64,
   "metadata": {},
   "outputs": [
    {
     "data": {
      "text/html": [
       "<div>\n",
       "<style scoped>\n",
       "    .dataframe tbody tr th:only-of-type {\n",
       "        vertical-align: middle;\n",
       "    }\n",
       "\n",
       "    .dataframe tbody tr th {\n",
       "        vertical-align: top;\n",
       "    }\n",
       "\n",
       "    .dataframe thead th {\n",
       "        text-align: right;\n",
       "    }\n",
       "</style>\n",
       "<table border=\"1\" class=\"dataframe\">\n",
       "  <thead>\n",
       "    <tr style=\"text-align: right;\">\n",
       "      <th></th>\n",
       "      <th>children</th>\n",
       "      <th>days_employed</th>\n",
       "      <th>age</th>\n",
       "      <th>education</th>\n",
       "      <th>education_id</th>\n",
       "      <th>family_status</th>\n",
       "      <th>family_status_id</th>\n",
       "      <th>gender</th>\n",
       "      <th>income_type</th>\n",
       "      <th>debt</th>\n",
       "      <th>total_income</th>\n",
       "      <th>purpose</th>\n",
       "      <th>purpose_category</th>\n",
       "    </tr>\n",
       "  </thead>\n",
       "  <tbody>\n",
       "    <tr>\n",
       "      <th>3888</th>\n",
       "      <td>2</td>\n",
       "      <td>NaN</td>\n",
       "      <td>34</td>\n",
       "      <td>secondary education</td>\n",
       "      <td>1</td>\n",
       "      <td>civil partnership</td>\n",
       "      <td>1</td>\n",
       "      <td>F</td>\n",
       "      <td>employee</td>\n",
       "      <td>1</td>\n",
       "      <td>22815.1035</td>\n",
       "      <td>having a wedding</td>\n",
       "      <td>wedding</td>\n",
       "    </tr>\n",
       "    <tr>\n",
       "      <th>16869</th>\n",
       "      <td>0</td>\n",
       "      <td>NaN</td>\n",
       "      <td>67</td>\n",
       "      <td>secondary education</td>\n",
       "      <td>1</td>\n",
       "      <td>married</td>\n",
       "      <td>0</td>\n",
       "      <td>F</td>\n",
       "      <td>retiree</td>\n",
       "      <td>0</td>\n",
       "      <td>18962.3180</td>\n",
       "      <td>going to university</td>\n",
       "      <td>education</td>\n",
       "    </tr>\n",
       "    <tr>\n",
       "      <th>11242</th>\n",
       "      <td>0</td>\n",
       "      <td>NaN</td>\n",
       "      <td>43</td>\n",
       "      <td>secondary education</td>\n",
       "      <td>1</td>\n",
       "      <td>married</td>\n",
       "      <td>0</td>\n",
       "      <td>F</td>\n",
       "      <td>employee</td>\n",
       "      <td>0</td>\n",
       "      <td>22815.1035</td>\n",
       "      <td>buying my own car</td>\n",
       "      <td>car</td>\n",
       "    </tr>\n",
       "    <tr>\n",
       "      <th>20479</th>\n",
       "      <td>1</td>\n",
       "      <td>NaN</td>\n",
       "      <td>26</td>\n",
       "      <td>bachelor's degree</td>\n",
       "      <td>0</td>\n",
       "      <td>married</td>\n",
       "      <td>0</td>\n",
       "      <td>F</td>\n",
       "      <td>civil servant</td>\n",
       "      <td>0</td>\n",
       "      <td>24071.6695</td>\n",
       "      <td>education</td>\n",
       "      <td>education</td>\n",
       "    </tr>\n",
       "    <tr>\n",
       "      <th>3395</th>\n",
       "      <td>0</td>\n",
       "      <td>NaN</td>\n",
       "      <td>41</td>\n",
       "      <td>secondary education</td>\n",
       "      <td>1</td>\n",
       "      <td>married</td>\n",
       "      <td>0</td>\n",
       "      <td>F</td>\n",
       "      <td>employee</td>\n",
       "      <td>0</td>\n",
       "      <td>22815.1035</td>\n",
       "      <td>to own a car</td>\n",
       "      <td>car</td>\n",
       "    </tr>\n",
       "  </tbody>\n",
       "</table>\n",
       "</div>"
      ],
      "text/plain": [
       "       children  days_employed  age            education  education_id  \\\n",
       "3888          2            NaN   34  secondary education             1   \n",
       "16869         0            NaN   67  secondary education             1   \n",
       "11242         0            NaN   43  secondary education             1   \n",
       "20479         1            NaN   26    bachelor's degree             0   \n",
       "3395          0            NaN   41  secondary education             1   \n",
       "\n",
       "           family_status  family_status_id gender    income_type  debt  \\\n",
       "3888   civil partnership                 1      F       employee     1   \n",
       "16869            married                 0      F        retiree     0   \n",
       "11242            married                 0      F       employee     0   \n",
       "20479            married                 0      F  civil servant     0   \n",
       "3395             married                 0      F       employee     0   \n",
       "\n",
       "       total_income              purpose purpose_category  \n",
       "3888     22815.1035     having a wedding          wedding  \n",
       "16869    18962.3180  going to university        education  \n",
       "11242    22815.1035    buying my own car              car  \n",
       "20479    24071.6695            education        education  \n",
       "3395     22815.1035         to own a car              car  "
      ]
     },
     "execution_count": 64,
     "metadata": {},
     "output_type": "execute_result"
    }
   ],
   "source": [
    "# check the rows with ex-NaN values in the `total_income` column\n",
    "\n",
    "df[df['days_employed'].isnull()].sample(5)"
   ]
  },
  {
   "cell_type": "markdown",
   "metadata": {},
   "source": [
    "As we can see above, all NaN values in the `income_type` column are filled now with the median for each income type category. Let's check how the descriptive statistics for the `total_income` variable have changed. "
   ]
  },
  {
   "cell_type": "code",
   "execution_count": 65,
   "metadata": {},
   "outputs": [
    {
     "data": {
      "text/html": [
       "<div>\n",
       "<style scoped>\n",
       "    .dataframe tbody tr th:only-of-type {\n",
       "        vertical-align: middle;\n",
       "    }\n",
       "\n",
       "    .dataframe tbody tr th {\n",
       "        vertical-align: top;\n",
       "    }\n",
       "\n",
       "    .dataframe thead th {\n",
       "        text-align: right;\n",
       "    }\n",
       "</style>\n",
       "<table border=\"1\" class=\"dataframe\">\n",
       "  <thead>\n",
       "    <tr style=\"text-align: right;\">\n",
       "      <th></th>\n",
       "      <th>count</th>\n",
       "      <th>mean</th>\n",
       "      <th>std</th>\n",
       "      <th>min</th>\n",
       "      <th>25%</th>\n",
       "      <th>50%</th>\n",
       "      <th>75%</th>\n",
       "      <th>max</th>\n",
       "    </tr>\n",
       "    <tr>\n",
       "      <th>income_type</th>\n",
       "      <th></th>\n",
       "      <th></th>\n",
       "      <th></th>\n",
       "      <th></th>\n",
       "      <th></th>\n",
       "      <th></th>\n",
       "      <th></th>\n",
       "      <th></th>\n",
       "    </tr>\n",
       "  </thead>\n",
       "  <tbody>\n",
       "    <tr>\n",
       "      <th>business</th>\n",
       "      <td>508.0</td>\n",
       "      <td>27577.2720</td>\n",
       "      <td>0.000000e+00</td>\n",
       "      <td>27577.2720</td>\n",
       "      <td>27577.2720</td>\n",
       "      <td>27577.2720</td>\n",
       "      <td>27577.2720</td>\n",
       "      <td>27577.2720</td>\n",
       "    </tr>\n",
       "    <tr>\n",
       "      <th>civil servant</th>\n",
       "      <td>147.0</td>\n",
       "      <td>24071.6695</td>\n",
       "      <td>3.650416e-12</td>\n",
       "      <td>24071.6695</td>\n",
       "      <td>24071.6695</td>\n",
       "      <td>24071.6695</td>\n",
       "      <td>24071.6695</td>\n",
       "      <td>24071.6695</td>\n",
       "    </tr>\n",
       "    <tr>\n",
       "      <th>employee</th>\n",
       "      <td>1105.0</td>\n",
       "      <td>22815.1035</td>\n",
       "      <td>3.639626e-12</td>\n",
       "      <td>22815.1035</td>\n",
       "      <td>22815.1035</td>\n",
       "      <td>22815.1035</td>\n",
       "      <td>22815.1035</td>\n",
       "      <td>22815.1035</td>\n",
       "    </tr>\n",
       "    <tr>\n",
       "      <th>retiree</th>\n",
       "      <td>413.0</td>\n",
       "      <td>18962.3180</td>\n",
       "      <td>3.642391e-12</td>\n",
       "      <td>18962.3180</td>\n",
       "      <td>18962.3180</td>\n",
       "      <td>18962.3180</td>\n",
       "      <td>18962.3180</td>\n",
       "      <td>18962.3180</td>\n",
       "    </tr>\n",
       "  </tbody>\n",
       "</table>\n",
       "</div>"
      ],
      "text/plain": [
       "                count        mean           std         min         25%  \\\n",
       "income_type                                                               \n",
       "business        508.0  27577.2720  0.000000e+00  27577.2720  27577.2720   \n",
       "civil servant   147.0  24071.6695  3.650416e-12  24071.6695  24071.6695   \n",
       "employee       1105.0  22815.1035  3.639626e-12  22815.1035  22815.1035   \n",
       "retiree         413.0  18962.3180  3.642391e-12  18962.3180  18962.3180   \n",
       "\n",
       "                      50%         75%         max  \n",
       "income_type                                        \n",
       "business       27577.2720  27577.2720  27577.2720  \n",
       "civil servant  24071.6695  24071.6695  24071.6695  \n",
       "employee       22815.1035  22815.1035  22815.1035  \n",
       "retiree        18962.3180  18962.3180  18962.3180  "
      ]
     },
     "execution_count": 65,
     "metadata": {},
     "output_type": "execute_result"
    }
   ],
   "source": [
    "#  group the data by the `income_type` variable for rows with ex-NaN values in the `total_income` column \n",
    "\n",
    "df[df['days_employed'].isnull()].groupby('income_type')['total_income'].describe()"
   ]
  },
  {
   "cell_type": "code",
   "execution_count": 66,
   "metadata": {},
   "outputs": [
    {
     "data": {
      "text/html": [
       "<div>\n",
       "<style scoped>\n",
       "    .dataframe tbody tr th:only-of-type {\n",
       "        vertical-align: middle;\n",
       "    }\n",
       "\n",
       "    .dataframe tbody tr th {\n",
       "        vertical-align: top;\n",
       "    }\n",
       "\n",
       "    .dataframe thead th {\n",
       "        text-align: right;\n",
       "    }\n",
       "</style>\n",
       "<table border=\"1\" class=\"dataframe\">\n",
       "  <thead>\n",
       "    <tr style=\"text-align: right;\">\n",
       "      <th></th>\n",
       "      <th>count</th>\n",
       "      <th>mean</th>\n",
       "      <th>std</th>\n",
       "      <th>min</th>\n",
       "      <th>25%</th>\n",
       "      <th>50%</th>\n",
       "      <th>75%</th>\n",
       "      <th>max</th>\n",
       "    </tr>\n",
       "    <tr>\n",
       "      <th>income_type</th>\n",
       "      <th></th>\n",
       "      <th></th>\n",
       "      <th></th>\n",
       "      <th></th>\n",
       "      <th></th>\n",
       "      <th></th>\n",
       "      <th></th>\n",
       "      <th></th>\n",
       "    </tr>\n",
       "  </thead>\n",
       "  <tbody>\n",
       "    <tr>\n",
       "      <th>business</th>\n",
       "      <td>5085.0</td>\n",
       "      <td>31906.314564</td>\n",
       "      <td>19858.952768</td>\n",
       "      <td>4592.450</td>\n",
       "      <td>20954.59600</td>\n",
       "      <td>27577.2720</td>\n",
       "      <td>36988.11000</td>\n",
       "      <td>362496.645</td>\n",
       "    </tr>\n",
       "    <tr>\n",
       "      <th>civil servant</th>\n",
       "      <td>1459.0</td>\n",
       "      <td>27014.056634</td>\n",
       "      <td>14731.420130</td>\n",
       "      <td>4672.012</td>\n",
       "      <td>17610.63600</td>\n",
       "      <td>24071.6695</td>\n",
       "      <td>32163.62600</td>\n",
       "      <td>145672.235</td>\n",
       "    </tr>\n",
       "    <tr>\n",
       "      <th>employee</th>\n",
       "      <td>11119.0</td>\n",
       "      <td>25522.133104</td>\n",
       "      <td>13895.621521</td>\n",
       "      <td>3418.824</td>\n",
       "      <td>17118.73950</td>\n",
       "      <td>22815.1035</td>\n",
       "      <td>30165.47550</td>\n",
       "      <td>276204.162</td>\n",
       "    </tr>\n",
       "    <tr>\n",
       "      <th>entrepreneur</th>\n",
       "      <td>1.0</td>\n",
       "      <td>79866.103000</td>\n",
       "      <td>NaN</td>\n",
       "      <td>79866.103</td>\n",
       "      <td>79866.10300</td>\n",
       "      <td>79866.1030</td>\n",
       "      <td>79866.10300</td>\n",
       "      <td>79866.103</td>\n",
       "    </tr>\n",
       "    <tr>\n",
       "      <th>paternity / maternity leave</th>\n",
       "      <td>1.0</td>\n",
       "      <td>8612.661000</td>\n",
       "      <td>NaN</td>\n",
       "      <td>8612.661</td>\n",
       "      <td>8612.66100</td>\n",
       "      <td>8612.6610</td>\n",
       "      <td>8612.66100</td>\n",
       "      <td>8612.661</td>\n",
       "    </tr>\n",
       "    <tr>\n",
       "      <th>retiree</th>\n",
       "      <td>3856.0</td>\n",
       "      <td>21621.425210</td>\n",
       "      <td>12167.176026</td>\n",
       "      <td>3306.762</td>\n",
       "      <td>13947.19775</td>\n",
       "      <td>18962.3180</td>\n",
       "      <td>25938.21125</td>\n",
       "      <td>117616.523</td>\n",
       "    </tr>\n",
       "    <tr>\n",
       "      <th>student</th>\n",
       "      <td>1.0</td>\n",
       "      <td>15712.260000</td>\n",
       "      <td>NaN</td>\n",
       "      <td>15712.260</td>\n",
       "      <td>15712.26000</td>\n",
       "      <td>15712.2600</td>\n",
       "      <td>15712.26000</td>\n",
       "      <td>15712.260</td>\n",
       "    </tr>\n",
       "    <tr>\n",
       "      <th>unemployed</th>\n",
       "      <td>2.0</td>\n",
       "      <td>21014.360500</td>\n",
       "      <td>16152.074628</td>\n",
       "      <td>9593.119</td>\n",
       "      <td>15303.73975</td>\n",
       "      <td>21014.3605</td>\n",
       "      <td>26724.98125</td>\n",
       "      <td>32435.602</td>\n",
       "    </tr>\n",
       "  </tbody>\n",
       "</table>\n",
       "</div>"
      ],
      "text/plain": [
       "                               count          mean           std        min  \\\n",
       "income_type                                                                   \n",
       "business                      5085.0  31906.314564  19858.952768   4592.450   \n",
       "civil servant                 1459.0  27014.056634  14731.420130   4672.012   \n",
       "employee                     11119.0  25522.133104  13895.621521   3418.824   \n",
       "entrepreneur                     1.0  79866.103000           NaN  79866.103   \n",
       "paternity / maternity leave      1.0   8612.661000           NaN   8612.661   \n",
       "retiree                       3856.0  21621.425210  12167.176026   3306.762   \n",
       "student                          1.0  15712.260000           NaN  15712.260   \n",
       "unemployed                       2.0  21014.360500  16152.074628   9593.119   \n",
       "\n",
       "                                     25%         50%          75%         max  \n",
       "income_type                                                                    \n",
       "business                     20954.59600  27577.2720  36988.11000  362496.645  \n",
       "civil servant                17610.63600  24071.6695  32163.62600  145672.235  \n",
       "employee                     17118.73950  22815.1035  30165.47550  276204.162  \n",
       "entrepreneur                 79866.10300  79866.1030  79866.10300   79866.103  \n",
       "paternity / maternity leave   8612.66100   8612.6610   8612.66100    8612.661  \n",
       "retiree                      13947.19775  18962.3180  25938.21125  117616.523  \n",
       "student                      15712.26000  15712.2600  15712.26000   15712.260  \n",
       "unemployed                   15303.73975  21014.3605  26724.98125   32435.602  "
      ]
     },
     "execution_count": 66,
     "metadata": {},
     "output_type": "execute_result"
    }
   ],
   "source": [
    "# group the data by the `income_type` variable for the entire dataframe\n",
    "\n",
    "df.groupby('income_type')['total_income'].describe()"
   ]
  },
  {
   "cell_type": "markdown",
   "metadata": {},
   "source": [
    "   "
   ]
  },
  {
   "cell_type": "markdown",
   "metadata": {},
   "source": [
    "There are also have missing values in the `days_employed` column. As we know from the research in step 1, the overwhelming majority of customers are working people, so I can assume that their age and the length of work experience should be distributed more or less evenly. Hence, to check if I can fill the `days_employed` missing values with the mean or median for this column, I will analyze the value distribution of the `age` variable (excluding zero values)."
   ]
  },
  {
   "cell_type": "code",
   "execution_count": 67,
   "metadata": {},
   "outputs": [
    {
     "data": {
      "image/png": "[encoded data removed]",
      "text/plain": [
       "<Figure size 432x288 with 1 Axes>"
      ]
     },
     "metadata": {
      "needs_background": "light"
     },
     "output_type": "display_data"
    }
   ],
   "source": [
    "# value distribution in the `age` variable without zero values\n",
    "\n",
    "df[df['age'] >= 19]['age'].hist(bins = 20).set(title = 'Customer Age Distribution', xlabel = 'Years', ylabel = 'Number of Customers');"
   ]
  },
  {
   "cell_type": "markdown",
   "metadata": {},
   "source": [
    "As can be inferred from the histogram above, the customers' age has almost normal distribution. Let's take a look at the value distribution of the `age` variable for the subset with only `NaN` values in the `days_employed` column."
   ]
  },
  {
   "cell_type": "code",
   "execution_count": 68,
   "metadata": {},
   "outputs": [
    {
     "data": {
      "image/png": "[encoded data removed]",
      "text/plain": [
       "<Figure size 432x288 with 1 Axes>"
      ]
     },
     "metadata": {
      "needs_background": "light"
     },
     "output_type": "display_data"
    }
   ],
   "source": [
    "# value distribution of the `age` variable (without zero values) and only for NaN values in the `days_employed` column\n",
    "\n",
    "df[(df['days_employed'].isnull()) & \n",
    "   (df['age'] >= 19)]['age'].hist(bins = 20).set(title = 'Customer Age Distribution\\n for rows with NaN values in `days_employed` column\\n', \n",
    "                                                 xlabel = 'Years', ylabel = 'Number of Customers');"
   ]
  },
  {
   "cell_type": "markdown",
   "metadata": {},
   "source": [
    "This histogram is quite similar to the one above. It means this subset's customers do not differ in age distribution from all the customers, so I can assume the distribution of length of work experience for them do not differ either. Thus, I can fill the missing values of the `days_employed` variable with the mean or median of the existing values. \n",
    "\n",
    "However, the `days_employed` variable has unrealistic values: \n",
    "\n",
    "- 15906 rows have negative values \n",
    "- 3445 rows have incredibly large values.\n",
    "\n",
    "A minus sign may be an artifact, and negative values are actually positive. To check this assumption, I will convert the negative values to positive and compare the `days_employed` value distribution with the `age` value distribution but only for rows with the ex-negative `days_employed` values. For easier understanding, I will also transform the days to years."
   ]
  },
  {
   "cell_type": "code",
   "execution_count": 69,
   "metadata": {},
   "outputs": [
    {
     "data": {
      "image/png": "[encoded data removed]",
      "text/plain": [
       "<Figure size 432x288 with 1 Axes>"
      ]
     },
     "metadata": {
      "needs_background": "light"
     },
     "output_type": "display_data"
    }
   ],
   "source": [
    "# `age` value distribution (without zero values) only on the subset with the negative `days_employed` values\n",
    "\n",
    "df[(df['days_employed'] < 0) & \n",
    "   (df['age'] >= 19)]['age'].hist(bins = 20).set(title = 'Customer Age Distribution\\n for rows with negative values in `days_employed` column\\n', \n",
    "                                                 xlabel = 'Years', ylabel = 'Number of Customers');"
   ]
  },
  {
   "cell_type": "code",
   "execution_count": 70,
   "metadata": {},
   "outputs": [
    {
     "data": {
      "image/png": "[encoded data removed]",
      "text/plain": [
       "<Figure size 432x288 with 1 Axes>"
      ]
     },
     "metadata": {
      "needs_background": "light"
     },
     "output_type": "display_data"
    }
   ],
   "source": [
    "# `days_employed` negative value distribution on the same subset\n",
    "\n",
    "abs(df[(df['days_employed'] < 0) & (df['age'] >= 19)]['days_employed']).div(365).hist(bins = 20).set(title = 'Work Experience in Years\\n for rows with negative values in `days_employed` column\\n', \n",
    "                                                                                                     xlabel = 'Years', ylabel = 'Number of Customers');"
   ]
  },
  {
   "cell_type": "markdown",
   "metadata": {},
   "source": [
    "Now value distributions are very different from each other. The second histogram shows us, that most customers have too short work experience for their ages.\n",
    "\n",
    "My next step is to compare the `age` and the `days_employed` value distributions on the subset with only positive large values in the `days_employed` column. Again, for easier understanding, I will also transform the days to years."
   ]
  },
  {
   "cell_type": "code",
   "execution_count": 71,
   "metadata": {},
   "outputs": [
    {
     "data": {
      "image/png": "[encoded data removed]",
      "text/plain": [
       "<Figure size 432x288 with 1 Axes>"
      ]
     },
     "metadata": {
      "needs_background": "light"
     },
     "output_type": "display_data"
    }
   ],
   "source": [
    "# `age` value distribution (without zero values) only for the subset with the large `days_employed` values\n",
    "\n",
    "df[(df['days_employed'] > 0) \n",
    "   & (df['age'] >= 19)]['age'].hist(bins = 20).set(title = 'Customer Age Distribution\\n for rows with large values in `days_employed` column\\n', \n",
    "                                                   xlabel = 'Years', ylabel = 'Number of Customers');"
   ]
  },
  {
   "cell_type": "code",
   "execution_count": 72,
   "metadata": {},
   "outputs": [
    {
     "data": {
      "image/png": "[encoded data removed]",
      "text/plain": [
       "<Figure size 432x288 with 1 Axes>"
      ]
     },
     "metadata": {
      "needs_background": "light"
     },
     "output_type": "display_data"
    }
   ],
   "source": [
    "# `days_employed` large value distribution on the same subset\n",
    "\n",
    "df[(df['days_employed'] > 0) & \n",
    "   (df['age'] >= 19)]['days_employed'].div(365).hist(bins = 20).set(title = 'Work Experience in Years\\n for rows with large values in `days_employed` column\\n', \n",
    "                                                                    xlabel = 'Years', ylabel = 'Number of Customers');"
   ]
  },
  {
   "cell_type": "markdown",
   "metadata": {},
   "source": [
    "And again, the value distributions are very different. Although the `age` histogram is skewed, and most of the customers of this subset are older than 50, the `days_employed` histogram tells us that their length of work experience is more or less equal, not to mention unrealistically long.\n",
    "\n",
    "Based on this research, I can only assume that the `days_employed` variable consists of totally incorrect values. I suppose that in the original data source, the variable was represented by, for example, a formula or an SLQ-query and was just broken during the extracting process. This is also indicated by the fact that the `total_income` and `days_employed` variables are not integers, although it is quite strange to represent working days or annual income as fractional numbers with so many decimal places. So I quite sure that just convert the `days_employed` negative values into positive and then fill missing values in the `days_employed` column with the mean or median could create misleading data.\n",
    "\n",
    "Since there are no questions related to the `days_employed` variable, I prefer to keep it as is. If the values could be evaluated as plausible, it would be correct to use the same way to fill missing values, which we used for filling the `total_income` missing values.\n",
    "\n",
    "Finally, I should explain the possible reasons why missing values were present. I think it could have happened if two or more datasets were merged, and one of them did not contain the `total_income` and `days_employed` columns. As a result, in the final dataset, the `NaN` values have appeared in the rows from that dataset."
   ]
  },
  {
   "cell_type": "markdown",
   "metadata": {},
   "source": [
    "   "
   ]
  },
  {
   "cell_type": "markdown",
   "metadata": {},
   "source": [
    "### Conclusion\n",
    "\n",
    "The main goal of this stage of preprocessing data was to fill in missing values. In the first step of the project, I identified two columns with missing values: `total_income` and `days_employed`.\n",
    "\n",
    "At first, I made sure that the missing values in both columns were in the same rows. \n",
    "\n",
    "Then I had to identify the type of missing data. To do this, I compared the value distribution of all variables on the entire dataset and on the subset consisting only of the rows with missing values in `total_income` and `days_employed` columns. The only variable value distribution of which I decided not to compare was `purpose`. There are 38 unique values in the `purpose` column, and their distributions would not be clear enough to see the differences between the dataset and the subset with missing values. So, I categorized all purposes into 4 categories and created a new column `purpose_category`, filling it with them. For comparing value distributions I used the `purpose_category` variable insted of the `purpose`variable.\n",
    "\n",
    "I did not find significant differences between the dataset and the subset with missing values, so I conclude that missing data were MCAR or MAR and could be replaced with the mean or median.\n",
    "\n",
    "To replace the missing values in the `total_income` column, I found medians for every type of income and use them to fill in missing values accordingly for each income type.\n",
    "\n",
    "Before filling in missing values in the `days_employed` column, I tried to fix other issues in this column like negative values and incredibly large values. Unfortunately, I failed as I did not find any pattern in the corrupted data, which could help me restore them correctly. I decided that filling in missing values could create more incorrect values and leave the column without changes. In the real world, I would try to contact the data provider and get correct dataset or figure out ways to restore this column. "
   ]
  },
  {
   "cell_type": "markdown",
   "metadata": {},
   "source": [
    "   "
   ]
  },
  {
   "cell_type": "markdown",
   "metadata": {},
   "source": [
    "<a id='step24'><a>\n",
    "### __4. Change data type of `total_income` from float to int__"
   ]
  },
  {
   "cell_type": "code",
   "execution_count": 73,
   "metadata": {},
   "outputs": [
    {
     "data": {
      "text/plain": [
       "dtype('int64')"
      ]
     },
     "execution_count": 73,
     "metadata": {},
     "output_type": "execute_result"
    }
   ],
   "source": [
    "# change data type for `total_income` variable from float to integer using `astype` method\n",
    "\n",
    "df['total_income'] = df['total_income'].astype(int)\n",
    "\n",
    "# check the result\n",
    "\n",
    "df['total_income'].dtypes"
   ]
  },
  {
   "cell_type": "markdown",
   "metadata": {},
   "source": [
    "### Conclusion\n",
    "\n",
    "I changed the `total_income` column's data type from float to integer using `astype()` method. Since I kept the `day_employed` variable without changes there is no point to transform its values to integer. "
   ]
  },
  {
   "cell_type": "markdown",
   "metadata": {},
   "source": [
    "   "
   ]
  },
  {
   "cell_type": "markdown",
   "metadata": {},
   "source": [
    "<a id='step25'><a>\n",
    "### __5. Processing duplicates__"
   ]
  },
  {
   "cell_type": "markdown",
   "metadata": {},
   "source": [
    "To find duplicate rows in the dataset in the step 1, I use the `duplicated()` method. Let's check the number of duplicates again since it could have changed because of fixing the `education` vatiable. "
   ]
  },
  {
   "cell_type": "code",
   "execution_count": 74,
   "metadata": {},
   "outputs": [
    {
     "data": {
      "text/plain": [
       "71"
      ]
     },
     "execution_count": 74,
     "metadata": {},
     "output_type": "execute_result"
    }
   ],
   "source": [
    "# check number of duplicate rows with `duplicated()` method\n",
    "\n",
    "df.duplicated().sum()"
   ]
  },
  {
   "cell_type": "code",
   "execution_count": 75,
   "metadata": {},
   "outputs": [
    {
     "name": "stdout",
     "output_type": "stream",
     "text": [
      "0.3%\n"
     ]
    }
   ],
   "source": [
    "# percentage of the duplicate rows in the dataset\n",
    "\n",
    "print('{:.1%}'.format(71/df.shape[0]))"
   ]
  },
  {
   "cell_type": "markdown",
   "metadata": {},
   "source": [
    "Let's look closer to the groups of duplicates."
   ]
  },
  {
   "cell_type": "code",
   "execution_count": 76,
   "metadata": {},
   "outputs": [
    {
     "data": {
      "text/html": [
       "<div>\n",
       "<style scoped>\n",
       "    .dataframe tbody tr th:only-of-type {\n",
       "        vertical-align: middle;\n",
       "    }\n",
       "\n",
       "    .dataframe tbody tr th {\n",
       "        vertical-align: top;\n",
       "    }\n",
       "\n",
       "    .dataframe thead th {\n",
       "        text-align: right;\n",
       "    }\n",
       "</style>\n",
       "<table border=\"1\" class=\"dataframe\">\n",
       "  <thead>\n",
       "    <tr style=\"text-align: right;\">\n",
       "      <th></th>\n",
       "      <th>children</th>\n",
       "      <th>days_employed</th>\n",
       "      <th>age</th>\n",
       "      <th>education</th>\n",
       "      <th>education_id</th>\n",
       "      <th>family_status</th>\n",
       "      <th>family_status_id</th>\n",
       "      <th>gender</th>\n",
       "      <th>income_type</th>\n",
       "      <th>debt</th>\n",
       "      <th>total_income</th>\n",
       "      <th>purpose</th>\n",
       "      <th>purpose_category</th>\n",
       "    </tr>\n",
       "  </thead>\n",
       "  <tbody>\n",
       "    <tr>\n",
       "      <th>20297</th>\n",
       "      <td>1</td>\n",
       "      <td>NaN</td>\n",
       "      <td>23</td>\n",
       "      <td>secondary education</td>\n",
       "      <td>1</td>\n",
       "      <td>civil partnership</td>\n",
       "      <td>1</td>\n",
       "      <td>F</td>\n",
       "      <td>employee</td>\n",
       "      <td>0</td>\n",
       "      <td>22815</td>\n",
       "      <td>to have a wedding</td>\n",
       "      <td>wedding</td>\n",
       "    </tr>\n",
       "    <tr>\n",
       "      <th>8853</th>\n",
       "      <td>1</td>\n",
       "      <td>NaN</td>\n",
       "      <td>23</td>\n",
       "      <td>secondary education</td>\n",
       "      <td>1</td>\n",
       "      <td>civil partnership</td>\n",
       "      <td>1</td>\n",
       "      <td>F</td>\n",
       "      <td>employee</td>\n",
       "      <td>0</td>\n",
       "      <td>22815</td>\n",
       "      <td>to have a wedding</td>\n",
       "      <td>wedding</td>\n",
       "    </tr>\n",
       "    <tr>\n",
       "      <th>15892</th>\n",
       "      <td>0</td>\n",
       "      <td>NaN</td>\n",
       "      <td>23</td>\n",
       "      <td>secondary education</td>\n",
       "      <td>1</td>\n",
       "      <td>unmarried</td>\n",
       "      <td>4</td>\n",
       "      <td>F</td>\n",
       "      <td>employee</td>\n",
       "      <td>0</td>\n",
       "      <td>22815</td>\n",
       "      <td>second-hand car purchase</td>\n",
       "      <td>car</td>\n",
       "    </tr>\n",
       "    <tr>\n",
       "      <th>19321</th>\n",
       "      <td>0</td>\n",
       "      <td>NaN</td>\n",
       "      <td>23</td>\n",
       "      <td>secondary education</td>\n",
       "      <td>1</td>\n",
       "      <td>unmarried</td>\n",
       "      <td>4</td>\n",
       "      <td>F</td>\n",
       "      <td>employee</td>\n",
       "      <td>0</td>\n",
       "      <td>22815</td>\n",
       "      <td>second-hand car purchase</td>\n",
       "      <td>car</td>\n",
       "    </tr>\n",
       "    <tr>\n",
       "      <th>3452</th>\n",
       "      <td>0</td>\n",
       "      <td>NaN</td>\n",
       "      <td>29</td>\n",
       "      <td>bachelor's degree</td>\n",
       "      <td>0</td>\n",
       "      <td>married</td>\n",
       "      <td>0</td>\n",
       "      <td>M</td>\n",
       "      <td>employee</td>\n",
       "      <td>0</td>\n",
       "      <td>22815</td>\n",
       "      <td>buy residential real estate</td>\n",
       "      <td>real estate</td>\n",
       "    </tr>\n",
       "    <tr>\n",
       "      <th>...</th>\n",
       "      <td>...</td>\n",
       "      <td>...</td>\n",
       "      <td>...</td>\n",
       "      <td>...</td>\n",
       "      <td>...</td>\n",
       "      <td>...</td>\n",
       "      <td>...</td>\n",
       "      <td>...</td>\n",
       "      <td>...</td>\n",
       "      <td>...</td>\n",
       "      <td>...</td>\n",
       "      <td>...</td>\n",
       "      <td>...</td>\n",
       "    </tr>\n",
       "    <tr>\n",
       "      <th>5865</th>\n",
       "      <td>0</td>\n",
       "      <td>NaN</td>\n",
       "      <td>66</td>\n",
       "      <td>secondary education</td>\n",
       "      <td>1</td>\n",
       "      <td>widow / widower</td>\n",
       "      <td>2</td>\n",
       "      <td>F</td>\n",
       "      <td>retiree</td>\n",
       "      <td>0</td>\n",
       "      <td>18962</td>\n",
       "      <td>transactions with my real estate</td>\n",
       "      <td>real estate</td>\n",
       "    </tr>\n",
       "    <tr>\n",
       "      <th>9528</th>\n",
       "      <td>0</td>\n",
       "      <td>NaN</td>\n",
       "      <td>66</td>\n",
       "      <td>secondary education</td>\n",
       "      <td>1</td>\n",
       "      <td>widow / widower</td>\n",
       "      <td>2</td>\n",
       "      <td>F</td>\n",
       "      <td>retiree</td>\n",
       "      <td>0</td>\n",
       "      <td>18962</td>\n",
       "      <td>transactions with my real estate</td>\n",
       "      <td>real estate</td>\n",
       "    </tr>\n",
       "    <tr>\n",
       "      <th>9604</th>\n",
       "      <td>0</td>\n",
       "      <td>NaN</td>\n",
       "      <td>71</td>\n",
       "      <td>secondary education</td>\n",
       "      <td>1</td>\n",
       "      <td>civil partnership</td>\n",
       "      <td>1</td>\n",
       "      <td>F</td>\n",
       "      <td>retiree</td>\n",
       "      <td>0</td>\n",
       "      <td>18962</td>\n",
       "      <td>having a wedding</td>\n",
       "      <td>wedding</td>\n",
       "    </tr>\n",
       "    <tr>\n",
       "      <th>7938</th>\n",
       "      <td>0</td>\n",
       "      <td>NaN</td>\n",
       "      <td>71</td>\n",
       "      <td>secondary education</td>\n",
       "      <td>1</td>\n",
       "      <td>civil partnership</td>\n",
       "      <td>1</td>\n",
       "      <td>F</td>\n",
       "      <td>retiree</td>\n",
       "      <td>0</td>\n",
       "      <td>18962</td>\n",
       "      <td>having a wedding</td>\n",
       "      <td>wedding</td>\n",
       "    </tr>\n",
       "    <tr>\n",
       "      <th>6537</th>\n",
       "      <td>0</td>\n",
       "      <td>NaN</td>\n",
       "      <td>71</td>\n",
       "      <td>secondary education</td>\n",
       "      <td>1</td>\n",
       "      <td>civil partnership</td>\n",
       "      <td>1</td>\n",
       "      <td>F</td>\n",
       "      <td>retiree</td>\n",
       "      <td>0</td>\n",
       "      <td>18962</td>\n",
       "      <td>having a wedding</td>\n",
       "      <td>wedding</td>\n",
       "    </tr>\n",
       "  </tbody>\n",
       "</table>\n",
       "<p>137 rows × 13 columns</p>\n",
       "</div>"
      ],
      "text/plain": [
       "       children  days_employed  age            education  education_id  \\\n",
       "20297         1            NaN   23  secondary education             1   \n",
       "8853          1            NaN   23  secondary education             1   \n",
       "15892         0            NaN   23  secondary education             1   \n",
       "19321         0            NaN   23  secondary education             1   \n",
       "3452          0            NaN   29    bachelor's degree             0   \n",
       "...         ...            ...  ...                  ...           ...   \n",
       "5865          0            NaN   66  secondary education             1   \n",
       "9528          0            NaN   66  secondary education             1   \n",
       "9604          0            NaN   71  secondary education             1   \n",
       "7938          0            NaN   71  secondary education             1   \n",
       "6537          0            NaN   71  secondary education             1   \n",
       "\n",
       "           family_status  family_status_id gender income_type  debt  \\\n",
       "20297  civil partnership                 1      F    employee     0   \n",
       "8853   civil partnership                 1      F    employee     0   \n",
       "15892          unmarried                 4      F    employee     0   \n",
       "19321          unmarried                 4      F    employee     0   \n",
       "3452             married                 0      M    employee     0   \n",
       "...                  ...               ...    ...         ...   ...   \n",
       "5865     widow / widower                 2      F     retiree     0   \n",
       "9528     widow / widower                 2      F     retiree     0   \n",
       "9604   civil partnership                 1      F     retiree     0   \n",
       "7938   civil partnership                 1      F     retiree     0   \n",
       "6537   civil partnership                 1      F     retiree     0   \n",
       "\n",
       "       total_income                           purpose purpose_category  \n",
       "20297         22815                 to have a wedding          wedding  \n",
       "8853          22815                 to have a wedding          wedding  \n",
       "15892         22815          second-hand car purchase              car  \n",
       "19321         22815          second-hand car purchase              car  \n",
       "3452          22815       buy residential real estate      real estate  \n",
       "...             ...                               ...              ...  \n",
       "5865          18962  transactions with my real estate      real estate  \n",
       "9528          18962  transactions with my real estate      real estate  \n",
       "9604          18962                  having a wedding          wedding  \n",
       "7938          18962                  having a wedding          wedding  \n",
       "6537          18962                  having a wedding          wedding  \n",
       "\n",
       "[137 rows x 13 columns]"
      ]
     },
     "execution_count": 76,
     "metadata": {},
     "output_type": "execute_result"
    }
   ],
   "source": [
    "# all duplicated rows sorting by the `age` column\n",
    "\n",
    "df[df.duplicated(keep = False)].sort_values(by = 'age')"
   ]
  },
  {
   "cell_type": "markdown",
   "metadata": {},
   "source": [
    "There are 137 duplicated rows but only 71 of them are uniqe, which means that some rows are repeated more than twice. Actually, the last three rows confirm this conclusions.\n",
    "\n",
    "There are also a lot of `NaN` values in the `days_employed` column and the identical values in `total_income` column (which means they were missing values too). Let's check if there are any other values in `days_employed` variable."
   ]
  },
  {
   "cell_type": "code",
   "execution_count": 77,
   "metadata": {},
   "outputs": [
    {
     "data": {
      "text/plain": [
       "array([nan])"
      ]
     },
     "execution_count": 77,
     "metadata": {},
     "output_type": "execute_result"
    }
   ],
   "source": [
    "# unique values in the `days_employed` column in all duplicated rows\n",
    "\n",
    "df[df.duplicated(keep = False)].sort_values(by = 'age')['days_employed'].unique()"
   ]
  },
  {
   "cell_type": "markdown",
   "metadata": {},
   "source": [
    "In the previous step, I suppose that rows with `NaN` values came from another dataset. We can assume that this dataset also had some issues like duplicate rows, or something went wrong during the merging process. \n",
    "\n",
    "I should also point out that the duplicate rows are the same in the columns that do not have many various values. It is quite conceivable that two different women 23 y.o. with secondary education living in common-law partnership were willing to take a loan for a wedding. I could tell for sure if these customers are different, comparing values in the `days_employed` and `total_income` columns as they are the most diverse variables in the dataset. However, since there were only `NaN` values in these columns, we can assume that these rows are duplicates and drop them - it is only 0.3% of the dataset."
   ]
  },
  {
   "cell_type": "code",
   "execution_count": 78,
   "metadata": {},
   "outputs": [
    {
     "data": {
      "text/plain": [
       "0"
      ]
     },
     "execution_count": 78,
     "metadata": {},
     "output_type": "execute_result"
    }
   ],
   "source": [
    "# removing duplicates using `drop_duplicates` method\n",
    "\n",
    "df = df.drop_duplicates()\n",
    "\n",
    "# check the result\n",
    "\n",
    "df.duplicated().sum()"
   ]
  },
  {
   "cell_type": "markdown",
   "metadata": {},
   "source": [
    "### Conclusion\n",
    "\n",
    "I found 71 duplicate rows using the `duplicated()` method. After a little analysis, I removed them using `drop_duplicates()` method."
   ]
  },
  {
   "cell_type": "markdown",
   "metadata": {},
   "source": [
    "   "
   ]
  },
  {
   "cell_type": "markdown",
   "metadata": {},
   "source": [
    "<a id='step26'><a>\n",
    "### __6. Fixing unrealistic values in `children` column__"
   ]
  },
  {
   "cell_type": "markdown",
   "metadata": {},
   "source": [
    "A variable `children` has unrealistic values: `-1` in 47 rows and suspiciously large (`20`) in 76 rows. I think the possible reason these unrealistic values are presented is a data entry error, so a minus sign in `-1` and zero in `20` are just artifacts. \n",
    "\n",
    "There are some ways to deal with these issues: \n",
    "1) replace `-1` with `1` and `20` with `1` and `2`, respectively;\\\n",
    "2) drop the rows where the `children` variable is equal to `-1` and `20` since these 123 rows are less than 0.6% of the dataset;\\\n",
    "3) replace these values with 0 since 65.7% of customers in the dataset do not have children, and we can ignore the 0.6% increase; \n",
    "\n",
    "I choose the second way."
   ]
  },
  {
   "cell_type": "code",
   "execution_count": 79,
   "metadata": {},
   "outputs": [
    {
     "data": {
      "text/plain": [
       " 0     14090\n",
       " 1      4808\n",
       " 2      2052\n",
       " 3       330\n",
       " 20       76\n",
       "-1        47\n",
       " 4        41\n",
       " 5         9\n",
       "Name: children, dtype: int64"
      ]
     },
     "execution_count": 79,
     "metadata": {},
     "output_type": "execute_result"
    }
   ],
   "source": [
    "# values in the `children` column\n",
    "\n",
    "df['children'].value_counts()"
   ]
  },
  {
   "cell_type": "code",
   "execution_count": 80,
   "metadata": {},
   "outputs": [
    {
     "data": {
      "text/plain": [
       "0    14213\n",
       "1     4808\n",
       "2     2052\n",
       "3      330\n",
       "4       41\n",
       "5        9\n",
       "Name: children, dtype: int64"
      ]
     },
     "execution_count": 80,
     "metadata": {},
     "output_type": "execute_result"
    }
   ],
   "source": [
    "# replace `-1` and `20` in the `children` column with 0\n",
    "\n",
    "df['children'] = df['children'].apply(lambda x: 0 if x == -1 or x == 20 else x)\n",
    "\n",
    "# check the result\n",
    "\n",
    "df['children'].value_counts()"
   ]
  },
  {
   "cell_type": "markdown",
   "metadata": {},
   "source": [
    "### Conclusion\n",
    "\n",
    "To fix unrealistic values in the `children` column I created a function for replacing `-1` and `20` values with 0. Then I replace these values in the `children` column using `apply()` method with the function as a parameter. "
   ]
  },
  {
   "cell_type": "markdown",
   "metadata": {},
   "source": [
    "   "
   ]
  },
  {
   "cell_type": "markdown",
   "metadata": {},
   "source": [
    "<a id='step27'><a>\n",
    "### __7. Categorizing Data__"
   ]
  },
  {
   "cell_type": "markdown",
   "metadata": {},
   "source": [
    "To answer the questions, I need to categorize some data. Let's recall the questions:\n",
    "\n",
    "- is there a connection between having kids and repaying a loan on time?\n",
    "- is there a connection between marital status and repaying a loan on time?\n",
    "- is there a connection between income level and repaying a loan on time?\n",
    "- how do different loan purposes affect on-time loan repayment?\n",
    "\n",
    "What variables will help me to get the answers? \n",
    "\n",
    "At first, \"repaying a loan on time\" is coded in a `debt` variable, which is represented by two values: `1` and `0`. `0` means a customer repays a loan on time, and `1` means the opposite. Thus, the data is already categorized: there are two categories of customers for the \"repaying a loan on time\" parameter. "
   ]
  },
  {
   "cell_type": "code",
   "execution_count": 81,
   "metadata": {},
   "outputs": [
    {
     "data": {
      "text/plain": [
       "0    19712\n",
       "1     1741\n",
       "Name: debt, dtype: int64"
      ]
     },
     "execution_count": 81,
     "metadata": {},
     "output_type": "execute_result"
    }
   ],
   "source": [
    "# unique values in the `debt` column\n",
    "df['debt'].value_counts()"
   ]
  },
  {
   "cell_type": "markdown",
   "metadata": {},
   "source": [
    "   "
   ]
  },
  {
   "cell_type": "markdown",
   "metadata": {},
   "source": [
    "The variable `children` shows how many children customers have, but there is no variable indicating whether the customer has kids at all. So, I need to classify customers by the \"having kids\" parameter."
   ]
  },
  {
   "cell_type": "code",
   "execution_count": 82,
   "metadata": {},
   "outputs": [
    {
     "data": {
      "text/plain": [
       "False    14213\n",
       "True      7240\n",
       "Name: having_children, dtype: int64"
      ]
     },
     "execution_count": 82,
     "metadata": {},
     "output_type": "execute_result"
    }
   ],
   "source": [
    "# create a new column `having children' with True if the customer has kids and False - if not\n",
    "\n",
    "df['having_children'] = df['children'] > 0\n",
    "\n",
    "# check the result\n",
    "\n",
    "df['having_children'].value_counts()"
   ]
  },
  {
   "cell_type": "code",
   "execution_count": 83,
   "metadata": {},
   "outputs": [
    {
     "name": "stdout",
     "output_type": "stream",
     "text": [
      "7240 customers in the dataset have childfren and 14213 do not have children.\n"
     ]
    }
   ],
   "source": [
    "# recheck the number of single and not single customers\n",
    "\n",
    "has_children = 0\n",
    "no_children = 0\n",
    "\n",
    "for children, number in df.groupby('children'):\n",
    "    if children > 0:\n",
    "        has_children += len(number)\n",
    "    else:\n",
    "        no_children += len(number)\n",
    "\n",
    "print('{} customers in the dataset have childfren and {} do not have children.'.format(has_children, no_children))"
   ]
  },
  {
   "cell_type": "markdown",
   "metadata": {},
   "source": [
    "   "
   ]
  },
  {
   "cell_type": "markdown",
   "metadata": {},
   "source": [
    "As we can see below, there are five types of customers' family status. It would be interesting to analyze not the connection between a specific type of marital status and repaying a loan on time but explore if there is any difference between single and not-single customers for the \"repaying a loan on time\" parameter. To do this, I should categorize customers into two groups: people who have a partner and people who do not."
   ]
  },
  {
   "cell_type": "code",
   "execution_count": 84,
   "metadata": {},
   "outputs": [
    {
     "data": {
      "text/plain": [
       "array(['married', 'civil partnership', 'widow / widower', 'divorced',\n",
       "       'unmarried'], dtype=object)"
      ]
     },
     "execution_count": 84,
     "metadata": {},
     "output_type": "execute_result"
    }
   ],
   "source": [
    "# unique values in the 'family_status' column\n",
    "\n",
    "df['family_status'].unique()"
   ]
  },
  {
   "cell_type": "code",
   "execution_count": 85,
   "metadata": {},
   "outputs": [
    {
     "data": {
      "text/plain": [
       "False    16489\n",
       "True      4964\n",
       "Name: single, dtype: int64"
      ]
     },
     "execution_count": 85,
     "metadata": {},
     "output_type": "execute_result"
    }
   ],
   "source": [
    "# function categorizing values in the `family_status` column by the \"having a partner\" parameter\n",
    "\n",
    "def single_or_not(value):\n",
    "    if 'widow / widower' in value or 'divorced' in value or 'unmarried' in value: \n",
    "        return True\n",
    "    if 'married' in value or 'civil partnership' in value: \n",
    "        return False\n",
    "    else:\n",
    "        return 'unknown'\n",
    "    \n",
    "# create a new column `single` by appling the function` single_or_not` to the `family_status` column\n",
    "\n",
    "df['single'] = df['family_status'].apply(single_or_not)\n",
    "\n",
    "# check the result\n",
    "\n",
    "df['single'].value_counts()"
   ]
  },
  {
   "cell_type": "code",
   "execution_count": 86,
   "metadata": {},
   "outputs": [
    {
     "name": "stdout",
     "output_type": "stream",
     "text": [
      "There 4964 single and 16489 not single customers in the dataset.\n"
     ]
    }
   ],
   "source": [
    "# recheck the number of single and not single customers\n",
    "\n",
    "single = 0\n",
    "not_single = 0\n",
    "\n",
    "for status, number in df.groupby('family_status'):\n",
    "    if status in ['married', 'civil partnership']:\n",
    "        not_single += len(number)\n",
    "    else:\n",
    "        single += len(number)\n",
    "\n",
    "print('There {} single and {} not single customers in the dataset.'.format(single, not_single))"
   ]
  },
  {
   "cell_type": "markdown",
   "metadata": {},
   "source": [
    "    \n",
    "    \n",
    "    "
   ]
  },
  {
   "cell_type": "markdown",
   "metadata": {},
   "source": [
    "The next variable I will use to answer the questions is `total_income`. There are two ways to show the connection between income level and repaying a loan on time:\n",
    "\n",
    "1) plot a graph that shows the relationship between the categorical variable `debt` and the numeric continuous variable `total_income` - a violin plot, for example;\n",
    "2) categorize the `total_income` variable into several groups and show how the variable `debt` changes for each group.\n",
    "\n",
    "I choose the second way since the question is about the __*level*__ of income .\n",
    "\n",
    "Assuming that the dataset is from the US, I will categorize the `total_income` values into the groups according the current income tax brackets."
   ]
  },
  {
   "cell_type": "code",
   "execution_count": 87,
   "metadata": {},
   "outputs": [
    {
     "data": {
      "text/plain": [
       "income_level\n",
       "(0.0, 9875.0]            884\n",
       "(9875.0, 40125.0]      17776\n",
       "(40125.0, 85525.0]      2623\n",
       "(85525.0, 163300.0]      147\n",
       "(163300.0, inf]           23\n",
       "Name: income_level, dtype: int64"
      ]
     },
     "execution_count": 87,
     "metadata": {},
     "output_type": "execute_result"
    }
   ],
   "source": [
    "# create a new column and fill it in with groups of the 'total_income' values using `cut()` method\n",
    "\n",
    "df['income_level'] = pd.cut(df['total_income'], bins = [0,9875,40125,85525,163300, np.inf])\n",
    "\n",
    "# check the result\n",
    "\n",
    "df.groupby('income_level')['income_level'].count()"
   ]
  },
  {
   "cell_type": "markdown",
   "metadata": {},
   "source": [
    "   "
   ]
  },
  {
   "cell_type": "markdown",
   "metadata": {},
   "source": [
    "Finally, I need to analyze how different loan purposes affect on-time loan repayment. This requires the `purpose` values categorization that I already did in the step 2 working on missing values. Hence to answer the last question I will use `purpose_category` variable."
   ]
  },
  {
   "cell_type": "code",
   "execution_count": 88,
   "metadata": {},
   "outputs": [
    {
     "data": {
      "text/plain": [
       "real estate    10810\n",
       "car             4306\n",
       "education       4013\n",
       "wedding         2324\n",
       "Name: purpose_category, dtype: int64"
      ]
     },
     "execution_count": 88,
     "metadata": {},
     "output_type": "execute_result"
    }
   ],
   "source": [
    "# values of the `purpose_category` variable\n",
    "\n",
    "df['purpose_category'].value_counts()"
   ]
  },
  {
   "cell_type": "code",
   "execution_count": 89,
   "metadata": {},
   "outputs": [
    {
     "data": {
      "text/plain": [
       "array(['real estate', 'car', 'education', 'wedding'], dtype=object)"
      ]
     },
     "execution_count": 89,
     "metadata": {},
     "output_type": "execute_result"
    }
   ],
   "source": [
    "df['purpose_category'].unique()"
   ]
  },
  {
   "cell_type": "markdown",
   "metadata": {},
   "source": [
    "      "
   ]
  },
  {
   "cell_type": "markdown",
   "metadata": {},
   "source": [
    "### Conclusion\n",
    "\n",
    "In this step I determined which variables I need to answer the project's questions. They are `debt`, `children`, `family status`, `total_income` and `purpose`. I decided to categorize `children`, `family status`, `total_income` and `purpose` values into groups and create a new columns for them. \n",
    "\n",
    "I split the customers into those who have children and who do not creating the `having_children` columns with 2 values: `True` and `False`. \n",
    "\n",
    "Using the same principle, I split customers into those who have a partner and who do not and create the `single` column also with 2 values: `True` and `False`.\n",
    "\n",
    "Based on the US tax breackets, I categorized the `total_income` values into 5 groups using `cut()` method with the following bins: (0, 9875], (9875, 40125], (40125, 85525], (85525, 163300], (163300, ∞]. \n",
    "\n",
    "The `purpose` values were already categorized in the step 2. I created the the `purpose_category` column with 4 values: `real estate`, `car`, `education`, `wedding`.\n",
    "\n",
    "Such categorization will help us to answer the project's questions without having to build graphs or use complex statistical methods."
   ]
  },
  {
   "cell_type": "markdown",
   "metadata": {},
   "source": [
    "____"
   ]
  },
  {
   "cell_type": "markdown",
   "metadata": {},
   "source": [
    "<a id='step3'><a>\n",
    "## __Analyzing Data__"
   ]
  },
  {
   "cell_type": "markdown",
   "metadata": {},
   "source": [
    "### __1) Is there a relationship between having kids and repaying a loan on time?__\n",
    "\n",
    "To answer the question, I will compare two groups of the customers: those who have children and those who do not, using `having_children` variable. I will create a pivot table using `pivot_table()` method with the following parameters: `index = ['having_children'], values = ['debt'], aggfunc = ['count', 'mean']`. The `count` parameter shows a number of values of `['debt']` variable for corresponding `having_children` values.\n",
    "\n",
    "The numbers in the table represent the mean of the `debt` variable for each customer group. Since the `debt` variable has two values, `1` and `0`, the mean for the group is calculated as the sum of ones divided by the group's total number of values. Thus, the numbers in the table are equal to the share of the customers in the group who have debt."
   ]
  },
  {
   "cell_type": "code",
   "execution_count": 90,
   "metadata": {},
   "outputs": [
    {
     "data": {
      "text/html": [
       "<div>\n",
       "<style scoped>\n",
       "    .dataframe tbody tr th:only-of-type {\n",
       "        vertical-align: middle;\n",
       "    }\n",
       "\n",
       "    .dataframe tbody tr th {\n",
       "        vertical-align: top;\n",
       "    }\n",
       "\n",
       "    .dataframe thead tr th {\n",
       "        text-align: left;\n",
       "    }\n",
       "\n",
       "    .dataframe thead tr:last-of-type th {\n",
       "        text-align: right;\n",
       "    }\n",
       "</style>\n",
       "<table border=\"1\" class=\"dataframe\">\n",
       "  <thead>\n",
       "    <tr>\n",
       "      <th></th>\n",
       "      <th>count</th>\n",
       "      <th>mean</th>\n",
       "    </tr>\n",
       "    <tr>\n",
       "      <th></th>\n",
       "      <th>debt</th>\n",
       "      <th>debt</th>\n",
       "    </tr>\n",
       "    <tr>\n",
       "      <th>having_children</th>\n",
       "      <th></th>\n",
       "      <th></th>\n",
       "    </tr>\n",
       "  </thead>\n",
       "  <tbody>\n",
       "    <tr>\n",
       "      <th>False</th>\n",
       "      <td>14213</td>\n",
       "      <td>0.075424</td>\n",
       "    </tr>\n",
       "    <tr>\n",
       "      <th>True</th>\n",
       "      <td>7240</td>\n",
       "      <td>0.092403</td>\n",
       "    </tr>\n",
       "  </tbody>\n",
       "</table>\n",
       "</div>"
      ],
      "text/plain": [
       "                 count      mean\n",
       "                  debt      debt\n",
       "having_children                 \n",
       "False            14213  0.075424\n",
       "True              7240  0.092403"
      ]
     },
     "execution_count": 90,
     "metadata": {},
     "output_type": "execute_result"
    }
   ],
   "source": [
    "# create a pivot table\n",
    "\n",
    "having_children_pivot = pd.pivot_table(df, index = ['having_children'], values = ['debt'], aggfunc = ['count', 'mean'])\n",
    "\n",
    "# check the result \n",
    "\n",
    "having_children_pivot"
   ]
  },
  {
   "cell_type": "markdown",
   "metadata": {},
   "source": [
    "As we can see above, in both groups, the shares of clients with debt are not significant, about 7.5% for those who have kids and 9.2% for those who do not. It seems even though the second number is slightly higher, the shares of the customers who defaulted on their loans are close enough to conclude that having kids doesn't affect repaying a loan on time.\n",
    "\n",
    "To make sure that my conclusion is correct, I should find a correlation between `having_children` and `debt`. Since both variables are categorical and dichotomous, I can create a 2x2 table and then use a chi-squared test to find out whether the variables are correlated with each other or not."
   ]
  },
  {
   "cell_type": "code",
   "execution_count": 91,
   "metadata": {},
   "outputs": [
    {
     "data": {
      "text/html": [
       "<div>\n",
       "<style scoped>\n",
       "    .dataframe tbody tr th:only-of-type {\n",
       "        vertical-align: middle;\n",
       "    }\n",
       "\n",
       "    .dataframe tbody tr th {\n",
       "        vertical-align: top;\n",
       "    }\n",
       "\n",
       "    .dataframe thead th {\n",
       "        text-align: right;\n",
       "    }\n",
       "</style>\n",
       "<table border=\"1\" class=\"dataframe\">\n",
       "  <thead>\n",
       "    <tr style=\"text-align: right;\">\n",
       "      <th>debt</th>\n",
       "      <th>0</th>\n",
       "      <th>1</th>\n",
       "    </tr>\n",
       "    <tr>\n",
       "      <th>having_children</th>\n",
       "      <th></th>\n",
       "      <th></th>\n",
       "    </tr>\n",
       "  </thead>\n",
       "  <tbody>\n",
       "    <tr>\n",
       "      <th>False</th>\n",
       "      <td>13141</td>\n",
       "      <td>1072</td>\n",
       "    </tr>\n",
       "    <tr>\n",
       "      <th>True</th>\n",
       "      <td>6571</td>\n",
       "      <td>669</td>\n",
       "    </tr>\n",
       "  </tbody>\n",
       "</table>\n",
       "</div>"
      ],
      "text/plain": [
       "debt                 0     1\n",
       "having_children             \n",
       "False            13141  1072\n",
       "True              6571   669"
      ]
     },
     "execution_count": 91,
     "metadata": {},
     "output_type": "execute_result"
    }
   ],
   "source": [
    "# create a crosstable for the `having_children` and `debt` variables\n",
    "\n",
    "having_children_corr = pd.crosstab(index = df['having_children'], columns = df['debt'])\n",
    "\n",
    "# check the result\n",
    "\n",
    "having_children_corr"
   ]
  },
  {
   "cell_type": "code",
   "execution_count": 92,
   "metadata": {},
   "outputs": [
    {
     "name": "stdout",
     "output_type": "stream",
     "text": [
      "The p-value of the chi-squared test is: 0.000019.\n"
     ]
    }
   ],
   "source": [
    "# use `scipy.stats.chi2_contingency` test to find a correlation between `having_children` and `debt` variables\n",
    "\n",
    "print('The p-value of the chi-squared test is: {:f}.'.format(scipy.stats.chi2_contingency(having_children_corr)[1]))"
   ]
  },
  {
   "cell_type": "markdown",
   "metadata": {},
   "source": [
    "Since the p-value is less than 0.05, I fail to reject the null hypothesis (the two variables are independent). This means `having_children` and `debt` variables are correlated. So, I have to admit that my above conclusion was incorrect. Even the differences between customers with children and without them defaulted on their loans is only 1.7%, it's statistically significant. Thus, I can conclude that having children affects repaying a loan on time.\n",
    "\n",
    "Well, what about a connection between a specific number of children and a customer default? I will create a new pivot table with `children` as an index instead of `having_children` and `debt` as values."
   ]
  },
  {
   "cell_type": "code",
   "execution_count": 93,
   "metadata": {},
   "outputs": [
    {
     "data": {
      "text/html": [
       "<div>\n",
       "<style scoped>\n",
       "    .dataframe tbody tr th:only-of-type {\n",
       "        vertical-align: middle;\n",
       "    }\n",
       "\n",
       "    .dataframe tbody tr th {\n",
       "        vertical-align: top;\n",
       "    }\n",
       "\n",
       "    .dataframe thead tr th {\n",
       "        text-align: left;\n",
       "    }\n",
       "\n",
       "    .dataframe thead tr:last-of-type th {\n",
       "        text-align: right;\n",
       "    }\n",
       "</style>\n",
       "<table border=\"1\" class=\"dataframe\">\n",
       "  <thead>\n",
       "    <tr>\n",
       "      <th></th>\n",
       "      <th>count</th>\n",
       "      <th>mean</th>\n",
       "    </tr>\n",
       "    <tr>\n",
       "      <th></th>\n",
       "      <th>debt</th>\n",
       "      <th>debt</th>\n",
       "    </tr>\n",
       "    <tr>\n",
       "      <th>children</th>\n",
       "      <th></th>\n",
       "      <th></th>\n",
       "    </tr>\n",
       "  </thead>\n",
       "  <tbody>\n",
       "    <tr>\n",
       "      <th>0</th>\n",
       "      <td>14213</td>\n",
       "      <td>0.075424</td>\n",
       "    </tr>\n",
       "    <tr>\n",
       "      <th>1</th>\n",
       "      <td>4808</td>\n",
       "      <td>0.092346</td>\n",
       "    </tr>\n",
       "    <tr>\n",
       "      <th>2</th>\n",
       "      <td>2052</td>\n",
       "      <td>0.094542</td>\n",
       "    </tr>\n",
       "    <tr>\n",
       "      <th>3</th>\n",
       "      <td>330</td>\n",
       "      <td>0.081818</td>\n",
       "    </tr>\n",
       "    <tr>\n",
       "      <th>4</th>\n",
       "      <td>41</td>\n",
       "      <td>0.097561</td>\n",
       "    </tr>\n",
       "    <tr>\n",
       "      <th>5</th>\n",
       "      <td>9</td>\n",
       "      <td>0.000000</td>\n",
       "    </tr>\n",
       "  </tbody>\n",
       "</table>\n",
       "</div>"
      ],
      "text/plain": [
       "          count      mean\n",
       "           debt      debt\n",
       "children                 \n",
       "0         14213  0.075424\n",
       "1          4808  0.092346\n",
       "2          2052  0.094542\n",
       "3           330  0.081818\n",
       "4            41  0.097561\n",
       "5             9  0.000000"
      ]
     },
     "execution_count": 93,
     "metadata": {},
     "output_type": "execute_result"
    }
   ],
   "source": [
    "# create a pivot table\n",
    "\n",
    "children_pivot = pd.pivot_table(df, index = ['children'], values = ['debt'], aggfunc = ['count', 'mean'])\n",
    "\n",
    "# check the result \n",
    "\n",
    "children_pivot"
   ]
  },
  {
   "cell_type": "markdown",
   "metadata": {},
   "source": [
    "The only curious result is 0 for people who have 5 children. However, it just means that we do not have enough values to get a full picture of the group of customers having 5 kids since there are only 9 of them.\n",
    "\n",
    "Let's check if there is a correlation between the `children` and `debt` variables. Since the `children` is quantitative continuous and the `debt` is dichotomous, to find the correlation between them, I will calculate a point biserial correlation coefficient and the associated p-value."
   ]
  },
  {
   "cell_type": "code",
   "execution_count": 94,
   "metadata": {},
   "outputs": [
    {
     "name": "stdout",
     "output_type": "stream",
     "text": [
      "The point biserial correlation coefficient is 0.025 and p-value is 0.0003.\n"
     ]
    }
   ],
   "source": [
    "# use `scipy.stats.pointbiserialr` to find a point biserial correlation coefficient and p-value\n",
    "\n",
    "children_coeff = round(scipy.stats.pointbiserialr(df['debt'], df['children'])[0], 3)\n",
    "children_pvalue = round(scipy.stats.pointbiserialr(df['debt'], df['children'])[1], 4)\n",
    "\n",
    "# print the result\n",
    "\n",
    "print('The point biserial correlation coefficient is {} and p-value is {}.'.format(children_coeff, children_pvalue))"
   ]
  },
  {
   "cell_type": "markdown",
   "metadata": {},
   "source": [
    "The positive correlation coefficient indicates that when the variable `debt` takes on the value `1`, the variable `children` tends to take on higher values than when the variable `debt` takes on the value `0`. In other words, the more children a customer has, the more likely they default. This correlation is statistically significant since the p-value is much less than 0.05. However, the coefficient is close to 0, so the specific number of children is not strongly connected with the customer's ability to repay a loan on time."
   ]
  },
  {
   "cell_type": "markdown",
   "metadata": {},
   "source": [
    "### Conclusion\n",
    "\n",
    "According to the results obtained, having children indeed affects repaying a loan on time; the specific number of children is not really important though."
   ]
  },
  {
   "cell_type": "markdown",
   "metadata": {},
   "source": [
    "  "
   ]
  },
  {
   "cell_type": "markdown",
   "metadata": {},
   "source": [
    "   "
   ]
  },
  {
   "cell_type": "markdown",
   "metadata": {},
   "source": [
    "   "
   ]
  },
  {
   "cell_type": "markdown",
   "metadata": {},
   "source": [
    "### __2) Is there a relationship between marital status and repaying a loan on time?__\n",
    "\n",
    "To answer the question, I will use the same idea that I use to answer the previous question and compare the other two customer groups: those who have a partner and those who do not, using `single` variable. I will create a pivot table using `pivot_table()` method with the following parameters: `index = ['single'], values = ['debt'], aggfunc = ['count', 'mean']`. "
   ]
  },
  {
   "cell_type": "code",
   "execution_count": 95,
   "metadata": {},
   "outputs": [
    {
     "data": {
      "text/html": [
       "<div>\n",
       "<style scoped>\n",
       "    .dataframe tbody tr th:only-of-type {\n",
       "        vertical-align: middle;\n",
       "    }\n",
       "\n",
       "    .dataframe tbody tr th {\n",
       "        vertical-align: top;\n",
       "    }\n",
       "\n",
       "    .dataframe thead tr th {\n",
       "        text-align: left;\n",
       "    }\n",
       "\n",
       "    .dataframe thead tr:last-of-type th {\n",
       "        text-align: right;\n",
       "    }\n",
       "</style>\n",
       "<table border=\"1\" class=\"dataframe\">\n",
       "  <thead>\n",
       "    <tr>\n",
       "      <th></th>\n",
       "      <th>count</th>\n",
       "      <th>mean</th>\n",
       "    </tr>\n",
       "    <tr>\n",
       "      <th></th>\n",
       "      <th>debt</th>\n",
       "      <th>debt</th>\n",
       "    </tr>\n",
       "    <tr>\n",
       "      <th>single</th>\n",
       "      <th></th>\n",
       "      <th></th>\n",
       "    </tr>\n",
       "  </thead>\n",
       "  <tbody>\n",
       "    <tr>\n",
       "      <th>False</th>\n",
       "      <td>16489</td>\n",
       "      <td>0.079993</td>\n",
       "    </tr>\n",
       "    <tr>\n",
       "      <th>True</th>\n",
       "      <td>4964</td>\n",
       "      <td>0.085012</td>\n",
       "    </tr>\n",
       "  </tbody>\n",
       "</table>\n",
       "</div>"
      ],
      "text/plain": [
       "        count      mean\n",
       "         debt      debt\n",
       "single                 \n",
       "False   16489  0.079993\n",
       "True     4964  0.085012"
      ]
     },
     "execution_count": 95,
     "metadata": {},
     "output_type": "execute_result"
    }
   ],
   "source": [
    "# create a pivot table\n",
    "\n",
    "marital_status_pivot = pd.pivot_table(df, index = ['single'], values = ['debt'], aggfunc = ['count', 'mean'])\n",
    "\n",
    "# check the result \n",
    "\n",
    "marital_status_pivot"
   ]
  },
  {
   "cell_type": "markdown",
   "metadata": {},
   "source": [
    "The same story as above: only 8% of the single customers and 8.5% of the non-single customers defaulted on their loans; these portions are not very big and almost equal. However, to ensure that the difference is not statistically significant, I will perform a chi-squared test in the same way as before."
   ]
  },
  {
   "cell_type": "code",
   "execution_count": 96,
   "metadata": {},
   "outputs": [
    {
     "data": {
      "text/html": [
       "<div>\n",
       "<style scoped>\n",
       "    .dataframe tbody tr th:only-of-type {\n",
       "        vertical-align: middle;\n",
       "    }\n",
       "\n",
       "    .dataframe tbody tr th {\n",
       "        vertical-align: top;\n",
       "    }\n",
       "\n",
       "    .dataframe thead th {\n",
       "        text-align: right;\n",
       "    }\n",
       "</style>\n",
       "<table border=\"1\" class=\"dataframe\">\n",
       "  <thead>\n",
       "    <tr style=\"text-align: right;\">\n",
       "      <th>debt</th>\n",
       "      <th>0</th>\n",
       "      <th>1</th>\n",
       "    </tr>\n",
       "    <tr>\n",
       "      <th>single</th>\n",
       "      <th></th>\n",
       "      <th></th>\n",
       "    </tr>\n",
       "  </thead>\n",
       "  <tbody>\n",
       "    <tr>\n",
       "      <th>False</th>\n",
       "      <td>15170</td>\n",
       "      <td>1319</td>\n",
       "    </tr>\n",
       "    <tr>\n",
       "      <th>True</th>\n",
       "      <td>4542</td>\n",
       "      <td>422</td>\n",
       "    </tr>\n",
       "  </tbody>\n",
       "</table>\n",
       "</div>"
      ],
      "text/plain": [
       "debt        0     1\n",
       "single             \n",
       "False   15170  1319\n",
       "True     4542   422"
      ]
     },
     "execution_count": 96,
     "metadata": {},
     "output_type": "execute_result"
    }
   ],
   "source": [
    "# create a crosstable for the `single` and `debt` variables\n",
    "\n",
    "marital_status_corr = pd.crosstab(index = df['single'], columns = df['debt'])\n",
    "\n",
    "# check the result\n",
    "\n",
    "marital_status_corr"
   ]
  },
  {
   "cell_type": "code",
   "execution_count": 97,
   "metadata": {},
   "outputs": [
    {
     "name": "stdout",
     "output_type": "stream",
     "text": [
      "The p-value of the chi-squared test is: 0.269.\n"
     ]
    }
   ],
   "source": [
    "# use `scipy.stats.chi2_contingency` test to find a correlation between `single` and `debt` variable and print the result\n",
    "\n",
    "print('The p-value of the chi-squared test is: {}.'.format(round(scipy.stats.chi2_contingency(marital_status_corr)[1], 3)))"
   ]
  },
  {
   "cell_type": "markdown",
   "metadata": {},
   "source": [
    "Since p-value is greater than 0.05, I can conclude there is no correlation between having a partner and on-time repayment of a loan. However, maybe there is a connection between a specific marital status and a customer default? Let's check it using `family_status` variable to create a pivot table. "
   ]
  },
  {
   "cell_type": "code",
   "execution_count": 98,
   "metadata": {},
   "outputs": [
    {
     "data": {
      "text/html": [
       "<div>\n",
       "<style scoped>\n",
       "    .dataframe tbody tr th:only-of-type {\n",
       "        vertical-align: middle;\n",
       "    }\n",
       "\n",
       "    .dataframe tbody tr th {\n",
       "        vertical-align: top;\n",
       "    }\n",
       "\n",
       "    .dataframe thead tr th {\n",
       "        text-align: left;\n",
       "    }\n",
       "\n",
       "    .dataframe thead tr:last-of-type th {\n",
       "        text-align: right;\n",
       "    }\n",
       "</style>\n",
       "<table border=\"1\" class=\"dataframe\">\n",
       "  <thead>\n",
       "    <tr>\n",
       "      <th></th>\n",
       "      <th>count</th>\n",
       "      <th>mean</th>\n",
       "    </tr>\n",
       "    <tr>\n",
       "      <th></th>\n",
       "      <th>debt</th>\n",
       "      <th>debt</th>\n",
       "    </tr>\n",
       "    <tr>\n",
       "      <th>family_status</th>\n",
       "      <th></th>\n",
       "      <th></th>\n",
       "    </tr>\n",
       "  </thead>\n",
       "  <tbody>\n",
       "    <tr>\n",
       "      <th>civil partnership</th>\n",
       "      <td>4151</td>\n",
       "      <td>0.093471</td>\n",
       "    </tr>\n",
       "    <tr>\n",
       "      <th>divorced</th>\n",
       "      <td>1195</td>\n",
       "      <td>0.071130</td>\n",
       "    </tr>\n",
       "    <tr>\n",
       "      <th>married</th>\n",
       "      <td>12338</td>\n",
       "      <td>0.075458</td>\n",
       "    </tr>\n",
       "    <tr>\n",
       "      <th>unmarried</th>\n",
       "      <td>2810</td>\n",
       "      <td>0.097509</td>\n",
       "    </tr>\n",
       "    <tr>\n",
       "      <th>widow / widower</th>\n",
       "      <td>959</td>\n",
       "      <td>0.065693</td>\n",
       "    </tr>\n",
       "  </tbody>\n",
       "</table>\n",
       "</div>"
      ],
      "text/plain": [
       "                   count      mean\n",
       "                    debt      debt\n",
       "family_status                     \n",
       "civil partnership   4151  0.093471\n",
       "divorced            1195  0.071130\n",
       "married            12338  0.075458\n",
       "unmarried           2810  0.097509\n",
       "widow / widower      959  0.065693"
      ]
     },
     "execution_count": 98,
     "metadata": {},
     "output_type": "execute_result"
    }
   ],
   "source": [
    "# create a pivot table\n",
    "\n",
    "family_status_pivot = pd.pivot_table(df, index = ['family_status'], values = ['debt'], aggfunc = ['count', 'mean'])\n",
    "\n",
    "# check the result \n",
    "\n",
    "family_status_pivot"
   ]
  },
  {
   "cell_type": "markdown",
   "metadata": {},
   "source": [
    "As we can see, the proportions of defaulters range from 0.07 to almost 0.1. To check if the proportions differ from each other statistically significant, I will perform a chi-squared test for the `family_status` and `debt` variables."
   ]
  },
  {
   "cell_type": "code",
   "execution_count": 99,
   "metadata": {},
   "outputs": [
    {
     "data": {
      "text/html": [
       "<div>\n",
       "<style scoped>\n",
       "    .dataframe tbody tr th:only-of-type {\n",
       "        vertical-align: middle;\n",
       "    }\n",
       "\n",
       "    .dataframe tbody tr th {\n",
       "        vertical-align: top;\n",
       "    }\n",
       "\n",
       "    .dataframe thead th {\n",
       "        text-align: right;\n",
       "    }\n",
       "</style>\n",
       "<table border=\"1\" class=\"dataframe\">\n",
       "  <thead>\n",
       "    <tr style=\"text-align: right;\">\n",
       "      <th>family_status</th>\n",
       "      <th>civil partnership</th>\n",
       "      <th>divorced</th>\n",
       "      <th>married</th>\n",
       "      <th>unmarried</th>\n",
       "      <th>widow / widower</th>\n",
       "    </tr>\n",
       "    <tr>\n",
       "      <th>debt</th>\n",
       "      <th></th>\n",
       "      <th></th>\n",
       "      <th></th>\n",
       "      <th></th>\n",
       "      <th></th>\n",
       "    </tr>\n",
       "  </thead>\n",
       "  <tbody>\n",
       "    <tr>\n",
       "      <th>0</th>\n",
       "      <td>3763</td>\n",
       "      <td>1110</td>\n",
       "      <td>11407</td>\n",
       "      <td>2536</td>\n",
       "      <td>896</td>\n",
       "    </tr>\n",
       "    <tr>\n",
       "      <th>1</th>\n",
       "      <td>388</td>\n",
       "      <td>85</td>\n",
       "      <td>931</td>\n",
       "      <td>274</td>\n",
       "      <td>63</td>\n",
       "    </tr>\n",
       "  </tbody>\n",
       "</table>\n",
       "</div>"
      ],
      "text/plain": [
       "family_status  civil partnership  divorced  married  unmarried  \\\n",
       "debt                                                             \n",
       "0                           3763      1110    11407       2536   \n",
       "1                            388        85      931        274   \n",
       "\n",
       "family_status  widow / widower  \n",
       "debt                            \n",
       "0                          896  \n",
       "1                           63  "
      ]
     },
     "execution_count": 99,
     "metadata": {},
     "output_type": "execute_result"
    }
   ],
   "source": [
    "# create a new table with only `family_status` and `debt` variables\n",
    "\n",
    "fm_corr = df[['family_status', 'debt']]\n",
    "\n",
    "# create a crosstable for further calculation\n",
    "\n",
    "fm_corr = pd.crosstab(index = fm_corr['debt'], columns = fm_corr['family_status'])\n",
    "\n",
    "# check the result\n",
    "\n",
    "fm_corr"
   ]
  },
  {
   "cell_type": "code",
   "execution_count": 100,
   "metadata": {},
   "outputs": [
    {
     "name": "stdout",
     "output_type": "stream",
     "text": [
      "The p-value of the chi-squared test is: 0.000010.\n"
     ]
    }
   ],
   "source": [
    "# use `scipy.stats.chi2_contingency` test to find a correlation between the `family_status` and `debt` variable and print the result\n",
    "\n",
    "print('The p-value of the chi-squared test is: {:f}.'.format(scipy.stats.chi2_contingency(fm_corr)[1]))"
   ]
  },
  {
   "cell_type": "markdown",
   "metadata": {},
   "source": [
    "Since the p-value is less than 0.05, I can conclude that there is an association between family status and repaying their loan on time. So the most disciplined borrowers are widows and widowers, and the least are unmarried customers. "
   ]
  },
  {
   "cell_type": "markdown",
   "metadata": {},
   "source": [
    "### Conclusion\n",
    "\n",
    "The results allow me to say that customers' marital status is correlated with their ability to repay a loan on time. Widowed and divorced clients are more disciplined than unmarried and those who are in a common-law relationship."
   ]
  },
  {
   "cell_type": "markdown",
   "metadata": {},
   "source": [
    "    "
   ]
  },
  {
   "cell_type": "markdown",
   "metadata": {},
   "source": [
    "   "
   ]
  },
  {
   "cell_type": "markdown",
   "metadata": {},
   "source": [
    "### __3) Is there a relation between income level and repaying a loan on time?__\n",
    "\n",
    "Again, I will compare some customer groups but this time with varying levels of income, creating a pivot table using `pivot_table()` method with the following parameters: `index = ['income_level'], values = ['debt'], aggfunc = ['count', 'mean']`."
   ]
  },
  {
   "cell_type": "code",
   "execution_count": 101,
   "metadata": {},
   "outputs": [
    {
     "data": {
      "text/html": [
       "<div>\n",
       "<style scoped>\n",
       "    .dataframe tbody tr th:only-of-type {\n",
       "        vertical-align: middle;\n",
       "    }\n",
       "\n",
       "    .dataframe tbody tr th {\n",
       "        vertical-align: top;\n",
       "    }\n",
       "\n",
       "    .dataframe thead tr th {\n",
       "        text-align: left;\n",
       "    }\n",
       "\n",
       "    .dataframe thead tr:last-of-type th {\n",
       "        text-align: right;\n",
       "    }\n",
       "</style>\n",
       "<table border=\"1\" class=\"dataframe\">\n",
       "  <thead>\n",
       "    <tr>\n",
       "      <th></th>\n",
       "      <th>count</th>\n",
       "      <th>mean</th>\n",
       "    </tr>\n",
       "    <tr>\n",
       "      <th></th>\n",
       "      <th>debt</th>\n",
       "      <th>debt</th>\n",
       "    </tr>\n",
       "    <tr>\n",
       "      <th>income_level</th>\n",
       "      <th></th>\n",
       "      <th></th>\n",
       "    </tr>\n",
       "  </thead>\n",
       "  <tbody>\n",
       "    <tr>\n",
       "      <th>(0.0, 9875.0]</th>\n",
       "      <td>884</td>\n",
       "      <td>0.064480</td>\n",
       "    </tr>\n",
       "    <tr>\n",
       "      <th>(9875.0, 40125.0]</th>\n",
       "      <td>17776</td>\n",
       "      <td>0.083821</td>\n",
       "    </tr>\n",
       "    <tr>\n",
       "      <th>(40125.0, 85525.0]</th>\n",
       "      <td>2623</td>\n",
       "      <td>0.070149</td>\n",
       "    </tr>\n",
       "    <tr>\n",
       "      <th>(85525.0, 163300.0]</th>\n",
       "      <td>147</td>\n",
       "      <td>0.054422</td>\n",
       "    </tr>\n",
       "    <tr>\n",
       "      <th>(163300.0, inf]</th>\n",
       "      <td>23</td>\n",
       "      <td>0.086957</td>\n",
       "    </tr>\n",
       "  </tbody>\n",
       "</table>\n",
       "</div>"
      ],
      "text/plain": [
       "                     count      mean\n",
       "                      debt      debt\n",
       "income_level                        \n",
       "(0.0, 9875.0]          884  0.064480\n",
       "(9875.0, 40125.0]    17776  0.083821\n",
       "(40125.0, 85525.0]    2623  0.070149\n",
       "(85525.0, 163300.0]    147  0.054422\n",
       "(163300.0, inf]         23  0.086957"
      ]
     },
     "execution_count": 101,
     "metadata": {},
     "output_type": "execute_result"
    }
   ],
   "source": [
    "# create a pivot table\n",
    "\n",
    "income_level_pivot = pd.pivot_table(df, index = ['income_level'], values = ['debt'], aggfunc = ['count', 'mean'])\n",
    "\n",
    "# check the result \n",
    "\n",
    "income_level_pivot"
   ]
  },
  {
   "cell_type": "markdown",
   "metadata": {},
   "source": [
    "The shares of the customers with varying income levels who were not repaying their loans in time are also not much different: the proportions of defaulters range from 0.05 to almost 0.09.\n",
    "\n",
    "However, I can check if there is a correlation between the `total_income` (quantitative continuous) and `debt` (dichotomous) variables by calculating a point biserial correlation coefficient and the associated p-value.|"
   ]
  },
  {
   "cell_type": "code",
   "execution_count": 102,
   "metadata": {},
   "outputs": [
    {
     "name": "stdout",
     "output_type": "stream",
     "text": [
      "The point biserial correlation coefficient is -0.013 and p-value is 0.066.\n"
     ]
    }
   ],
   "source": [
    "# use `scipy.stats.pointbiserialr` to find a point biserial correlation coefficient and p-value\n",
    "\n",
    "pbs_coeff = round(scipy.stats.pointbiserialr(df['debt'], df['total_income'])[0], 3)\n",
    "pbs_pvalue = round(scipy.stats.pointbiserialr(df['debt'], df['total_income'])[1], 3)\n",
    "\n",
    "# print the result\n",
    "\n",
    "print('The point biserial correlation coefficient is {} and p-value is {}.'.format(pbs_coeff, pbs_pvalue))"
   ]
  },
  {
   "cell_type": "markdown",
   "metadata": {},
   "source": [
    "The correlation coefficient is negative, which indicates that when the variable `debt` takes on the value `0`, the variable `total_income` tends to take on higher values than when the variable `debt` takes on the value `1`. In other words, the higher the customers' income, the less likely they default. However, the coefficient is close to 0, which means that the correlation is not strong. The p-value is greater than 0.05, which means that the correlation is also not statistically significant. \n",
    "\n",
    "### Conclusion\n",
    "\n",
    "The results obtained allow me to conclude that even if there is some positive correlation between income amount and the tendency of repaying a loan on time, this correlation is weak and not statistically significant."
   ]
  },
  {
   "cell_type": "markdown",
   "metadata": {},
   "source": [
    "   "
   ]
  },
  {
   "cell_type": "markdown",
   "metadata": {},
   "source": [
    "   "
   ]
  },
  {
   "cell_type": "markdown",
   "metadata": {},
   "source": [
    "### __4) How do different loan purposes affect on-time repayment of a loan?__\n",
    "\n",
    "The answer to the question requires the same actions as before: compare customer groups creating a pivot table. Since the loan purposes are represented by the `purpose_category` variable the following parameters of the `pivot_table()` method will be used: `index = ['purpose_category'], values = ['debt'], aggfunc = ['count', 'mean']`."
   ]
  },
  {
   "cell_type": "code",
   "execution_count": 103,
   "metadata": {},
   "outputs": [
    {
     "data": {
      "text/html": [
       "<div>\n",
       "<style scoped>\n",
       "    .dataframe tbody tr th:only-of-type {\n",
       "        vertical-align: middle;\n",
       "    }\n",
       "\n",
       "    .dataframe tbody tr th {\n",
       "        vertical-align: top;\n",
       "    }\n",
       "\n",
       "    .dataframe thead tr th {\n",
       "        text-align: left;\n",
       "    }\n",
       "\n",
       "    .dataframe thead tr:last-of-type th {\n",
       "        text-align: right;\n",
       "    }\n",
       "</style>\n",
       "<table border=\"1\" class=\"dataframe\">\n",
       "  <thead>\n",
       "    <tr>\n",
       "      <th></th>\n",
       "      <th>count</th>\n",
       "      <th>mean</th>\n",
       "    </tr>\n",
       "    <tr>\n",
       "      <th></th>\n",
       "      <th>debt</th>\n",
       "      <th>debt</th>\n",
       "    </tr>\n",
       "    <tr>\n",
       "      <th>purpose_category</th>\n",
       "      <th></th>\n",
       "      <th></th>\n",
       "    </tr>\n",
       "  </thead>\n",
       "  <tbody>\n",
       "    <tr>\n",
       "      <th>car</th>\n",
       "      <td>4306</td>\n",
       "      <td>0.093590</td>\n",
       "    </tr>\n",
       "    <tr>\n",
       "      <th>education</th>\n",
       "      <td>4013</td>\n",
       "      <td>0.092200</td>\n",
       "    </tr>\n",
       "    <tr>\n",
       "      <th>real estate</th>\n",
       "      <td>10810</td>\n",
       "      <td>0.072340</td>\n",
       "    </tr>\n",
       "    <tr>\n",
       "      <th>wedding</th>\n",
       "      <td>2324</td>\n",
       "      <td>0.080034</td>\n",
       "    </tr>\n",
       "  </tbody>\n",
       "</table>\n",
       "</div>"
      ],
      "text/plain": [
       "                  count      mean\n",
       "                   debt      debt\n",
       "purpose_category                 \n",
       "car                4306  0.093590\n",
       "education          4013  0.092200\n",
       "real estate       10810  0.072340\n",
       "wedding            2324  0.080034"
      ]
     },
     "execution_count": 103,
     "metadata": {},
     "output_type": "execute_result"
    }
   ],
   "source": [
    "# create a pivot table\n",
    "\n",
    "purposes_pivot = pd.pivot_table(df, index = ['purpose_category'], values = ['debt'], aggfunc = ['count', 'mean'])\n",
    "\n",
    "# check the result \n",
    "\n",
    "purposes_pivot"
   ]
  },
  {
   "cell_type": "markdown",
   "metadata": {},
   "source": [
    "As we can see, the customers with different loan purposes defaulted on their loans in almost equal proportions. However, it seems that customers who took a loan to buy a car or get an education failed to repay their loans more often. \n",
    "\n",
    "I will perform a chi-squared test for the `purpose_category` and `debt` variables to check if the proportions differ from each other statistically significant. To do this, I will create a cross table using `purpose_category` and `debt` columns."
   ]
  },
  {
   "cell_type": "code",
   "execution_count": 104,
   "metadata": {},
   "outputs": [
    {
     "data": {
      "text/html": [
       "<div>\n",
       "<style scoped>\n",
       "    .dataframe tbody tr th:only-of-type {\n",
       "        vertical-align: middle;\n",
       "    }\n",
       "\n",
       "    .dataframe tbody tr th {\n",
       "        vertical-align: top;\n",
       "    }\n",
       "\n",
       "    .dataframe thead th {\n",
       "        text-align: right;\n",
       "    }\n",
       "</style>\n",
       "<table border=\"1\" class=\"dataframe\">\n",
       "  <thead>\n",
       "    <tr style=\"text-align: right;\">\n",
       "      <th>purpose_category</th>\n",
       "      <th>car</th>\n",
       "      <th>education</th>\n",
       "      <th>real estate</th>\n",
       "      <th>wedding</th>\n",
       "    </tr>\n",
       "    <tr>\n",
       "      <th>debt</th>\n",
       "      <th></th>\n",
       "      <th></th>\n",
       "      <th></th>\n",
       "      <th></th>\n",
       "    </tr>\n",
       "  </thead>\n",
       "  <tbody>\n",
       "    <tr>\n",
       "      <th>0</th>\n",
       "      <td>3903</td>\n",
       "      <td>3643</td>\n",
       "      <td>10028</td>\n",
       "      <td>2138</td>\n",
       "    </tr>\n",
       "    <tr>\n",
       "      <th>1</th>\n",
       "      <td>403</td>\n",
       "      <td>370</td>\n",
       "      <td>782</td>\n",
       "      <td>186</td>\n",
       "    </tr>\n",
       "  </tbody>\n",
       "</table>\n",
       "</div>"
      ],
      "text/plain": [
       "purpose_category   car  education  real estate  wedding\n",
       "debt                                                   \n",
       "0                 3903       3643        10028     2138\n",
       "1                  403        370          782      186"
      ]
     },
     "execution_count": 104,
     "metadata": {},
     "output_type": "execute_result"
    }
   ],
   "source": [
    "# create a crosstable for the `purpose_category` and `debt` variables\n",
    "\n",
    "pc_corr = pd.crosstab(index = df['debt'], columns = df['purpose_category'])\n",
    "\n",
    "# check the result\n",
    "\n",
    "pc_corr"
   ]
  },
  {
   "cell_type": "code",
   "execution_count": null,
   "metadata": {},
   "outputs": [],
   "source": [
    "# use `scipy.stats.chi2_contingency` test to find a correlation between the `family_status` and `debt` variable and print the result\n",
    "\n",
    "print('The p-value of the chi-squared test is: {:f}.'.format(scipy.stats.chi2_contingency(pc_corr)[1]))"
   ]
  },
  {
   "cell_type": "markdown",
   "metadata": {},
   "source": [
    "The p-value is less than 0.05. This allows us to conclude that the difference in repaying a loan on time among the customers with different loan purposes is statistically significant. "
   ]
  },
  {
   "cell_type": "markdown",
   "metadata": {},
   "source": [
    "### Conclusion"
   ]
  },
  {
   "cell_type": "markdown",
   "metadata": {},
   "source": [
    "Based on the results obtained, I can conclude that the different loan purposes do affect on-time repayment of a loan. The customers who took a loan to buy a car or get an education are more likely to be unable to repay their loans."
   ]
  },
  {
   "cell_type": "markdown",
   "metadata": {},
   "source": [
    "   "
   ]
  },
  {
   "cell_type": "markdown",
   "metadata": {},
   "source": [
    "<a id='step4'><a>\n",
    "## __General conclusion__"
   ]
  },
  {
   "cell_type": "markdown",
   "metadata": {},
   "source": [
    "The subject of this analysis was a Credit Scoring dataset describing more than 200 hundred customers who took a loan in a bank. The dataset contains information about their age, gender, education, work experience, family and financial situation, and even their loan purposes. The main goal of the analysis was to find a connection between specific customers' features and repaying their loans on time. I analyzed the following features: number of children, marital status, level of income and a reason for a loan.\n",
    "\n",
    "In the first step of the project, I obtained general information about the dataset and its variables and identified the main issues that should have been fixed before the analysis. I found duplicated rows, missing and zero values, incorrect data types, unrealistic values, unclear variable naming, inconsistent use of capitalization and variable values that should have been reduced. \n",
    "\n",
    "Then, I preprocessed the dataset and prepared for the exploratory analysis, working on all the dataset's flaws discovered at the previous stage. The only problematic variable, \"days_employed,\" remained unchanged since no patterns that could help to restore this broken data were found. However, the variable wasn't crucial for further analysis; otherwise, it would be reasonable to conduct more complex research and eventually find the right way to fix the variable.\n",
    "\n",
    "Finally, I analyzed connections between repaying a loan on time and customer's number of children, marital status, level of income, their loan purposes answered to find the riskiest category of customers. \n",
    "\n",
    "- I can safely say that the main factor the bank should consider when giving a loan is whether a customer has children or not. There is also a tendency that the more children a customer has, the more likely they default, though it's not that pronounced. \n",
    "\n",
    "- I can safely recommend considering the marital status when giving a loan: the most reliable borrowers are widowed people, and the least - unmarried.\n",
    "\n",
    "- The income level should not be a crucial factor for approval of a loan application since the positive correlation between customer's income and their ability to repay the loan on time is weak and not statistically significant.\n",
    "\n",
    "- Finally, a specific loan purpose can also be considered an important factor when giving a loan. Clients who take loans to buy a car or get an education more often default on their loans.\n",
    "\n",
    "Considering the above, I can say that the riskiest category of customers is clients with kids or unmarried or who need a loan to buy a car or get an education. These customers do not repay their loans more often than other customers."
   ]
  },
  {
   "cell_type": "markdown",
   "metadata": {},
   "source": [
    "   "
   ]
  }
 ],
 "metadata": {
  "kernelspec": {
   "display_name": "Python 3",
   "language": "python",
   "name": "python3"
  },
  "language_info": {
   "codemirror_mode": {
    "name": "ipython",
    "version": 3
   },
   "file_extension": ".py",
   "mimetype": "text/x-python",
   "name": "python",
   "nbconvert_exporter": "python",
   "pygments_lexer": "ipython3",
   "version": "3.8.5"
  }
 },
 "nbformat": 4,
 "nbformat_minor": 4
}
